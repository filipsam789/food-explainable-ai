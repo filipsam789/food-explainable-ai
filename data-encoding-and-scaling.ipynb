{
 "cells": [
  {
   "cell_type": "code",
   "execution_count": 16,
   "outputs": [],
   "source": [
    "import pandas as pd\n",
    "from sklearn.preprocessing import RobustScaler\n",
    "import category_encoders as ce"
   ],
   "metadata": {
    "collapsed": false
   }
  },
  {
   "cell_type": "code",
   "execution_count": 17,
   "outputs": [],
   "source": [
    "data = pd.read_csv('./data/data.csv')"
   ],
   "metadata": {
    "collapsed": false
   }
  },
  {
   "cell_type": "code",
   "execution_count": 18,
   "outputs": [],
   "source": [
    "binary_encoder = ce.BinaryEncoder(cols=['Item', 'Area'])\n",
    "data=binary_encoder.fit_transform(data)"
   ],
   "metadata": {
    "collapsed": false
   }
  },
  {
   "cell_type": "code",
   "execution_count": 19,
   "outputs": [],
   "source": [
    "numerical_columns=['Food Inflation Rate', 'Raw GDP', 'GDP Growth Rate','Item Price Per Tonne', 'Overall Inflation Rate']"
   ],
   "metadata": {
    "collapsed": false
   }
  },
  {
   "cell_type": "code",
   "execution_count": 20,
   "outputs": [
    {
     "name": "stderr",
     "output_type": "stream",
     "text": [
      "C:\\Users\\Tamara\\venv\\lib\\site-packages\\sklearn\\utils\\validation.py:767: FutureWarning: is_sparse is deprecated and will be removed in a future version. Check `isinstance(dtype, pd.SparseDtype)` instead.\n",
      "  if not hasattr(array, \"sparse\") and array.dtypes.apply(is_sparse).any():\n",
      "C:\\Users\\Tamara\\venv\\lib\\site-packages\\sklearn\\utils\\validation.py:605: FutureWarning: is_sparse is deprecated and will be removed in a future version. Check `isinstance(dtype, pd.SparseDtype)` instead.\n",
      "  if is_sparse(pd_dtype):\n",
      "C:\\Users\\Tamara\\venv\\lib\\site-packages\\sklearn\\utils\\validation.py:614: FutureWarning: is_sparse is deprecated and will be removed in a future version. Check `isinstance(dtype, pd.SparseDtype)` instead.\n",
      "  if is_sparse(pd_dtype) or not is_extension_array_dtype(pd_dtype):\n",
      "C:\\Users\\Tamara\\venv\\lib\\site-packages\\sklearn\\utils\\validation.py:767: FutureWarning: is_sparse is deprecated and will be removed in a future version. Check `isinstance(dtype, pd.SparseDtype)` instead.\n",
      "  if not hasattr(array, \"sparse\") and array.dtypes.apply(is_sparse).any():\n",
      "C:\\Users\\Tamara\\venv\\lib\\site-packages\\sklearn\\utils\\validation.py:605: FutureWarning: is_sparse is deprecated and will be removed in a future version. Check `isinstance(dtype, pd.SparseDtype)` instead.\n",
      "  if is_sparse(pd_dtype):\n",
      "C:\\Users\\Tamara\\venv\\lib\\site-packages\\sklearn\\utils\\validation.py:614: FutureWarning: is_sparse is deprecated and will be removed in a future version. Check `isinstance(dtype, pd.SparseDtype)` instead.\n",
      "  if is_sparse(pd_dtype) or not is_extension_array_dtype(pd_dtype):\n"
     ]
    }
   ],
   "source": [
    "scaler = RobustScaler()\n",
    "numerical_columns.append('Year')\n",
    "\n",
    "data[numerical_columns] = scaler.fit_transform(data[numerical_columns])"
   ],
   "metadata": {
    "collapsed": false
   }
  },
  {
   "cell_type": "code",
   "execution_count": 21,
   "outputs": [
    {
     "data": {
      "text/plain": "   Area_0  Area_1  Area_2  Area_3  Area_4      Year  Food Inflation Rate  \\\n0       0       0       0       0       1 -0.833333             0.160705   \n1       0       0       0       0       1 -0.833333             0.160705   \n2       0       0       0       0       1 -0.833333             0.160705   \n3       0       0       0       0       1 -0.833333             0.160705   \n4       0       0       0       0       1 -0.833333             0.160705   \n\n    Raw GDP  GDP Growth Rate  Item_0  Item_1  Item_2  Item_3  Item_4  Item_5  \\\n0 -0.422628        -0.784202       0       0       0       0       0       0   \n1 -0.422628        -0.784202       0       0       0       0       0       0   \n2 -0.422628        -0.784202       0       0       0       0       0       0   \n3 -0.422628        -0.784202       0       0       0       0       0       1   \n4 -0.422628        -0.784202       0       0       0       0       0       1   \n\n   Item_6  Item_7  Item Price Per Tonne  Overall Inflation Rate  \n0       0       1             -0.299190                0.708333  \n1       1       0             -0.229156                0.708333  \n2       1       1             -0.330420                0.708333  \n3       0       0              0.395618                0.708333  \n4       0       1             -0.396085                0.708333  ",
      "text/html": "<div>\n<style scoped>\n    .dataframe tbody tr th:only-of-type {\n        vertical-align: middle;\n    }\n\n    .dataframe tbody tr th {\n        vertical-align: top;\n    }\n\n    .dataframe thead th {\n        text-align: right;\n    }\n</style>\n<table border=\"1\" class=\"dataframe\">\n  <thead>\n    <tr style=\"text-align: right;\">\n      <th></th>\n      <th>Area_0</th>\n      <th>Area_1</th>\n      <th>Area_2</th>\n      <th>Area_3</th>\n      <th>Area_4</th>\n      <th>Year</th>\n      <th>Food Inflation Rate</th>\n      <th>Raw GDP</th>\n      <th>GDP Growth Rate</th>\n      <th>Item_0</th>\n      <th>Item_1</th>\n      <th>Item_2</th>\n      <th>Item_3</th>\n      <th>Item_4</th>\n      <th>Item_5</th>\n      <th>Item_6</th>\n      <th>Item_7</th>\n      <th>Item Price Per Tonne</th>\n      <th>Overall Inflation Rate</th>\n    </tr>\n  </thead>\n  <tbody>\n    <tr>\n      <th>0</th>\n      <td>0</td>\n      <td>0</td>\n      <td>0</td>\n      <td>0</td>\n      <td>1</td>\n      <td>-0.833333</td>\n      <td>0.160705</td>\n      <td>-0.422628</td>\n      <td>-0.784202</td>\n      <td>0</td>\n      <td>0</td>\n      <td>0</td>\n      <td>0</td>\n      <td>0</td>\n      <td>0</td>\n      <td>0</td>\n      <td>1</td>\n      <td>-0.299190</td>\n      <td>0.708333</td>\n    </tr>\n    <tr>\n      <th>1</th>\n      <td>0</td>\n      <td>0</td>\n      <td>0</td>\n      <td>0</td>\n      <td>1</td>\n      <td>-0.833333</td>\n      <td>0.160705</td>\n      <td>-0.422628</td>\n      <td>-0.784202</td>\n      <td>0</td>\n      <td>0</td>\n      <td>0</td>\n      <td>0</td>\n      <td>0</td>\n      <td>0</td>\n      <td>1</td>\n      <td>0</td>\n      <td>-0.229156</td>\n      <td>0.708333</td>\n    </tr>\n    <tr>\n      <th>2</th>\n      <td>0</td>\n      <td>0</td>\n      <td>0</td>\n      <td>0</td>\n      <td>1</td>\n      <td>-0.833333</td>\n      <td>0.160705</td>\n      <td>-0.422628</td>\n      <td>-0.784202</td>\n      <td>0</td>\n      <td>0</td>\n      <td>0</td>\n      <td>0</td>\n      <td>0</td>\n      <td>0</td>\n      <td>1</td>\n      <td>1</td>\n      <td>-0.330420</td>\n      <td>0.708333</td>\n    </tr>\n    <tr>\n      <th>3</th>\n      <td>0</td>\n      <td>0</td>\n      <td>0</td>\n      <td>0</td>\n      <td>1</td>\n      <td>-0.833333</td>\n      <td>0.160705</td>\n      <td>-0.422628</td>\n      <td>-0.784202</td>\n      <td>0</td>\n      <td>0</td>\n      <td>0</td>\n      <td>0</td>\n      <td>0</td>\n      <td>1</td>\n      <td>0</td>\n      <td>0</td>\n      <td>0.395618</td>\n      <td>0.708333</td>\n    </tr>\n    <tr>\n      <th>4</th>\n      <td>0</td>\n      <td>0</td>\n      <td>0</td>\n      <td>0</td>\n      <td>1</td>\n      <td>-0.833333</td>\n      <td>0.160705</td>\n      <td>-0.422628</td>\n      <td>-0.784202</td>\n      <td>0</td>\n      <td>0</td>\n      <td>0</td>\n      <td>0</td>\n      <td>0</td>\n      <td>1</td>\n      <td>0</td>\n      <td>1</td>\n      <td>-0.396085</td>\n      <td>0.708333</td>\n    </tr>\n  </tbody>\n</table>\n</div>"
     },
     "execution_count": 21,
     "metadata": {},
     "output_type": "execute_result"
    }
   ],
   "source": [
    "data.head()"
   ],
   "metadata": {
    "collapsed": false
   }
  },
  {
   "cell_type": "code",
   "execution_count": 22,
   "outputs": [],
   "source": [
    "data.to_csv('./data/data-processed.csv', index=False)"
   ],
   "metadata": {
    "collapsed": false
   }
  }
 ],
 "metadata": {
  "kernelspec": {
   "display_name": "Python 3",
   "language": "python",
   "name": "python3"
  },
  "language_info": {
   "codemirror_mode": {
    "name": "ipython",
    "version": 2
   },
   "file_extension": ".py",
   "mimetype": "text/x-python",
   "name": "python",
   "nbconvert_exporter": "python",
   "pygments_lexer": "ipython2",
   "version": "2.7.6"
  }
 },
 "nbformat": 4,
 "nbformat_minor": 0
}
