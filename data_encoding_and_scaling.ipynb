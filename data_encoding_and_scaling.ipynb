{
 "cells": [
  {
   "cell_type": "code",
   "execution_count": 90,
   "outputs": [],
   "source": [
    "import pandas as pd\n",
    "from sklearn.preprocessing import RobustScaler\n",
    "import category_encoders as ce\n",
    "from sklearn.preprocessing import LabelEncoder\n",
    "import joblib"
   ],
   "metadata": {
    "collapsed": false
   }
  },
  {
   "cell_type": "code",
   "execution_count": 91,
   "outputs": [],
   "source": [
    "data = pd.read_csv('./data/data.csv')"
   ],
   "metadata": {
    "collapsed": false
   }
  },
  {
   "cell_type": "code",
   "execution_count": 92,
   "outputs": [],
   "source": [
    "# binary_encoder = ce.BinaryEncoder(cols=['Item', 'Area'])\n",
    "# data=binary_encoder.fit_transform(data)"
   ],
   "metadata": {
    "collapsed": false
   }
  },
  {
   "cell_type": "code",
   "execution_count": 93,
   "outputs": [],
   "source": [
    "label_encoder = LabelEncoder()"
   ],
   "metadata": {
    "collapsed": false
   }
  },
  {
   "cell_type": "code",
   "execution_count": 94,
   "outputs": [],
   "source": [
    "data ['Item'] = label_encoder.fit_transform(data['Item'])"
   ],
   "metadata": {
    "collapsed": false
   }
  },
  {
   "cell_type": "code",
   "execution_count": 95,
   "outputs": [],
   "source": [
    "data['Area'] = label_encoder.fit_transform(data['Area'])"
   ],
   "metadata": {
    "collapsed": false
   }
  },
  {
   "cell_type": "code",
   "execution_count": 96,
   "outputs": [],
   "source": [
    "joblib.dump(label_encoder, 'label_encoder.joblib')"
   ],
   "metadata": {
    "collapsed": false
   }
  },
  {
   "cell_type": "code",
   "execution_count": 97,
   "outputs": [],
   "source": [
    "numerical_columns=['Food Inflation Rate', 'Raw GDP', 'GDP Growth Rate','Item Price Per Tonne', 'Overall Inflation Rate', 'Item', 'Area']"
   ],
   "metadata": {
    "collapsed": false
   }
  },
  {
   "cell_type": "code",
   "execution_count": 98,
   "outputs": [
    {
     "data": {
      "text/plain": "['Food Inflation Rate',\n 'Raw GDP',\n 'GDP Growth Rate',\n 'Item Price Per Tonne',\n 'Overall Inflation Rate',\n 'Item',\n 'Area']"
     },
     "execution_count": 98,
     "metadata": {},
     "output_type": "execute_result"
    }
   ],
   "source": [
    "numerical_columns"
   ],
   "metadata": {
    "collapsed": false
   }
  },
  {
   "cell_type": "code",
   "execution_count": 99,
   "outputs": [],
   "source": [
    "scaler = RobustScaler()\n",
    "numerical_columns.append('Year')\n",
    "\n",
    "data[numerical_columns] = scaler.fit_transform(data[numerical_columns])"
   ],
   "metadata": {
    "collapsed": false
   }
  },
  {
   "cell_type": "code",
   "execution_count": 100,
   "outputs": [],
   "source": [
    "joblib.dump(scaler, 'scaler.joblib')"
   ],
   "metadata": {
    "collapsed": false
   }
  },
  {
   "cell_type": "code",
   "execution_count": 101,
   "outputs": [
    {
     "data": {
      "text/plain": "       Area      Year  Food Inflation Rate   Raw GDP  GDP Growth Rate  \\\n0 -0.941176 -0.833333             0.160705 -0.422628        -0.784202   \n1 -0.941176 -0.833333             0.160705 -0.422628        -0.784202   \n2 -0.941176 -0.833333             0.160705 -0.422628        -0.784202   \n3 -0.941176 -0.833333             0.160705 -0.422628        -0.784202   \n4 -0.941176 -0.833333             0.160705 -0.422628        -0.784202   \n\n       Item  Item Price Per Tonne  Overall Inflation Rate  \n0 -1.000000             -0.299190                0.708333  \n1 -0.986667             -0.229156                0.708333  \n2 -0.906667             -0.330420                0.708333  \n3 -0.893333              0.395618                0.708333  \n4 -0.813333             -0.396085                0.708333  ",
      "text/html": "<div>\n<style scoped>\n    .dataframe tbody tr th:only-of-type {\n        vertical-align: middle;\n    }\n\n    .dataframe tbody tr th {\n        vertical-align: top;\n    }\n\n    .dataframe thead th {\n        text-align: right;\n    }\n</style>\n<table border=\"1\" class=\"dataframe\">\n  <thead>\n    <tr style=\"text-align: right;\">\n      <th></th>\n      <th>Area</th>\n      <th>Year</th>\n      <th>Food Inflation Rate</th>\n      <th>Raw GDP</th>\n      <th>GDP Growth Rate</th>\n      <th>Item</th>\n      <th>Item Price Per Tonne</th>\n      <th>Overall Inflation Rate</th>\n    </tr>\n  </thead>\n  <tbody>\n    <tr>\n      <th>0</th>\n      <td>-0.941176</td>\n      <td>-0.833333</td>\n      <td>0.160705</td>\n      <td>-0.422628</td>\n      <td>-0.784202</td>\n      <td>-1.000000</td>\n      <td>-0.299190</td>\n      <td>0.708333</td>\n    </tr>\n    <tr>\n      <th>1</th>\n      <td>-0.941176</td>\n      <td>-0.833333</td>\n      <td>0.160705</td>\n      <td>-0.422628</td>\n      <td>-0.784202</td>\n      <td>-0.986667</td>\n      <td>-0.229156</td>\n      <td>0.708333</td>\n    </tr>\n    <tr>\n      <th>2</th>\n      <td>-0.941176</td>\n      <td>-0.833333</td>\n      <td>0.160705</td>\n      <td>-0.422628</td>\n      <td>-0.784202</td>\n      <td>-0.906667</td>\n      <td>-0.330420</td>\n      <td>0.708333</td>\n    </tr>\n    <tr>\n      <th>3</th>\n      <td>-0.941176</td>\n      <td>-0.833333</td>\n      <td>0.160705</td>\n      <td>-0.422628</td>\n      <td>-0.784202</td>\n      <td>-0.893333</td>\n      <td>0.395618</td>\n      <td>0.708333</td>\n    </tr>\n    <tr>\n      <th>4</th>\n      <td>-0.941176</td>\n      <td>-0.833333</td>\n      <td>0.160705</td>\n      <td>-0.422628</td>\n      <td>-0.784202</td>\n      <td>-0.813333</td>\n      <td>-0.396085</td>\n      <td>0.708333</td>\n    </tr>\n  </tbody>\n</table>\n</div>"
     },
     "execution_count": 101,
     "metadata": {},
     "output_type": "execute_result"
    }
   ],
   "source": [
    "data.head()"
   ],
   "metadata": {
    "collapsed": false
   }
  },
  {
   "cell_type": "code",
   "execution_count": 105,
   "outputs": [],
   "source": [
    "data.to_csv('./data/data-processed.csv', index=False)"
   ],
   "metadata": {
    "collapsed": false
   }
  }
 ],
 "metadata": {
  "kernelspec": {
   "display_name": "Python 3",
   "language": "python",
   "name": "python3"
  },
  "language_info": {
   "codemirror_mode": {
    "name": "ipython",
    "version": 2
   },
   "file_extension": ".py",
   "mimetype": "text/x-python",
   "name": "python",
   "nbconvert_exporter": "python",
   "pygments_lexer": "ipython2",
   "version": "2.7.6"
  }
 },
 "nbformat": 4,
 "nbformat_minor": 0
}
