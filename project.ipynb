{
 "cells": [
  {
   "cell_type": "code",
   "execution_count": 104,
   "metadata": {
    "collapsed": true
   },
   "outputs": [],
   "source": [
    "import pandas as pd\n",
    "import numpy as np"
   ]
  },
  {
   "cell_type": "code",
   "execution_count": 3,
   "outputs": [],
   "source": [
    "dataset_food_inflation_rate = pd.read_csv('./data/food_inflation_rate.csv')"
   ],
   "metadata": {
    "collapsed": false
   }
  },
  {
   "cell_type": "code",
   "execution_count": 91,
   "outputs": [
    {
     "data": {
      "text/plain": "      Area  Year  Food Inflation Rate\n0  Albania  2012             2.404087\n1  Albania  2013             4.214607\n2  Albania  2014             2.212385\n3  Albania  2015             4.294233\n4  Albania  2016             3.254620",
      "text/html": "<div>\n<style scoped>\n    .dataframe tbody tr th:only-of-type {\n        vertical-align: middle;\n    }\n\n    .dataframe tbody tr th {\n        vertical-align: top;\n    }\n\n    .dataframe thead th {\n        text-align: right;\n    }\n</style>\n<table border=\"1\" class=\"dataframe\">\n  <thead>\n    <tr style=\"text-align: right;\">\n      <th></th>\n      <th>Area</th>\n      <th>Year</th>\n      <th>Food Inflation Rate</th>\n    </tr>\n  </thead>\n  <tbody>\n    <tr>\n      <th>0</th>\n      <td>Albania</td>\n      <td>2012</td>\n      <td>2.404087</td>\n    </tr>\n    <tr>\n      <th>1</th>\n      <td>Albania</td>\n      <td>2013</td>\n      <td>4.214607</td>\n    </tr>\n    <tr>\n      <th>2</th>\n      <td>Albania</td>\n      <td>2014</td>\n      <td>2.212385</td>\n    </tr>\n    <tr>\n      <th>3</th>\n      <td>Albania</td>\n      <td>2015</td>\n      <td>4.294233</td>\n    </tr>\n    <tr>\n      <th>4</th>\n      <td>Albania</td>\n      <td>2016</td>\n      <td>3.254620</td>\n    </tr>\n  </tbody>\n</table>\n</div>"
     },
     "execution_count": 91,
     "metadata": {},
     "output_type": "execute_result"
    }
   ],
   "source": [
    "dataset_food_inflation_rate.head()"
   ],
   "metadata": {
    "collapsed": false
   }
  },
  {
   "cell_type": "code",
   "execution_count": 30,
   "outputs": [],
   "source": [
    "dataset_food_inflation_rate = dataset_food_inflation_rate[['Area', 'Year', 'Months', 'Value']]"
   ],
   "metadata": {
    "collapsed": false
   }
  },
  {
   "cell_type": "code",
   "execution_count": 34,
   "outputs": [],
   "source": [
    "dataset_food_inflation_rate = dataset_food_inflation_rate.rename(columns = {'Value': 'Food Inflation Rate'})"
   ],
   "metadata": {
    "collapsed": false
   }
  },
  {
   "cell_type": "code",
   "execution_count": 42,
   "outputs": [
    {
     "data": {
      "text/plain": "                                                   Area  Year     Months  \\\n0                                         Åland Islands  2012    January   \n1                                         Åland Islands  2012   February   \n2                                         Åland Islands  2012      March   \n3                                         Åland Islands  2012      April   \n4                                         Åland Islands  2012        May   \n...                                                 ...   ...        ...   \n6037  United Kingdom of Great Britain and Northern I...  2023     August   \n6038  United Kingdom of Great Britain and Northern I...  2023  September   \n6039  United Kingdom of Great Britain and Northern I...  2023    October   \n6040  United Kingdom of Great Britain and Northern I...  2023   November   \n6041  United Kingdom of Great Britain and Northern I...  2023   December   \n\n      Food Inflation Rate  \n0                2.607987  \n1                3.896104  \n2                2.967121  \n3                2.149682  \n4                3.559871  \n...                   ...  \n6037            13.609467  \n6038            12.207358  \n6039            10.163934  \n6040             9.238250  \n6041             8.054226  \n\n[6042 rows x 4 columns]",
      "text/html": "<div>\n<style scoped>\n    .dataframe tbody tr th:only-of-type {\n        vertical-align: middle;\n    }\n\n    .dataframe tbody tr th {\n        vertical-align: top;\n    }\n\n    .dataframe thead th {\n        text-align: right;\n    }\n</style>\n<table border=\"1\" class=\"dataframe\">\n  <thead>\n    <tr style=\"text-align: right;\">\n      <th></th>\n      <th>Area</th>\n      <th>Year</th>\n      <th>Months</th>\n      <th>Food Inflation Rate</th>\n    </tr>\n  </thead>\n  <tbody>\n    <tr>\n      <th>0</th>\n      <td>Åland Islands</td>\n      <td>2012</td>\n      <td>January</td>\n      <td>2.607987</td>\n    </tr>\n    <tr>\n      <th>1</th>\n      <td>Åland Islands</td>\n      <td>2012</td>\n      <td>February</td>\n      <td>3.896104</td>\n    </tr>\n    <tr>\n      <th>2</th>\n      <td>Åland Islands</td>\n      <td>2012</td>\n      <td>March</td>\n      <td>2.967121</td>\n    </tr>\n    <tr>\n      <th>3</th>\n      <td>Åland Islands</td>\n      <td>2012</td>\n      <td>April</td>\n      <td>2.149682</td>\n    </tr>\n    <tr>\n      <th>4</th>\n      <td>Åland Islands</td>\n      <td>2012</td>\n      <td>May</td>\n      <td>3.559871</td>\n    </tr>\n    <tr>\n      <th>...</th>\n      <td>...</td>\n      <td>...</td>\n      <td>...</td>\n      <td>...</td>\n    </tr>\n    <tr>\n      <th>6037</th>\n      <td>United Kingdom of Great Britain and Northern I...</td>\n      <td>2023</td>\n      <td>August</td>\n      <td>13.609467</td>\n    </tr>\n    <tr>\n      <th>6038</th>\n      <td>United Kingdom of Great Britain and Northern I...</td>\n      <td>2023</td>\n      <td>September</td>\n      <td>12.207358</td>\n    </tr>\n    <tr>\n      <th>6039</th>\n      <td>United Kingdom of Great Britain and Northern I...</td>\n      <td>2023</td>\n      <td>October</td>\n      <td>10.163934</td>\n    </tr>\n    <tr>\n      <th>6040</th>\n      <td>United Kingdom of Great Britain and Northern I...</td>\n      <td>2023</td>\n      <td>November</td>\n      <td>9.238250</td>\n    </tr>\n    <tr>\n      <th>6041</th>\n      <td>United Kingdom of Great Britain and Northern I...</td>\n      <td>2023</td>\n      <td>December</td>\n      <td>8.054226</td>\n    </tr>\n  </tbody>\n</table>\n<p>6042 rows × 4 columns</p>\n</div>"
     },
     "execution_count": 42,
     "metadata": {},
     "output_type": "execute_result"
    }
   ],
   "source": [
    "dataset_food_inflation_rate.head()"
   ],
   "metadata": {
    "collapsed": false
   }
  },
  {
   "cell_type": "code",
   "execution_count": 49,
   "outputs": [],
   "source": [
    "dataset_food_inflation_rate = dataset_food_inflation_rate.groupby(['Area', 'Year'], as_index=False)['Food Inflation Rate'].mean()"
   ],
   "metadata": {
    "collapsed": false
   }
  },
  {
   "cell_type": "code",
   "execution_count": 50,
   "outputs": [
    {
     "data": {
      "text/plain": "              Area  Year  Food Inflation Rate\n0          Albania  2012             2.404087\n1          Albania  2013             4.214607\n2          Albania  2014             2.212385\n3          Albania  2015             4.294233\n4          Albania  2016             3.254620\n..             ...   ...                  ...\n499  Åland Islands  2019             1.797736\n500  Åland Islands  2020             0.643114\n501  Åland Islands  2021             1.164459\n502  Åland Islands  2022             9.678792\n503  Åland Islands  2023            11.009429\n\n[504 rows x 3 columns]",
      "text/html": "<div>\n<style scoped>\n    .dataframe tbody tr th:only-of-type {\n        vertical-align: middle;\n    }\n\n    .dataframe tbody tr th {\n        vertical-align: top;\n    }\n\n    .dataframe thead th {\n        text-align: right;\n    }\n</style>\n<table border=\"1\" class=\"dataframe\">\n  <thead>\n    <tr style=\"text-align: right;\">\n      <th></th>\n      <th>Area</th>\n      <th>Year</th>\n      <th>Food Inflation Rate</th>\n    </tr>\n  </thead>\n  <tbody>\n    <tr>\n      <th>0</th>\n      <td>Albania</td>\n      <td>2012</td>\n      <td>2.404087</td>\n    </tr>\n    <tr>\n      <th>1</th>\n      <td>Albania</td>\n      <td>2013</td>\n      <td>4.214607</td>\n    </tr>\n    <tr>\n      <th>2</th>\n      <td>Albania</td>\n      <td>2014</td>\n      <td>2.212385</td>\n    </tr>\n    <tr>\n      <th>3</th>\n      <td>Albania</td>\n      <td>2015</td>\n      <td>4.294233</td>\n    </tr>\n    <tr>\n      <th>4</th>\n      <td>Albania</td>\n      <td>2016</td>\n      <td>3.254620</td>\n    </tr>\n    <tr>\n      <th>...</th>\n      <td>...</td>\n      <td>...</td>\n      <td>...</td>\n    </tr>\n    <tr>\n      <th>499</th>\n      <td>Åland Islands</td>\n      <td>2019</td>\n      <td>1.797736</td>\n    </tr>\n    <tr>\n      <th>500</th>\n      <td>Åland Islands</td>\n      <td>2020</td>\n      <td>0.643114</td>\n    </tr>\n    <tr>\n      <th>501</th>\n      <td>Åland Islands</td>\n      <td>2021</td>\n      <td>1.164459</td>\n    </tr>\n    <tr>\n      <th>502</th>\n      <td>Åland Islands</td>\n      <td>2022</td>\n      <td>9.678792</td>\n    </tr>\n    <tr>\n      <th>503</th>\n      <td>Åland Islands</td>\n      <td>2023</td>\n      <td>11.009429</td>\n    </tr>\n  </tbody>\n</table>\n<p>504 rows × 3 columns</p>\n</div>"
     },
     "execution_count": 50,
     "metadata": {},
     "output_type": "execute_result"
    }
   ],
   "source": [
    "dataset_food_inflation_rate.head()"
   ],
   "metadata": {
    "collapsed": false
   }
  },
  {
   "cell_type": "code",
   "execution_count": 5,
   "outputs": [],
   "source": [
    "dataset_raw_gdp = pd.read_csv('./data/raw_gdp.csv')"
   ],
   "metadata": {
    "collapsed": false
   }
  },
  {
   "cell_type": "code",
   "execution_count": 6,
   "outputs": [
    {
     "data": {
      "text/plain": "    Domain Code            Domain  Area Code (M49)  \\\n0            MK  Macro Indicators                8   \n1            MK  Macro Indicators                8   \n2            MK  Macro Indicators                8   \n3            MK  Macro Indicators                8   \n4            MK  Macro Indicators                8   \n..          ...               ...              ...   \n510          MK  Macro Indicators              826   \n511          MK  Macro Indicators              826   \n512          MK  Macro Indicators              826   \n513          MK  Macro Indicators              826   \n514          MK  Macro Indicators              826   \n\n                                                  Area  Element Code  \\\n0                                              Albania          6110   \n1                                              Albania          6110   \n2                                              Albania          6110   \n3                                              Albania          6110   \n4                                              Albania          6110   \n..                                                 ...           ...   \n510  United Kingdom of Great Britain and Northern I...          6110   \n511  United Kingdom of Great Britain and Northern I...          6110   \n512  United Kingdom of Great Britain and Northern I...          6110   \n513  United Kingdom of Great Britain and Northern I...          6110   \n514  United Kingdom of Great Britain and Northern I...          6110   \n\n       Element  Item Code                    Item  Year Code  Year  \\\n0    Value US$      22008  Gross Domestic Product       2012  2012   \n1    Value US$      22008  Gross Domestic Product       2013  2013   \n2    Value US$      22008  Gross Domestic Product       2014  2014   \n3    Value US$      22008  Gross Domestic Product       2015  2015   \n4    Value US$      22008  Gross Domestic Product       2016  2016   \n..         ...        ...                     ...        ...   ...   \n510  Value US$      22008  Gross Domestic Product       2019  2019   \n511  Value US$      22008  Gross Domestic Product       2020  2020   \n512  Value US$      22008  Gross Domestic Product       2021  2021   \n513  Value US$      22008  Gross Domestic Product       2022  2022   \n514  Value US$      22008  Gross Domestic Product       2023  2023   \n\n            Unit         Value Flag                         Flag Description  \\\n0    million USD  1.231978e+04    X  Figure from international organizations   \n1    million USD  1.277628e+04    X  Figure from international organizations   \n2    million USD  1.322824e+04    X  Figure from international organizations   \n3    million USD  1.138692e+04    X  Figure from international organizations   \n4    million USD  1.186136e+04    X  Figure from international organizations   \n..           ...           ...  ...                                      ...   \n510  million USD  2.851407e+06    X  Figure from international organizations   \n511  million USD  2.697807e+06    X  Figure from international organizations   \n512  million USD  3.141506e+06    X  Figure from international organizations   \n513  million USD  3.089073e+06    X  Figure from international organizations   \n514  million USD  3.263528e+06    E                          Estimated value   \n\n     Note  \n0     NaN  \n1     NaN  \n2     NaN  \n3     NaN  \n4     NaN  \n..    ...  \n510   NaN  \n511   NaN  \n512   NaN  \n513   NaN  \n514   NaN  \n\n[515 rows x 15 columns]",
      "text/html": "<div>\n<style scoped>\n    .dataframe tbody tr th:only-of-type {\n        vertical-align: middle;\n    }\n\n    .dataframe tbody tr th {\n        vertical-align: top;\n    }\n\n    .dataframe thead th {\n        text-align: right;\n    }\n</style>\n<table border=\"1\" class=\"dataframe\">\n  <thead>\n    <tr style=\"text-align: right;\">\n      <th></th>\n      <th>Domain Code</th>\n      <th>Domain</th>\n      <th>Area Code (M49)</th>\n      <th>Area</th>\n      <th>Element Code</th>\n      <th>Element</th>\n      <th>Item Code</th>\n      <th>Item</th>\n      <th>Year Code</th>\n      <th>Year</th>\n      <th>Unit</th>\n      <th>Value</th>\n      <th>Flag</th>\n      <th>Flag Description</th>\n      <th>Note</th>\n    </tr>\n  </thead>\n  <tbody>\n    <tr>\n      <th>0</th>\n      <td>MK</td>\n      <td>Macro Indicators</td>\n      <td>8</td>\n      <td>Albania</td>\n      <td>6110</td>\n      <td>Value US$</td>\n      <td>22008</td>\n      <td>Gross Domestic Product</td>\n      <td>2012</td>\n      <td>2012</td>\n      <td>million USD</td>\n      <td>1.231978e+04</td>\n      <td>X</td>\n      <td>Figure from international organizations</td>\n      <td>NaN</td>\n    </tr>\n    <tr>\n      <th>1</th>\n      <td>MK</td>\n      <td>Macro Indicators</td>\n      <td>8</td>\n      <td>Albania</td>\n      <td>6110</td>\n      <td>Value US$</td>\n      <td>22008</td>\n      <td>Gross Domestic Product</td>\n      <td>2013</td>\n      <td>2013</td>\n      <td>million USD</td>\n      <td>1.277628e+04</td>\n      <td>X</td>\n      <td>Figure from international organizations</td>\n      <td>NaN</td>\n    </tr>\n    <tr>\n      <th>2</th>\n      <td>MK</td>\n      <td>Macro Indicators</td>\n      <td>8</td>\n      <td>Albania</td>\n      <td>6110</td>\n      <td>Value US$</td>\n      <td>22008</td>\n      <td>Gross Domestic Product</td>\n      <td>2014</td>\n      <td>2014</td>\n      <td>million USD</td>\n      <td>1.322824e+04</td>\n      <td>X</td>\n      <td>Figure from international organizations</td>\n      <td>NaN</td>\n    </tr>\n    <tr>\n      <th>3</th>\n      <td>MK</td>\n      <td>Macro Indicators</td>\n      <td>8</td>\n      <td>Albania</td>\n      <td>6110</td>\n      <td>Value US$</td>\n      <td>22008</td>\n      <td>Gross Domestic Product</td>\n      <td>2015</td>\n      <td>2015</td>\n      <td>million USD</td>\n      <td>1.138692e+04</td>\n      <td>X</td>\n      <td>Figure from international organizations</td>\n      <td>NaN</td>\n    </tr>\n    <tr>\n      <th>4</th>\n      <td>MK</td>\n      <td>Macro Indicators</td>\n      <td>8</td>\n      <td>Albania</td>\n      <td>6110</td>\n      <td>Value US$</td>\n      <td>22008</td>\n      <td>Gross Domestic Product</td>\n      <td>2016</td>\n      <td>2016</td>\n      <td>million USD</td>\n      <td>1.186136e+04</td>\n      <td>X</td>\n      <td>Figure from international organizations</td>\n      <td>NaN</td>\n    </tr>\n    <tr>\n      <th>...</th>\n      <td>...</td>\n      <td>...</td>\n      <td>...</td>\n      <td>...</td>\n      <td>...</td>\n      <td>...</td>\n      <td>...</td>\n      <td>...</td>\n      <td>...</td>\n      <td>...</td>\n      <td>...</td>\n      <td>...</td>\n      <td>...</td>\n      <td>...</td>\n      <td>...</td>\n    </tr>\n    <tr>\n      <th>510</th>\n      <td>MK</td>\n      <td>Macro Indicators</td>\n      <td>826</td>\n      <td>United Kingdom of Great Britain and Northern I...</td>\n      <td>6110</td>\n      <td>Value US$</td>\n      <td>22008</td>\n      <td>Gross Domestic Product</td>\n      <td>2019</td>\n      <td>2019</td>\n      <td>million USD</td>\n      <td>2.851407e+06</td>\n      <td>X</td>\n      <td>Figure from international organizations</td>\n      <td>NaN</td>\n    </tr>\n    <tr>\n      <th>511</th>\n      <td>MK</td>\n      <td>Macro Indicators</td>\n      <td>826</td>\n      <td>United Kingdom of Great Britain and Northern I...</td>\n      <td>6110</td>\n      <td>Value US$</td>\n      <td>22008</td>\n      <td>Gross Domestic Product</td>\n      <td>2020</td>\n      <td>2020</td>\n      <td>million USD</td>\n      <td>2.697807e+06</td>\n      <td>X</td>\n      <td>Figure from international organizations</td>\n      <td>NaN</td>\n    </tr>\n    <tr>\n      <th>512</th>\n      <td>MK</td>\n      <td>Macro Indicators</td>\n      <td>826</td>\n      <td>United Kingdom of Great Britain and Northern I...</td>\n      <td>6110</td>\n      <td>Value US$</td>\n      <td>22008</td>\n      <td>Gross Domestic Product</td>\n      <td>2021</td>\n      <td>2021</td>\n      <td>million USD</td>\n      <td>3.141506e+06</td>\n      <td>X</td>\n      <td>Figure from international organizations</td>\n      <td>NaN</td>\n    </tr>\n    <tr>\n      <th>513</th>\n      <td>MK</td>\n      <td>Macro Indicators</td>\n      <td>826</td>\n      <td>United Kingdom of Great Britain and Northern I...</td>\n      <td>6110</td>\n      <td>Value US$</td>\n      <td>22008</td>\n      <td>Gross Domestic Product</td>\n      <td>2022</td>\n      <td>2022</td>\n      <td>million USD</td>\n      <td>3.089073e+06</td>\n      <td>X</td>\n      <td>Figure from international organizations</td>\n      <td>NaN</td>\n    </tr>\n    <tr>\n      <th>514</th>\n      <td>MK</td>\n      <td>Macro Indicators</td>\n      <td>826</td>\n      <td>United Kingdom of Great Britain and Northern I...</td>\n      <td>6110</td>\n      <td>Value US$</td>\n      <td>22008</td>\n      <td>Gross Domestic Product</td>\n      <td>2023</td>\n      <td>2023</td>\n      <td>million USD</td>\n      <td>3.263528e+06</td>\n      <td>E</td>\n      <td>Estimated value</td>\n      <td>NaN</td>\n    </tr>\n  </tbody>\n</table>\n<p>515 rows × 15 columns</p>\n</div>"
     },
     "execution_count": 6,
     "metadata": {},
     "output_type": "execute_result"
    }
   ],
   "source": [
    "dataset_raw_gdp.head()"
   ],
   "metadata": {
    "collapsed": false
   }
  },
  {
   "cell_type": "code",
   "execution_count": 52,
   "outputs": [],
   "source": [
    "dataset_raw_gdp = dataset_raw_gdp[['Area', 'Year', 'Value']]"
   ],
   "metadata": {
    "collapsed": false
   }
  },
  {
   "cell_type": "code",
   "execution_count": 54,
   "outputs": [],
   "source": [
    "dataset_raw_gdp = dataset_raw_gdp.rename(columns = {'Value': 'Raw GDP'})"
   ],
   "metadata": {
    "collapsed": false
   }
  },
  {
   "cell_type": "code",
   "execution_count": 55,
   "outputs": [
    {
     "data": {
      "text/plain": "      Area  Year       Raw GDP\n0  Albania  2012  12319.779604\n1  Albania  2013  12776.280738\n2  Albania  2014  13228.240079\n3  Albania  2015  11386.924853\n4  Albania  2016  11861.356451",
      "text/html": "<div>\n<style scoped>\n    .dataframe tbody tr th:only-of-type {\n        vertical-align: middle;\n    }\n\n    .dataframe tbody tr th {\n        vertical-align: top;\n    }\n\n    .dataframe thead th {\n        text-align: right;\n    }\n</style>\n<table border=\"1\" class=\"dataframe\">\n  <thead>\n    <tr style=\"text-align: right;\">\n      <th></th>\n      <th>Area</th>\n      <th>Year</th>\n      <th>Raw GDP</th>\n    </tr>\n  </thead>\n  <tbody>\n    <tr>\n      <th>0</th>\n      <td>Albania</td>\n      <td>2012</td>\n      <td>12319.779604</td>\n    </tr>\n    <tr>\n      <th>1</th>\n      <td>Albania</td>\n      <td>2013</td>\n      <td>12776.280738</td>\n    </tr>\n    <tr>\n      <th>2</th>\n      <td>Albania</td>\n      <td>2014</td>\n      <td>13228.240079</td>\n    </tr>\n    <tr>\n      <th>3</th>\n      <td>Albania</td>\n      <td>2015</td>\n      <td>11386.924853</td>\n    </tr>\n    <tr>\n      <th>4</th>\n      <td>Albania</td>\n      <td>2016</td>\n      <td>11861.356451</td>\n    </tr>\n  </tbody>\n</table>\n</div>"
     },
     "execution_count": 55,
     "metadata": {},
     "output_type": "execute_result"
    }
   ],
   "source": [
    "dataset_raw_gdp.head()"
   ],
   "metadata": {
    "collapsed": false
   }
  },
  {
   "cell_type": "code",
   "execution_count": 7,
   "outputs": [],
   "source": [
    "dataset_gdp_growth_rate = pd.read_csv('./data/gdp_growth_rate.csv')"
   ],
   "metadata": {
    "collapsed": false
   }
  },
  {
   "cell_type": "code",
   "execution_count": 8,
   "outputs": [
    {
     "data": {
      "text/plain": "    Domain Code            Domain  Area Code (M49)  \\\n0            MK  Macro Indicators                8   \n1            MK  Macro Indicators                8   \n2            MK  Macro Indicators                8   \n3            MK  Macro Indicators                8   \n4            MK  Macro Indicators                8   \n..          ...               ...              ...   \n510          MK  Macro Indicators              826   \n511          MK  Macro Indicators              826   \n512          MK  Macro Indicators              826   \n513          MK  Macro Indicators              826   \n514          MK  Macro Indicators              826   \n\n                                                  Area  Element Code  \\\n0                                              Albania          6129   \n1                                              Albania          6129   \n2                                              Albania          6129   \n3                                              Albania          6129   \n4                                              Albania          6129   \n..                                                 ...           ...   \n510  United Kingdom of Great Britain and Northern I...          6129   \n511  United Kingdom of Great Britain and Northern I...          6129   \n512  United Kingdom of Great Britain and Northern I...          6129   \n513  United Kingdom of Great Britain and Northern I...          6129   \n514  United Kingdom of Great Britain and Northern I...          6129   \n\n               Element  Item Code                    Item  Year Code  Year  \\\n0    Annual growth US$      22008  Gross Domestic Product       2012  2012   \n1    Annual growth US$      22008  Gross Domestic Product       2013  2013   \n2    Annual growth US$      22008  Gross Domestic Product       2014  2014   \n3    Annual growth US$      22008  Gross Domestic Product       2015  2015   \n4    Annual growth US$      22008  Gross Domestic Product       2016  2016   \n..                 ...        ...                     ...        ...   ...   \n510  Annual growth US$      22008  Gross Domestic Product       2019  2019   \n511  Annual growth US$      22008  Gross Domestic Product       2020  2020   \n512  Annual growth US$      22008  Gross Domestic Product       2021  2021   \n513  Annual growth US$      22008  Gross Domestic Product       2022  2022   \n514  Annual growth US$      22008  Gross Domestic Product       2023  2023   \n\n    Unit      Value Flag                         Flag Description  Note  \n0      %  -4.430218    X  Figure from international organizations   NaN  \n1      %   3.705432    X  Figure from international organizations   NaN  \n2      %   3.537487    X  Figure from international organizations   NaN  \n3      % -13.919579    X  Figure from international organizations   NaN  \n4      %   4.166459    X  Figure from international organizations   NaN  \n..   ...        ...  ...                                      ...   ...  \n510    %  -0.694212    X  Figure from international organizations   NaN  \n511    %  -5.386835    X  Figure from international organizations   NaN  \n512    %  16.446678    X  Figure from international organizations   NaN  \n513    %  -1.669055    X  Figure from international organizations   NaN  \n514    %   5.647490    E                          Estimated value   NaN  \n\n[515 rows x 15 columns]",
      "text/html": "<div>\n<style scoped>\n    .dataframe tbody tr th:only-of-type {\n        vertical-align: middle;\n    }\n\n    .dataframe tbody tr th {\n        vertical-align: top;\n    }\n\n    .dataframe thead th {\n        text-align: right;\n    }\n</style>\n<table border=\"1\" class=\"dataframe\">\n  <thead>\n    <tr style=\"text-align: right;\">\n      <th></th>\n      <th>Domain Code</th>\n      <th>Domain</th>\n      <th>Area Code (M49)</th>\n      <th>Area</th>\n      <th>Element Code</th>\n      <th>Element</th>\n      <th>Item Code</th>\n      <th>Item</th>\n      <th>Year Code</th>\n      <th>Year</th>\n      <th>Unit</th>\n      <th>Value</th>\n      <th>Flag</th>\n      <th>Flag Description</th>\n      <th>Note</th>\n    </tr>\n  </thead>\n  <tbody>\n    <tr>\n      <th>0</th>\n      <td>MK</td>\n      <td>Macro Indicators</td>\n      <td>8</td>\n      <td>Albania</td>\n      <td>6129</td>\n      <td>Annual growth US$</td>\n      <td>22008</td>\n      <td>Gross Domestic Product</td>\n      <td>2012</td>\n      <td>2012</td>\n      <td>%</td>\n      <td>-4.430218</td>\n      <td>X</td>\n      <td>Figure from international organizations</td>\n      <td>NaN</td>\n    </tr>\n    <tr>\n      <th>1</th>\n      <td>MK</td>\n      <td>Macro Indicators</td>\n      <td>8</td>\n      <td>Albania</td>\n      <td>6129</td>\n      <td>Annual growth US$</td>\n      <td>22008</td>\n      <td>Gross Domestic Product</td>\n      <td>2013</td>\n      <td>2013</td>\n      <td>%</td>\n      <td>3.705432</td>\n      <td>X</td>\n      <td>Figure from international organizations</td>\n      <td>NaN</td>\n    </tr>\n    <tr>\n      <th>2</th>\n      <td>MK</td>\n      <td>Macro Indicators</td>\n      <td>8</td>\n      <td>Albania</td>\n      <td>6129</td>\n      <td>Annual growth US$</td>\n      <td>22008</td>\n      <td>Gross Domestic Product</td>\n      <td>2014</td>\n      <td>2014</td>\n      <td>%</td>\n      <td>3.537487</td>\n      <td>X</td>\n      <td>Figure from international organizations</td>\n      <td>NaN</td>\n    </tr>\n    <tr>\n      <th>3</th>\n      <td>MK</td>\n      <td>Macro Indicators</td>\n      <td>8</td>\n      <td>Albania</td>\n      <td>6129</td>\n      <td>Annual growth US$</td>\n      <td>22008</td>\n      <td>Gross Domestic Product</td>\n      <td>2015</td>\n      <td>2015</td>\n      <td>%</td>\n      <td>-13.919579</td>\n      <td>X</td>\n      <td>Figure from international organizations</td>\n      <td>NaN</td>\n    </tr>\n    <tr>\n      <th>4</th>\n      <td>MK</td>\n      <td>Macro Indicators</td>\n      <td>8</td>\n      <td>Albania</td>\n      <td>6129</td>\n      <td>Annual growth US$</td>\n      <td>22008</td>\n      <td>Gross Domestic Product</td>\n      <td>2016</td>\n      <td>2016</td>\n      <td>%</td>\n      <td>4.166459</td>\n      <td>X</td>\n      <td>Figure from international organizations</td>\n      <td>NaN</td>\n    </tr>\n    <tr>\n      <th>...</th>\n      <td>...</td>\n      <td>...</td>\n      <td>...</td>\n      <td>...</td>\n      <td>...</td>\n      <td>...</td>\n      <td>...</td>\n      <td>...</td>\n      <td>...</td>\n      <td>...</td>\n      <td>...</td>\n      <td>...</td>\n      <td>...</td>\n      <td>...</td>\n      <td>...</td>\n    </tr>\n    <tr>\n      <th>510</th>\n      <td>MK</td>\n      <td>Macro Indicators</td>\n      <td>826</td>\n      <td>United Kingdom of Great Britain and Northern I...</td>\n      <td>6129</td>\n      <td>Annual growth US$</td>\n      <td>22008</td>\n      <td>Gross Domestic Product</td>\n      <td>2019</td>\n      <td>2019</td>\n      <td>%</td>\n      <td>-0.694212</td>\n      <td>X</td>\n      <td>Figure from international organizations</td>\n      <td>NaN</td>\n    </tr>\n    <tr>\n      <th>511</th>\n      <td>MK</td>\n      <td>Macro Indicators</td>\n      <td>826</td>\n      <td>United Kingdom of Great Britain and Northern I...</td>\n      <td>6129</td>\n      <td>Annual growth US$</td>\n      <td>22008</td>\n      <td>Gross Domestic Product</td>\n      <td>2020</td>\n      <td>2020</td>\n      <td>%</td>\n      <td>-5.386835</td>\n      <td>X</td>\n      <td>Figure from international organizations</td>\n      <td>NaN</td>\n    </tr>\n    <tr>\n      <th>512</th>\n      <td>MK</td>\n      <td>Macro Indicators</td>\n      <td>826</td>\n      <td>United Kingdom of Great Britain and Northern I...</td>\n      <td>6129</td>\n      <td>Annual growth US$</td>\n      <td>22008</td>\n      <td>Gross Domestic Product</td>\n      <td>2021</td>\n      <td>2021</td>\n      <td>%</td>\n      <td>16.446678</td>\n      <td>X</td>\n      <td>Figure from international organizations</td>\n      <td>NaN</td>\n    </tr>\n    <tr>\n      <th>513</th>\n      <td>MK</td>\n      <td>Macro Indicators</td>\n      <td>826</td>\n      <td>United Kingdom of Great Britain and Northern I...</td>\n      <td>6129</td>\n      <td>Annual growth US$</td>\n      <td>22008</td>\n      <td>Gross Domestic Product</td>\n      <td>2022</td>\n      <td>2022</td>\n      <td>%</td>\n      <td>-1.669055</td>\n      <td>X</td>\n      <td>Figure from international organizations</td>\n      <td>NaN</td>\n    </tr>\n    <tr>\n      <th>514</th>\n      <td>MK</td>\n      <td>Macro Indicators</td>\n      <td>826</td>\n      <td>United Kingdom of Great Britain and Northern I...</td>\n      <td>6129</td>\n      <td>Annual growth US$</td>\n      <td>22008</td>\n      <td>Gross Domestic Product</td>\n      <td>2023</td>\n      <td>2023</td>\n      <td>%</td>\n      <td>5.647490</td>\n      <td>E</td>\n      <td>Estimated value</td>\n      <td>NaN</td>\n    </tr>\n  </tbody>\n</table>\n<p>515 rows × 15 columns</p>\n</div>"
     },
     "execution_count": 8,
     "metadata": {},
     "output_type": "execute_result"
    }
   ],
   "source": [
    "dataset_gdp_growth_rate.head()"
   ],
   "metadata": {
    "collapsed": false
   }
  },
  {
   "cell_type": "code",
   "execution_count": 58,
   "outputs": [],
   "source": [
    "dataset_gdp_growth_rate = dataset_gdp_growth_rate[['Area', 'Year', 'Value']]"
   ],
   "metadata": {
    "collapsed": false
   }
  },
  {
   "cell_type": "code",
   "execution_count": 61,
   "outputs": [],
   "source": [
    "dataset_gdp_growth_rate = dataset_gdp_growth_rate.rename(columns = {\"Value\": \"GDP Growth Rate\"})"
   ],
   "metadata": {
    "collapsed": false
   }
  },
  {
   "cell_type": "code",
   "execution_count": 81,
   "outputs": [
    {
     "data": {
      "text/plain": "      Area  Year  GDP Growth Rate\n0  Albania  2012        -4.430218\n1  Albania  2013         3.705432\n2  Albania  2014         3.537487\n3  Albania  2015       -13.919579\n4  Albania  2016         4.166459",
      "text/html": "<div>\n<style scoped>\n    .dataframe tbody tr th:only-of-type {\n        vertical-align: middle;\n    }\n\n    .dataframe tbody tr th {\n        vertical-align: top;\n    }\n\n    .dataframe thead th {\n        text-align: right;\n    }\n</style>\n<table border=\"1\" class=\"dataframe\">\n  <thead>\n    <tr style=\"text-align: right;\">\n      <th></th>\n      <th>Area</th>\n      <th>Year</th>\n      <th>GDP Growth Rate</th>\n    </tr>\n  </thead>\n  <tbody>\n    <tr>\n      <th>0</th>\n      <td>Albania</td>\n      <td>2012</td>\n      <td>-4.430218</td>\n    </tr>\n    <tr>\n      <th>1</th>\n      <td>Albania</td>\n      <td>2013</td>\n      <td>3.705432</td>\n    </tr>\n    <tr>\n      <th>2</th>\n      <td>Albania</td>\n      <td>2014</td>\n      <td>3.537487</td>\n    </tr>\n    <tr>\n      <th>3</th>\n      <td>Albania</td>\n      <td>2015</td>\n      <td>-13.919579</td>\n    </tr>\n    <tr>\n      <th>4</th>\n      <td>Albania</td>\n      <td>2016</td>\n      <td>4.166459</td>\n    </tr>\n  </tbody>\n</table>\n</div>"
     },
     "execution_count": 81,
     "metadata": {},
     "output_type": "execute_result"
    }
   ],
   "source": [
    "dataset_gdp_growth_rate.head()"
   ],
   "metadata": {
    "collapsed": false
   }
  },
  {
   "cell_type": "code",
   "execution_count": 9,
   "outputs": [],
   "source": [
    "dataset_producer_prices = pd.read_csv('./data/producer_prices.csv')"
   ],
   "metadata": {
    "collapsed": false
   }
  },
  {
   "cell_type": "code",
   "execution_count": 79,
   "outputs": [
    {
     "data": {
      "text/plain": "      Area  Year    Item  Item Price Per Tonne\n0  Albania  2012  Apples                 369.7\n1  Albania  2013  Apples                 492.1\n2  Albania  2014  Apples                 474.8\n3  Albania  2015  Apples                 389.0\n4  Albania  2016  Apples                 381.3",
      "text/html": "<div>\n<style scoped>\n    .dataframe tbody tr th:only-of-type {\n        vertical-align: middle;\n    }\n\n    .dataframe tbody tr th {\n        vertical-align: top;\n    }\n\n    .dataframe thead th {\n        text-align: right;\n    }\n</style>\n<table border=\"1\" class=\"dataframe\">\n  <thead>\n    <tr style=\"text-align: right;\">\n      <th></th>\n      <th>Area</th>\n      <th>Year</th>\n      <th>Item</th>\n      <th>Item Price Per Tonne</th>\n    </tr>\n  </thead>\n  <tbody>\n    <tr>\n      <th>0</th>\n      <td>Albania</td>\n      <td>2012</td>\n      <td>Apples</td>\n      <td>369.7</td>\n    </tr>\n    <tr>\n      <th>1</th>\n      <td>Albania</td>\n      <td>2013</td>\n      <td>Apples</td>\n      <td>492.1</td>\n    </tr>\n    <tr>\n      <th>2</th>\n      <td>Albania</td>\n      <td>2014</td>\n      <td>Apples</td>\n      <td>474.8</td>\n    </tr>\n    <tr>\n      <th>3</th>\n      <td>Albania</td>\n      <td>2015</td>\n      <td>Apples</td>\n      <td>389.0</td>\n    </tr>\n    <tr>\n      <th>4</th>\n      <td>Albania</td>\n      <td>2016</td>\n      <td>Apples</td>\n      <td>381.3</td>\n    </tr>\n  </tbody>\n</table>\n</div>"
     },
     "execution_count": 79,
     "metadata": {},
     "output_type": "execute_result"
    }
   ],
   "source": [
    "dataset_producer_prices.head()"
   ],
   "metadata": {
    "collapsed": false
   }
  },
  {
   "cell_type": "code",
   "execution_count": 66,
   "outputs": [],
   "source": [
    "dataset_producer_prices = dataset_producer_prices[['Area', 'Year', 'Item', 'Value']]"
   ],
   "metadata": {
    "collapsed": false
   }
  },
  {
   "cell_type": "code",
   "execution_count": 67,
   "outputs": [],
   "source": [
    "dataset_producer_prices = dataset_producer_prices.rename(columns={\"Value\": \"Item Price Per Tonne\"})"
   ],
   "metadata": {
    "collapsed": false
   }
  },
  {
   "cell_type": "code",
   "execution_count": 77,
   "outputs": [
    {
     "data": {
      "text/plain": "      Area  Year    Item  Item Price Per Tonne\n0  Albania  2012  Apples                 369.7\n1  Albania  2013  Apples                 492.1\n2  Albania  2014  Apples                 474.8\n3  Albania  2015  Apples                 389.0\n4  Albania  2016  Apples                 381.3",
      "text/html": "<div>\n<style scoped>\n    .dataframe tbody tr th:only-of-type {\n        vertical-align: middle;\n    }\n\n    .dataframe tbody tr th {\n        vertical-align: top;\n    }\n\n    .dataframe thead th {\n        text-align: right;\n    }\n</style>\n<table border=\"1\" class=\"dataframe\">\n  <thead>\n    <tr style=\"text-align: right;\">\n      <th></th>\n      <th>Area</th>\n      <th>Year</th>\n      <th>Item</th>\n      <th>Item Price Per Tonne</th>\n    </tr>\n  </thead>\n  <tbody>\n    <tr>\n      <th>0</th>\n      <td>Albania</td>\n      <td>2012</td>\n      <td>Apples</td>\n      <td>369.7</td>\n    </tr>\n    <tr>\n      <th>1</th>\n      <td>Albania</td>\n      <td>2013</td>\n      <td>Apples</td>\n      <td>492.1</td>\n    </tr>\n    <tr>\n      <th>2</th>\n      <td>Albania</td>\n      <td>2014</td>\n      <td>Apples</td>\n      <td>474.8</td>\n    </tr>\n    <tr>\n      <th>3</th>\n      <td>Albania</td>\n      <td>2015</td>\n      <td>Apples</td>\n      <td>389.0</td>\n    </tr>\n    <tr>\n      <th>4</th>\n      <td>Albania</td>\n      <td>2016</td>\n      <td>Apples</td>\n      <td>381.3</td>\n    </tr>\n  </tbody>\n</table>\n</div>"
     },
     "execution_count": 77,
     "metadata": {},
     "output_type": "execute_result"
    }
   ],
   "source": [
    "dataset_producer_prices.head()"
   ],
   "metadata": {
    "collapsed": false
   }
  },
  {
   "cell_type": "code",
   "execution_count": 12,
   "outputs": [],
   "source": [
    "dataset_overall_inflation = pd.read_excel('./data/overall_inflation.xlsx')"
   ],
   "metadata": {
    "collapsed": false
   }
  },
  {
   "cell_type": "code",
   "execution_count": 13,
   "outputs": [
    {
     "data": {
      "text/plain": "['Unnamed: 2',\n 'Unnamed: 4',\n 'Unnamed: 6',\n 'Unnamed: 8',\n 'Unnamed: 10',\n 'Unnamed: 12',\n 'Unnamed: 14',\n 'Unnamed: 16',\n 'Unnamed: 18',\n 'Unnamed: 20',\n 'Unnamed: 22',\n 'Unnamed: 24']"
     },
     "execution_count": 13,
     "metadata": {},
     "output_type": "execute_result"
    }
   ],
   "source": [
    "columns_to_drop = [f'Unnamed: {i}' for i in range(2, 25) if i % 2 == 0]\n",
    "columns_to_drop"
   ],
   "metadata": {
    "collapsed": false
   }
  },
  {
   "cell_type": "code",
   "execution_count": 14,
   "outputs": [],
   "source": [
    "dataset_overall_inflation = dataset_overall_inflation[12:51]"
   ],
   "metadata": {
    "collapsed": false
   }
  },
  {
   "cell_type": "code",
   "execution_count": 15,
   "outputs": [],
   "source": [
    "dataset_overall_inflation = dataset_overall_inflation.drop(columns=columns_to_drop)"
   ],
   "metadata": {
    "collapsed": false
   }
  },
  {
   "cell_type": "code",
   "execution_count": 16,
   "outputs": [],
   "source": [
    "columns_to_stay = [f'Unnamed: {i}' for i in range(1, 25) if i % 2 == 1]"
   ],
   "metadata": {
    "collapsed": false
   }
  },
  {
   "cell_type": "code",
   "execution_count": 17,
   "outputs": [],
   "source": [
    "dict_rename_columns = {}"
   ],
   "metadata": {
    "collapsed": false
   }
  },
  {
   "cell_type": "code",
   "execution_count": 18,
   "outputs": [],
   "source": [
    "for prev_name, year in zip(columns_to_stay, range(2012, 2024)):\n",
    "    dict_rename_columns[prev_name] = year"
   ],
   "metadata": {
    "collapsed": false
   }
  },
  {
   "cell_type": "code",
   "execution_count": 19,
   "outputs": [
    {
     "data": {
      "text/plain": "{'Unnamed: 1': 2012,\n 'Unnamed: 3': 2013,\n 'Unnamed: 5': 2014,\n 'Unnamed: 7': 2015,\n 'Unnamed: 9': 2016,\n 'Unnamed: 11': 2017,\n 'Unnamed: 13': 2018,\n 'Unnamed: 15': 2019,\n 'Unnamed: 17': 2020,\n 'Unnamed: 19': 2021,\n 'Unnamed: 21': 2022,\n 'Unnamed: 23': 2023}"
     },
     "execution_count": 19,
     "metadata": {},
     "output_type": "execute_result"
    }
   ],
   "source": [
    "dict_rename_columns"
   ],
   "metadata": {
    "collapsed": false
   }
  },
  {
   "cell_type": "code",
   "execution_count": 20,
   "outputs": [],
   "source": [
    "dict_rename_columns['Data extracted on 22/07/2024 23:21:37 from [ESTAT]'] = 'Area'"
   ],
   "metadata": {
    "collapsed": false
   }
  },
  {
   "cell_type": "code",
   "execution_count": 21,
   "outputs": [],
   "source": [
    "dataset_overall_inflation = dataset_overall_inflation.rename(columns=dict_rename_columns)"
   ],
   "metadata": {
    "collapsed": false
   }
  },
  {
   "cell_type": "code",
   "execution_count": 22,
   "outputs": [
    {
     "data": {
      "text/plain": "               Area 2012 2013 2014 2015 2016  2017  2018  2019  2020  2021  \\\n12          Belgium  2.6  1.2  0.5  0.6  1.8   2.2   2.3   1.2   0.4   3.2   \n13         Bulgaria  2.4  0.4 -1.6 -1.1 -1.3   1.2   2.6   2.5   1.2   2.8   \n14          Czechia  3.5  1.4  0.4  0.3  0.6   2.4     2   2.6   3.3   3.3   \n15          Denmark  2.4  0.5  0.4  0.2    0   1.1   0.7   0.7   0.3   1.9   \n16          Germany  2.2  1.6  0.8  0.7  0.4   1.7   1.9   1.4   0.4   3.2   \n17          Estonia  4.2  3.2  0.5  0.1  0.8   3.7   3.4   2.3  -0.6   4.5   \n18          Ireland  1.9  0.5  0.3    0 -0.2   0.3   0.7   0.9  -0.5   2.4   \n19           Greece    1 -0.9 -1.4 -1.1    0   1.1   0.8   0.5  -1.3   0.6   \n20            Spain  2.4  1.5 -0.2 -0.6 -0.3     2   1.7   0.8  -0.3     3   \n21           France  2.2    1  0.6  0.1  0.3   1.2   2.1   1.3   0.5   2.1   \n22          Croatia  3.4  2.3  0.2 -0.3 -0.6   1.3   1.6   0.8     0   2.7   \n23            Italy  3.3  1.2  0.2  0.1 -0.1   1.3   1.2   0.6  -0.1   1.9   \n24           Cyprus  3.1  0.4 -0.3 -1.5 -1.2   0.7   0.8   0.5  -1.1   2.3   \n25           Latvia  2.3    0  0.7  0.2  0.1   2.9   2.6   2.7   0.1   3.2   \n26        Lithuania  3.2  1.2  0.2 -0.7  0.7   3.7   2.5   2.2   1.1   4.6   \n27       Luxembourg  2.9  1.7  0.7  0.1    0   2.1     2   1.6     0   3.5   \n28          Hungary  5.7  1.7    0  0.1  0.4   2.4   2.9   3.4   3.4   5.2   \n29            Malta  3.2    1  0.8  1.2  0.9   1.3   1.7   1.5   0.8   0.7   \n30      Netherlands  2.8  2.6  0.3  0.2  0.1   1.3   1.6   2.7   1.1   2.8   \n31          Austria  2.6  2.1  1.5  0.8    1   2.2   2.1   1.5   1.4   2.8   \n32           Poland  3.7  0.8  0.1 -0.7 -0.2   1.6   1.2   2.1   3.7   5.2   \n33         Portugal  2.8  0.4 -0.2  0.5  0.6   1.6   1.2   0.3  -0.1   0.9   \n34          Romania  3.4  3.2  1.4 -0.4 -1.1   1.1   4.1   3.9   2.3   4.1   \n35         Slovenia  2.8  1.9  0.4 -0.8 -0.2   1.6   1.9   1.7  -0.3     2   \n36         Slovakia  3.7  1.5 -0.1 -0.3 -0.5   1.4   2.5   2.8     2   2.8   \n37          Finland  3.2  2.2  1.2 -0.2  0.4   0.8   1.2   1.1   0.4   2.1   \n38           Sweden  0.9  0.4  0.2  0.7  1.1   1.9     2   1.7   0.7   2.7   \n39          Iceland    6  4.1    1  0.3  0.8  -1.7   0.7     2   1.2   3.7   \n40    Liechtenstein    :    :    :    :    :     :     :     :     :     :   \n41           Norway  0.4    2  1.9    2  3.9   1.9     3   2.3   1.2   3.9   \n42      Switzerland -0.7  0.1    0 -0.8 -0.5   0.6   0.9   0.4  -0.8   0.5   \n43   United Kingdom  2.8  2.6  1.5    0  0.7   2.7   2.5   1.8     :     :   \n44       Montenegro    :    :    :    : -0.1   2.7   2.6   0.5  -0.5   2.5   \n45  North Macedonia  1.8  2.7    0  0.1  0.2   2.1   2.3   0.7   1.2   3.4   \n46          Albania    :    :    :    :    :   3.2   1.8   1.7   2.2   2.3   \n47           Serbia  7.4  7.7  2.3  1.5  1.3   3.3     2   1.9   1.8     4   \n48          Türkiye    9  7.5  8.9  7.7  7.7  11.1  16.3  15.2  12.3  19.6   \n49          Kosovo*    :    :    :    :    :   1.5   1.1   2.7   0.2   3.4   \n50    United States  2.1  1.2  1.3 -0.8  0.6   1.8   2.2   1.4   0.8   5.3   \n\n    2022  2023  \n12  10.3   2.3  \n13    13   8.6  \n14  14.8    12  \n15   8.5   3.4  \n16   8.7     6  \n17  19.4   9.1  \n18   8.1   5.2  \n19   9.3   4.2  \n20   8.3   3.4  \n21   5.9   5.7  \n22  10.7   8.4  \n23   8.7   5.9  \n24   8.1   3.9  \n25  17.2   9.1  \n26  18.9   8.7  \n27   8.2   2.9  \n28  15.3    17  \n29   6.1   5.6  \n30  11.6   4.1  \n31   8.6   7.7  \n32  13.2  10.9  \n33   8.1   5.3  \n34    12   9.7  \n35   9.3   7.2  \n36  12.1    11  \n37   7.2   4.3  \n38   8.1   5.9  \n39   5.7     8  \n40     :     :  \n41   6.2   5.8  \n42   2.7   2.3  \n43     :     :  \n44  11.9   8.7  \n45    14     9  \n46   6.6   5.3  \n47  11.7  12.1  \n48  72.3    54  \n49  11.6   4.9  \n50   8.7     3  ",
      "text/html": "<div>\n<style scoped>\n    .dataframe tbody tr th:only-of-type {\n        vertical-align: middle;\n    }\n\n    .dataframe tbody tr th {\n        vertical-align: top;\n    }\n\n    .dataframe thead th {\n        text-align: right;\n    }\n</style>\n<table border=\"1\" class=\"dataframe\">\n  <thead>\n    <tr style=\"text-align: right;\">\n      <th></th>\n      <th>Area</th>\n      <th>2012</th>\n      <th>2013</th>\n      <th>2014</th>\n      <th>2015</th>\n      <th>2016</th>\n      <th>2017</th>\n      <th>2018</th>\n      <th>2019</th>\n      <th>2020</th>\n      <th>2021</th>\n      <th>2022</th>\n      <th>2023</th>\n    </tr>\n  </thead>\n  <tbody>\n    <tr>\n      <th>12</th>\n      <td>Belgium</td>\n      <td>2.6</td>\n      <td>1.2</td>\n      <td>0.5</td>\n      <td>0.6</td>\n      <td>1.8</td>\n      <td>2.2</td>\n      <td>2.3</td>\n      <td>1.2</td>\n      <td>0.4</td>\n      <td>3.2</td>\n      <td>10.3</td>\n      <td>2.3</td>\n    </tr>\n    <tr>\n      <th>13</th>\n      <td>Bulgaria</td>\n      <td>2.4</td>\n      <td>0.4</td>\n      <td>-1.6</td>\n      <td>-1.1</td>\n      <td>-1.3</td>\n      <td>1.2</td>\n      <td>2.6</td>\n      <td>2.5</td>\n      <td>1.2</td>\n      <td>2.8</td>\n      <td>13</td>\n      <td>8.6</td>\n    </tr>\n    <tr>\n      <th>14</th>\n      <td>Czechia</td>\n      <td>3.5</td>\n      <td>1.4</td>\n      <td>0.4</td>\n      <td>0.3</td>\n      <td>0.6</td>\n      <td>2.4</td>\n      <td>2</td>\n      <td>2.6</td>\n      <td>3.3</td>\n      <td>3.3</td>\n      <td>14.8</td>\n      <td>12</td>\n    </tr>\n    <tr>\n      <th>15</th>\n      <td>Denmark</td>\n      <td>2.4</td>\n      <td>0.5</td>\n      <td>0.4</td>\n      <td>0.2</td>\n      <td>0</td>\n      <td>1.1</td>\n      <td>0.7</td>\n      <td>0.7</td>\n      <td>0.3</td>\n      <td>1.9</td>\n      <td>8.5</td>\n      <td>3.4</td>\n    </tr>\n    <tr>\n      <th>16</th>\n      <td>Germany</td>\n      <td>2.2</td>\n      <td>1.6</td>\n      <td>0.8</td>\n      <td>0.7</td>\n      <td>0.4</td>\n      <td>1.7</td>\n      <td>1.9</td>\n      <td>1.4</td>\n      <td>0.4</td>\n      <td>3.2</td>\n      <td>8.7</td>\n      <td>6</td>\n    </tr>\n    <tr>\n      <th>17</th>\n      <td>Estonia</td>\n      <td>4.2</td>\n      <td>3.2</td>\n      <td>0.5</td>\n      <td>0.1</td>\n      <td>0.8</td>\n      <td>3.7</td>\n      <td>3.4</td>\n      <td>2.3</td>\n      <td>-0.6</td>\n      <td>4.5</td>\n      <td>19.4</td>\n      <td>9.1</td>\n    </tr>\n    <tr>\n      <th>18</th>\n      <td>Ireland</td>\n      <td>1.9</td>\n      <td>0.5</td>\n      <td>0.3</td>\n      <td>0</td>\n      <td>-0.2</td>\n      <td>0.3</td>\n      <td>0.7</td>\n      <td>0.9</td>\n      <td>-0.5</td>\n      <td>2.4</td>\n      <td>8.1</td>\n      <td>5.2</td>\n    </tr>\n    <tr>\n      <th>19</th>\n      <td>Greece</td>\n      <td>1</td>\n      <td>-0.9</td>\n      <td>-1.4</td>\n      <td>-1.1</td>\n      <td>0</td>\n      <td>1.1</td>\n      <td>0.8</td>\n      <td>0.5</td>\n      <td>-1.3</td>\n      <td>0.6</td>\n      <td>9.3</td>\n      <td>4.2</td>\n    </tr>\n    <tr>\n      <th>20</th>\n      <td>Spain</td>\n      <td>2.4</td>\n      <td>1.5</td>\n      <td>-0.2</td>\n      <td>-0.6</td>\n      <td>-0.3</td>\n      <td>2</td>\n      <td>1.7</td>\n      <td>0.8</td>\n      <td>-0.3</td>\n      <td>3</td>\n      <td>8.3</td>\n      <td>3.4</td>\n    </tr>\n    <tr>\n      <th>21</th>\n      <td>France</td>\n      <td>2.2</td>\n      <td>1</td>\n      <td>0.6</td>\n      <td>0.1</td>\n      <td>0.3</td>\n      <td>1.2</td>\n      <td>2.1</td>\n      <td>1.3</td>\n      <td>0.5</td>\n      <td>2.1</td>\n      <td>5.9</td>\n      <td>5.7</td>\n    </tr>\n    <tr>\n      <th>22</th>\n      <td>Croatia</td>\n      <td>3.4</td>\n      <td>2.3</td>\n      <td>0.2</td>\n      <td>-0.3</td>\n      <td>-0.6</td>\n      <td>1.3</td>\n      <td>1.6</td>\n      <td>0.8</td>\n      <td>0</td>\n      <td>2.7</td>\n      <td>10.7</td>\n      <td>8.4</td>\n    </tr>\n    <tr>\n      <th>23</th>\n      <td>Italy</td>\n      <td>3.3</td>\n      <td>1.2</td>\n      <td>0.2</td>\n      <td>0.1</td>\n      <td>-0.1</td>\n      <td>1.3</td>\n      <td>1.2</td>\n      <td>0.6</td>\n      <td>-0.1</td>\n      <td>1.9</td>\n      <td>8.7</td>\n      <td>5.9</td>\n    </tr>\n    <tr>\n      <th>24</th>\n      <td>Cyprus</td>\n      <td>3.1</td>\n      <td>0.4</td>\n      <td>-0.3</td>\n      <td>-1.5</td>\n      <td>-1.2</td>\n      <td>0.7</td>\n      <td>0.8</td>\n      <td>0.5</td>\n      <td>-1.1</td>\n      <td>2.3</td>\n      <td>8.1</td>\n      <td>3.9</td>\n    </tr>\n    <tr>\n      <th>25</th>\n      <td>Latvia</td>\n      <td>2.3</td>\n      <td>0</td>\n      <td>0.7</td>\n      <td>0.2</td>\n      <td>0.1</td>\n      <td>2.9</td>\n      <td>2.6</td>\n      <td>2.7</td>\n      <td>0.1</td>\n      <td>3.2</td>\n      <td>17.2</td>\n      <td>9.1</td>\n    </tr>\n    <tr>\n      <th>26</th>\n      <td>Lithuania</td>\n      <td>3.2</td>\n      <td>1.2</td>\n      <td>0.2</td>\n      <td>-0.7</td>\n      <td>0.7</td>\n      <td>3.7</td>\n      <td>2.5</td>\n      <td>2.2</td>\n      <td>1.1</td>\n      <td>4.6</td>\n      <td>18.9</td>\n      <td>8.7</td>\n    </tr>\n    <tr>\n      <th>27</th>\n      <td>Luxembourg</td>\n      <td>2.9</td>\n      <td>1.7</td>\n      <td>0.7</td>\n      <td>0.1</td>\n      <td>0</td>\n      <td>2.1</td>\n      <td>2</td>\n      <td>1.6</td>\n      <td>0</td>\n      <td>3.5</td>\n      <td>8.2</td>\n      <td>2.9</td>\n    </tr>\n    <tr>\n      <th>28</th>\n      <td>Hungary</td>\n      <td>5.7</td>\n      <td>1.7</td>\n      <td>0</td>\n      <td>0.1</td>\n      <td>0.4</td>\n      <td>2.4</td>\n      <td>2.9</td>\n      <td>3.4</td>\n      <td>3.4</td>\n      <td>5.2</td>\n      <td>15.3</td>\n      <td>17</td>\n    </tr>\n    <tr>\n      <th>29</th>\n      <td>Malta</td>\n      <td>3.2</td>\n      <td>1</td>\n      <td>0.8</td>\n      <td>1.2</td>\n      <td>0.9</td>\n      <td>1.3</td>\n      <td>1.7</td>\n      <td>1.5</td>\n      <td>0.8</td>\n      <td>0.7</td>\n      <td>6.1</td>\n      <td>5.6</td>\n    </tr>\n    <tr>\n      <th>30</th>\n      <td>Netherlands</td>\n      <td>2.8</td>\n      <td>2.6</td>\n      <td>0.3</td>\n      <td>0.2</td>\n      <td>0.1</td>\n      <td>1.3</td>\n      <td>1.6</td>\n      <td>2.7</td>\n      <td>1.1</td>\n      <td>2.8</td>\n      <td>11.6</td>\n      <td>4.1</td>\n    </tr>\n    <tr>\n      <th>31</th>\n      <td>Austria</td>\n      <td>2.6</td>\n      <td>2.1</td>\n      <td>1.5</td>\n      <td>0.8</td>\n      <td>1</td>\n      <td>2.2</td>\n      <td>2.1</td>\n      <td>1.5</td>\n      <td>1.4</td>\n      <td>2.8</td>\n      <td>8.6</td>\n      <td>7.7</td>\n    </tr>\n    <tr>\n      <th>32</th>\n      <td>Poland</td>\n      <td>3.7</td>\n      <td>0.8</td>\n      <td>0.1</td>\n      <td>-0.7</td>\n      <td>-0.2</td>\n      <td>1.6</td>\n      <td>1.2</td>\n      <td>2.1</td>\n      <td>3.7</td>\n      <td>5.2</td>\n      <td>13.2</td>\n      <td>10.9</td>\n    </tr>\n    <tr>\n      <th>33</th>\n      <td>Portugal</td>\n      <td>2.8</td>\n      <td>0.4</td>\n      <td>-0.2</td>\n      <td>0.5</td>\n      <td>0.6</td>\n      <td>1.6</td>\n      <td>1.2</td>\n      <td>0.3</td>\n      <td>-0.1</td>\n      <td>0.9</td>\n      <td>8.1</td>\n      <td>5.3</td>\n    </tr>\n    <tr>\n      <th>34</th>\n      <td>Romania</td>\n      <td>3.4</td>\n      <td>3.2</td>\n      <td>1.4</td>\n      <td>-0.4</td>\n      <td>-1.1</td>\n      <td>1.1</td>\n      <td>4.1</td>\n      <td>3.9</td>\n      <td>2.3</td>\n      <td>4.1</td>\n      <td>12</td>\n      <td>9.7</td>\n    </tr>\n    <tr>\n      <th>35</th>\n      <td>Slovenia</td>\n      <td>2.8</td>\n      <td>1.9</td>\n      <td>0.4</td>\n      <td>-0.8</td>\n      <td>-0.2</td>\n      <td>1.6</td>\n      <td>1.9</td>\n      <td>1.7</td>\n      <td>-0.3</td>\n      <td>2</td>\n      <td>9.3</td>\n      <td>7.2</td>\n    </tr>\n    <tr>\n      <th>36</th>\n      <td>Slovakia</td>\n      <td>3.7</td>\n      <td>1.5</td>\n      <td>-0.1</td>\n      <td>-0.3</td>\n      <td>-0.5</td>\n      <td>1.4</td>\n      <td>2.5</td>\n      <td>2.8</td>\n      <td>2</td>\n      <td>2.8</td>\n      <td>12.1</td>\n      <td>11</td>\n    </tr>\n    <tr>\n      <th>37</th>\n      <td>Finland</td>\n      <td>3.2</td>\n      <td>2.2</td>\n      <td>1.2</td>\n      <td>-0.2</td>\n      <td>0.4</td>\n      <td>0.8</td>\n      <td>1.2</td>\n      <td>1.1</td>\n      <td>0.4</td>\n      <td>2.1</td>\n      <td>7.2</td>\n      <td>4.3</td>\n    </tr>\n    <tr>\n      <th>38</th>\n      <td>Sweden</td>\n      <td>0.9</td>\n      <td>0.4</td>\n      <td>0.2</td>\n      <td>0.7</td>\n      <td>1.1</td>\n      <td>1.9</td>\n      <td>2</td>\n      <td>1.7</td>\n      <td>0.7</td>\n      <td>2.7</td>\n      <td>8.1</td>\n      <td>5.9</td>\n    </tr>\n    <tr>\n      <th>39</th>\n      <td>Iceland</td>\n      <td>6</td>\n      <td>4.1</td>\n      <td>1</td>\n      <td>0.3</td>\n      <td>0.8</td>\n      <td>-1.7</td>\n      <td>0.7</td>\n      <td>2</td>\n      <td>1.2</td>\n      <td>3.7</td>\n      <td>5.7</td>\n      <td>8</td>\n    </tr>\n    <tr>\n      <th>40</th>\n      <td>Liechtenstein</td>\n      <td>:</td>\n      <td>:</td>\n      <td>:</td>\n      <td>:</td>\n      <td>:</td>\n      <td>:</td>\n      <td>:</td>\n      <td>:</td>\n      <td>:</td>\n      <td>:</td>\n      <td>:</td>\n      <td>:</td>\n    </tr>\n    <tr>\n      <th>41</th>\n      <td>Norway</td>\n      <td>0.4</td>\n      <td>2</td>\n      <td>1.9</td>\n      <td>2</td>\n      <td>3.9</td>\n      <td>1.9</td>\n      <td>3</td>\n      <td>2.3</td>\n      <td>1.2</td>\n      <td>3.9</td>\n      <td>6.2</td>\n      <td>5.8</td>\n    </tr>\n    <tr>\n      <th>42</th>\n      <td>Switzerland</td>\n      <td>-0.7</td>\n      <td>0.1</td>\n      <td>0</td>\n      <td>-0.8</td>\n      <td>-0.5</td>\n      <td>0.6</td>\n      <td>0.9</td>\n      <td>0.4</td>\n      <td>-0.8</td>\n      <td>0.5</td>\n      <td>2.7</td>\n      <td>2.3</td>\n    </tr>\n    <tr>\n      <th>43</th>\n      <td>United Kingdom</td>\n      <td>2.8</td>\n      <td>2.6</td>\n      <td>1.5</td>\n      <td>0</td>\n      <td>0.7</td>\n      <td>2.7</td>\n      <td>2.5</td>\n      <td>1.8</td>\n      <td>:</td>\n      <td>:</td>\n      <td>:</td>\n      <td>:</td>\n    </tr>\n    <tr>\n      <th>44</th>\n      <td>Montenegro</td>\n      <td>:</td>\n      <td>:</td>\n      <td>:</td>\n      <td>:</td>\n      <td>-0.1</td>\n      <td>2.7</td>\n      <td>2.6</td>\n      <td>0.5</td>\n      <td>-0.5</td>\n      <td>2.5</td>\n      <td>11.9</td>\n      <td>8.7</td>\n    </tr>\n    <tr>\n      <th>45</th>\n      <td>North Macedonia</td>\n      <td>1.8</td>\n      <td>2.7</td>\n      <td>0</td>\n      <td>0.1</td>\n      <td>0.2</td>\n      <td>2.1</td>\n      <td>2.3</td>\n      <td>0.7</td>\n      <td>1.2</td>\n      <td>3.4</td>\n      <td>14</td>\n      <td>9</td>\n    </tr>\n    <tr>\n      <th>46</th>\n      <td>Albania</td>\n      <td>:</td>\n      <td>:</td>\n      <td>:</td>\n      <td>:</td>\n      <td>:</td>\n      <td>3.2</td>\n      <td>1.8</td>\n      <td>1.7</td>\n      <td>2.2</td>\n      <td>2.3</td>\n      <td>6.6</td>\n      <td>5.3</td>\n    </tr>\n    <tr>\n      <th>47</th>\n      <td>Serbia</td>\n      <td>7.4</td>\n      <td>7.7</td>\n      <td>2.3</td>\n      <td>1.5</td>\n      <td>1.3</td>\n      <td>3.3</td>\n      <td>2</td>\n      <td>1.9</td>\n      <td>1.8</td>\n      <td>4</td>\n      <td>11.7</td>\n      <td>12.1</td>\n    </tr>\n    <tr>\n      <th>48</th>\n      <td>Türkiye</td>\n      <td>9</td>\n      <td>7.5</td>\n      <td>8.9</td>\n      <td>7.7</td>\n      <td>7.7</td>\n      <td>11.1</td>\n      <td>16.3</td>\n      <td>15.2</td>\n      <td>12.3</td>\n      <td>19.6</td>\n      <td>72.3</td>\n      <td>54</td>\n    </tr>\n    <tr>\n      <th>49</th>\n      <td>Kosovo*</td>\n      <td>:</td>\n      <td>:</td>\n      <td>:</td>\n      <td>:</td>\n      <td>:</td>\n      <td>1.5</td>\n      <td>1.1</td>\n      <td>2.7</td>\n      <td>0.2</td>\n      <td>3.4</td>\n      <td>11.6</td>\n      <td>4.9</td>\n    </tr>\n    <tr>\n      <th>50</th>\n      <td>United States</td>\n      <td>2.1</td>\n      <td>1.2</td>\n      <td>1.3</td>\n      <td>-0.8</td>\n      <td>0.6</td>\n      <td>1.8</td>\n      <td>2.2</td>\n      <td>1.4</td>\n      <td>0.8</td>\n      <td>5.3</td>\n      <td>8.7</td>\n      <td>3</td>\n    </tr>\n  </tbody>\n</table>\n</div>"
     },
     "execution_count": 22,
     "metadata": {},
     "output_type": "execute_result"
    }
   ],
   "source": [
    "dataset_overall_inflation"
   ],
   "metadata": {
    "collapsed": false
   }
  },
  {
   "cell_type": "code",
   "execution_count": 24,
   "outputs": [],
   "source": [
    "dataset_overall_inflation = dataset_overall_inflation.melt(id_vars=['Area'], var_name='Year', value_name='Overall Inflation Rate')"
   ],
   "metadata": {
    "collapsed": false
   }
  },
  {
   "cell_type": "code",
   "execution_count": 101,
   "outputs": [],
   "source": [
    "dataset_overall_inflation = dataset_overall_inflation[dataset_overall_inflation['Area']!='Liechtenstein']"
   ],
   "metadata": {
    "collapsed": false
   }
  },
  {
   "cell_type": "code",
   "execution_count": 108,
   "outputs": [],
   "source": [
    "pd.set_option('future.no_silent_downcasting', True)\n",
    "dataset_overall_inflation = dataset_overall_inflation.replace(to_replace=\":\", value=np.nan)"
   ],
   "metadata": {
    "collapsed": false
   }
  },
  {
   "cell_type": "code",
   "execution_count": 111,
   "outputs": [],
   "source": [
    "dataset_overall_inflation = dataset_overall_inflation.sort_values(by=['Area', 'Year'])"
   ],
   "metadata": {
    "collapsed": false
   }
  },
  {
   "cell_type": "code",
   "execution_count": 124,
   "outputs": [
    {
     "data": {
      "text/plain": "              Area  Year Overall Inflation Rate\n34         Albania  2012                    NaN\n73         Albania  2013                    NaN\n112        Albania  2014                    NaN\n151        Albania  2015                    NaN\n190        Albania  2016                    NaN\n..             ...   ...                    ...\n311  United States  2019                    1.4\n350  United States  2020                    0.8\n389  United States  2021                    5.3\n428  United States  2022                    8.7\n467  United States  2023                      3\n\n[456 rows x 3 columns]",
      "text/html": "<div>\n<style scoped>\n    .dataframe tbody tr th:only-of-type {\n        vertical-align: middle;\n    }\n\n    .dataframe tbody tr th {\n        vertical-align: top;\n    }\n\n    .dataframe thead th {\n        text-align: right;\n    }\n</style>\n<table border=\"1\" class=\"dataframe\">\n  <thead>\n    <tr style=\"text-align: right;\">\n      <th></th>\n      <th>Area</th>\n      <th>Year</th>\n      <th>Overall Inflation Rate</th>\n    </tr>\n  </thead>\n  <tbody>\n    <tr>\n      <th>34</th>\n      <td>Albania</td>\n      <td>2012</td>\n      <td>NaN</td>\n    </tr>\n    <tr>\n      <th>73</th>\n      <td>Albania</td>\n      <td>2013</td>\n      <td>NaN</td>\n    </tr>\n    <tr>\n      <th>112</th>\n      <td>Albania</td>\n      <td>2014</td>\n      <td>NaN</td>\n    </tr>\n    <tr>\n      <th>151</th>\n      <td>Albania</td>\n      <td>2015</td>\n      <td>NaN</td>\n    </tr>\n    <tr>\n      <th>190</th>\n      <td>Albania</td>\n      <td>2016</td>\n      <td>NaN</td>\n    </tr>\n    <tr>\n      <th>...</th>\n      <td>...</td>\n      <td>...</td>\n      <td>...</td>\n    </tr>\n    <tr>\n      <th>311</th>\n      <td>United States</td>\n      <td>2019</td>\n      <td>1.4</td>\n    </tr>\n    <tr>\n      <th>350</th>\n      <td>United States</td>\n      <td>2020</td>\n      <td>0.8</td>\n    </tr>\n    <tr>\n      <th>389</th>\n      <td>United States</td>\n      <td>2021</td>\n      <td>5.3</td>\n    </tr>\n    <tr>\n      <th>428</th>\n      <td>United States</td>\n      <td>2022</td>\n      <td>8.7</td>\n    </tr>\n    <tr>\n      <th>467</th>\n      <td>United States</td>\n      <td>2023</td>\n      <td>3</td>\n    </tr>\n  </tbody>\n</table>\n<p>456 rows × 3 columns</p>\n</div>"
     },
     "execution_count": 124,
     "metadata": {},
     "output_type": "execute_result"
    }
   ],
   "source": [
    "dataset_overall_inflation"
   ],
   "metadata": {
    "collapsed": false
   }
  },
  {
   "cell_type": "code",
   "execution_count": 128,
   "outputs": [
    {
     "name": "stderr",
     "output_type": "stream",
     "text": [
      "/var/folders/k5/ss4kcq4d7410z5br_yry6dpw0000gn/T/ipykernel_36296/657048662.py:1: FutureWarning: Series.fillna with 'method' is deprecated and will raise in a future version. Use obj.ffill() or obj.bfill() instead.\n",
      "  dataset_overall_inflation['Overall Inflation Rate'].fillna(method='bfill')\n"
     ]
    },
    {
     "data": {
      "text/plain": "34     3.2\n73     3.2\n112    3.2\n151    3.2\n190    3.2\n      ... \n311    1.4\n350    0.8\n389    5.3\n428    8.7\n467      3\nName: Overall Inflation Rate, Length: 456, dtype: object"
     },
     "execution_count": 128,
     "metadata": {},
     "output_type": "execute_result"
    }
   ],
   "source": [
    "dataset_overall_inflation['Overall Inflation Rate'].fillna(method='bfill')"
   ],
   "metadata": {
    "collapsed": false
   }
  },
  {
   "cell_type": "code",
   "execution_count": 129,
   "outputs": [],
   "source": [
    "df = dataset_overall_inflation.copy()"
   ],
   "metadata": {
    "collapsed": false
   }
  },
  {
   "cell_type": "code",
   "execution_count": 136,
   "outputs": [
    {
     "name": "stderr",
     "output_type": "stream",
     "text": [
      "/var/folders/k5/ss4kcq4d7410z5br_yry6dpw0000gn/T/ipykernel_36296/1714764472.py:1: FutureWarning: Series.fillna with 'method' is deprecated and will raise in a future version. Use obj.ffill() or obj.bfill() instead.\n",
      "  df['Overall Inflation Rate'] = dataset_overall_inflation.groupby('Area')['Overall Inflation Rate'].apply(lambda group: group.fillna(method='bfill'))\n"
     ]
    },
    {
     "ename": "TypeError",
     "evalue": "incompatible index of inserted column with frame index",
     "output_type": "error",
     "traceback": [
      "\u001B[0;31m---------------------------------------------------------------------------\u001B[0m",
      "\u001B[0;31mValueError\u001B[0m                                Traceback (most recent call last)",
      "File \u001B[0;32m~/venv/lib/python3.10/site-packages/pandas/core/frame.py:12687\u001B[0m, in \u001B[0;36m_reindex_for_setitem\u001B[0;34m(value, index)\u001B[0m\n\u001B[1;32m  12686\u001B[0m \u001B[38;5;28;01mtry\u001B[39;00m:\n\u001B[0;32m> 12687\u001B[0m     reindexed_value \u001B[38;5;241m=\u001B[39m \u001B[43mvalue\u001B[49m\u001B[38;5;241;43m.\u001B[39;49m\u001B[43mreindex\u001B[49m\u001B[43m(\u001B[49m\u001B[43mindex\u001B[49m\u001B[43m)\u001B[49m\u001B[38;5;241m.\u001B[39m_values\n\u001B[1;32m  12688\u001B[0m \u001B[38;5;28;01mexcept\u001B[39;00m \u001B[38;5;167;01mValueError\u001B[39;00m \u001B[38;5;28;01mas\u001B[39;00m err:\n\u001B[1;32m  12689\u001B[0m     \u001B[38;5;66;03m# raised in MultiIndex.from_tuples, see test_insert_error_msmgs\u001B[39;00m\n",
      "File \u001B[0;32m~/venv/lib/python3.10/site-packages/pandas/core/series.py:5153\u001B[0m, in \u001B[0;36mSeries.reindex\u001B[0;34m(self, index, axis, method, copy, level, fill_value, limit, tolerance)\u001B[0m\n\u001B[1;32m   5136\u001B[0m \u001B[38;5;129m@doc\u001B[39m(\n\u001B[1;32m   5137\u001B[0m     NDFrame\u001B[38;5;241m.\u001B[39mreindex,  \u001B[38;5;66;03m# type: ignore[has-type]\u001B[39;00m\n\u001B[1;32m   5138\u001B[0m     klass\u001B[38;5;241m=\u001B[39m_shared_doc_kwargs[\u001B[38;5;124m\"\u001B[39m\u001B[38;5;124mklass\u001B[39m\u001B[38;5;124m\"\u001B[39m],\n\u001B[0;32m   (...)\u001B[0m\n\u001B[1;32m   5151\u001B[0m     tolerance\u001B[38;5;241m=\u001B[39m\u001B[38;5;28;01mNone\u001B[39;00m,\n\u001B[1;32m   5152\u001B[0m ) \u001B[38;5;241m-\u001B[39m\u001B[38;5;241m>\u001B[39m Series:\n\u001B[0;32m-> 5153\u001B[0m     \u001B[38;5;28;01mreturn\u001B[39;00m \u001B[38;5;28;43msuper\u001B[39;49m\u001B[43m(\u001B[49m\u001B[43m)\u001B[49m\u001B[38;5;241;43m.\u001B[39;49m\u001B[43mreindex\u001B[49m\u001B[43m(\u001B[49m\n\u001B[1;32m   5154\u001B[0m \u001B[43m        \u001B[49m\u001B[43mindex\u001B[49m\u001B[38;5;241;43m=\u001B[39;49m\u001B[43mindex\u001B[49m\u001B[43m,\u001B[49m\n\u001B[1;32m   5155\u001B[0m \u001B[43m        \u001B[49m\u001B[43mmethod\u001B[49m\u001B[38;5;241;43m=\u001B[39;49m\u001B[43mmethod\u001B[49m\u001B[43m,\u001B[49m\n\u001B[1;32m   5156\u001B[0m \u001B[43m        \u001B[49m\u001B[43mcopy\u001B[49m\u001B[38;5;241;43m=\u001B[39;49m\u001B[43mcopy\u001B[49m\u001B[43m,\u001B[49m\n\u001B[1;32m   5157\u001B[0m \u001B[43m        \u001B[49m\u001B[43mlevel\u001B[49m\u001B[38;5;241;43m=\u001B[39;49m\u001B[43mlevel\u001B[49m\u001B[43m,\u001B[49m\n\u001B[1;32m   5158\u001B[0m \u001B[43m        \u001B[49m\u001B[43mfill_value\u001B[49m\u001B[38;5;241;43m=\u001B[39;49m\u001B[43mfill_value\u001B[49m\u001B[43m,\u001B[49m\n\u001B[1;32m   5159\u001B[0m \u001B[43m        \u001B[49m\u001B[43mlimit\u001B[49m\u001B[38;5;241;43m=\u001B[39;49m\u001B[43mlimit\u001B[49m\u001B[43m,\u001B[49m\n\u001B[1;32m   5160\u001B[0m \u001B[43m        \u001B[49m\u001B[43mtolerance\u001B[49m\u001B[38;5;241;43m=\u001B[39;49m\u001B[43mtolerance\u001B[49m\u001B[43m,\u001B[49m\n\u001B[1;32m   5161\u001B[0m \u001B[43m    \u001B[49m\u001B[43m)\u001B[49m\n",
      "File \u001B[0;32m~/venv/lib/python3.10/site-packages/pandas/core/generic.py:5610\u001B[0m, in \u001B[0;36mNDFrame.reindex\u001B[0;34m(self, labels, index, columns, axis, method, copy, level, fill_value, limit, tolerance)\u001B[0m\n\u001B[1;32m   5609\u001B[0m \u001B[38;5;66;03m# perform the reindex on the axes\u001B[39;00m\n\u001B[0;32m-> 5610\u001B[0m \u001B[38;5;28;01mreturn\u001B[39;00m \u001B[38;5;28;43mself\u001B[39;49m\u001B[38;5;241;43m.\u001B[39;49m\u001B[43m_reindex_axes\u001B[49m\u001B[43m(\u001B[49m\n\u001B[1;32m   5611\u001B[0m \u001B[43m    \u001B[49m\u001B[43maxes\u001B[49m\u001B[43m,\u001B[49m\u001B[43m \u001B[49m\u001B[43mlevel\u001B[49m\u001B[43m,\u001B[49m\u001B[43m \u001B[49m\u001B[43mlimit\u001B[49m\u001B[43m,\u001B[49m\u001B[43m \u001B[49m\u001B[43mtolerance\u001B[49m\u001B[43m,\u001B[49m\u001B[43m \u001B[49m\u001B[43mmethod\u001B[49m\u001B[43m,\u001B[49m\u001B[43m \u001B[49m\u001B[43mfill_value\u001B[49m\u001B[43m,\u001B[49m\u001B[43m \u001B[49m\u001B[43mcopy\u001B[49m\n\u001B[1;32m   5612\u001B[0m \u001B[43m\u001B[49m\u001B[43m)\u001B[49m\u001B[38;5;241m.\u001B[39m__finalize__(\u001B[38;5;28mself\u001B[39m, method\u001B[38;5;241m=\u001B[39m\u001B[38;5;124m\"\u001B[39m\u001B[38;5;124mreindex\u001B[39m\u001B[38;5;124m\"\u001B[39m)\n",
      "File \u001B[0;32m~/venv/lib/python3.10/site-packages/pandas/core/generic.py:5633\u001B[0m, in \u001B[0;36mNDFrame._reindex_axes\u001B[0;34m(self, axes, level, limit, tolerance, method, fill_value, copy)\u001B[0m\n\u001B[1;32m   5632\u001B[0m ax \u001B[38;5;241m=\u001B[39m \u001B[38;5;28mself\u001B[39m\u001B[38;5;241m.\u001B[39m_get_axis(a)\n\u001B[0;32m-> 5633\u001B[0m new_index, indexer \u001B[38;5;241m=\u001B[39m \u001B[43max\u001B[49m\u001B[38;5;241;43m.\u001B[39;49m\u001B[43mreindex\u001B[49m\u001B[43m(\u001B[49m\n\u001B[1;32m   5634\u001B[0m \u001B[43m    \u001B[49m\u001B[43mlabels\u001B[49m\u001B[43m,\u001B[49m\u001B[43m \u001B[49m\u001B[43mlevel\u001B[49m\u001B[38;5;241;43m=\u001B[39;49m\u001B[43mlevel\u001B[49m\u001B[43m,\u001B[49m\u001B[43m \u001B[49m\u001B[43mlimit\u001B[49m\u001B[38;5;241;43m=\u001B[39;49m\u001B[43mlimit\u001B[49m\u001B[43m,\u001B[49m\u001B[43m \u001B[49m\u001B[43mtolerance\u001B[49m\u001B[38;5;241;43m=\u001B[39;49m\u001B[43mtolerance\u001B[49m\u001B[43m,\u001B[49m\u001B[43m \u001B[49m\u001B[43mmethod\u001B[49m\u001B[38;5;241;43m=\u001B[39;49m\u001B[43mmethod\u001B[49m\n\u001B[1;32m   5635\u001B[0m \u001B[43m\u001B[49m\u001B[43m)\u001B[49m\n\u001B[1;32m   5637\u001B[0m axis \u001B[38;5;241m=\u001B[39m \u001B[38;5;28mself\u001B[39m\u001B[38;5;241m.\u001B[39m_get_axis_number(a)\n",
      "File \u001B[0;32m~/venv/lib/python3.10/site-packages/pandas/core/indexes/base.py:4433\u001B[0m, in \u001B[0;36mIndex.reindex\u001B[0;34m(self, target, method, level, limit, tolerance)\u001B[0m\n\u001B[1;32m   4431\u001B[0m             indexer, _ \u001B[38;5;241m=\u001B[39m \u001B[38;5;28mself\u001B[39m\u001B[38;5;241m.\u001B[39mget_indexer_non_unique(target)\n\u001B[0;32m-> 4433\u001B[0m target \u001B[38;5;241m=\u001B[39m \u001B[38;5;28;43mself\u001B[39;49m\u001B[38;5;241;43m.\u001B[39;49m\u001B[43m_wrap_reindex_result\u001B[49m\u001B[43m(\u001B[49m\u001B[43mtarget\u001B[49m\u001B[43m,\u001B[49m\u001B[43m \u001B[49m\u001B[43mindexer\u001B[49m\u001B[43m,\u001B[49m\u001B[43m \u001B[49m\u001B[43mpreserve_names\u001B[49m\u001B[43m)\u001B[49m\n\u001B[1;32m   4434\u001B[0m \u001B[38;5;28;01mreturn\u001B[39;00m target, indexer\n",
      "File \u001B[0;32m~/venv/lib/python3.10/site-packages/pandas/core/indexes/multi.py:2717\u001B[0m, in \u001B[0;36mMultiIndex._wrap_reindex_result\u001B[0;34m(self, target, indexer, preserve_names)\u001B[0m\n\u001B[1;32m   2716\u001B[0m \u001B[38;5;28;01mtry\u001B[39;00m:\n\u001B[0;32m-> 2717\u001B[0m     target \u001B[38;5;241m=\u001B[39m \u001B[43mMultiIndex\u001B[49m\u001B[38;5;241;43m.\u001B[39;49m\u001B[43mfrom_tuples\u001B[49m\u001B[43m(\u001B[49m\u001B[43mtarget\u001B[49m\u001B[43m)\u001B[49m\n\u001B[1;32m   2718\u001B[0m \u001B[38;5;28;01mexcept\u001B[39;00m \u001B[38;5;167;01mTypeError\u001B[39;00m:\n\u001B[1;32m   2719\u001B[0m     \u001B[38;5;66;03m# not all tuples, see test_constructor_dict_multiindex_reindex_flat\u001B[39;00m\n",
      "File \u001B[0;32m~/venv/lib/python3.10/site-packages/pandas/core/indexes/multi.py:222\u001B[0m, in \u001B[0;36mnames_compat.<locals>.new_meth\u001B[0;34m(self_or_cls, *args, **kwargs)\u001B[0m\n\u001B[1;32m    220\u001B[0m     kwargs[\u001B[38;5;124m\"\u001B[39m\u001B[38;5;124mnames\u001B[39m\u001B[38;5;124m\"\u001B[39m] \u001B[38;5;241m=\u001B[39m kwargs\u001B[38;5;241m.\u001B[39mpop(\u001B[38;5;124m\"\u001B[39m\u001B[38;5;124mname\u001B[39m\u001B[38;5;124m\"\u001B[39m)\n\u001B[0;32m--> 222\u001B[0m \u001B[38;5;28;01mreturn\u001B[39;00m \u001B[43mmeth\u001B[49m\u001B[43m(\u001B[49m\u001B[43mself_or_cls\u001B[49m\u001B[43m,\u001B[49m\u001B[43m \u001B[49m\u001B[38;5;241;43m*\u001B[39;49m\u001B[43margs\u001B[49m\u001B[43m,\u001B[49m\u001B[43m \u001B[49m\u001B[38;5;241;43m*\u001B[39;49m\u001B[38;5;241;43m*\u001B[39;49m\u001B[43mkwargs\u001B[49m\u001B[43m)\u001B[49m\n",
      "File \u001B[0;32m~/venv/lib/python3.10/site-packages/pandas/core/indexes/multi.py:617\u001B[0m, in \u001B[0;36mMultiIndex.from_tuples\u001B[0;34m(cls, tuples, sortorder, names)\u001B[0m\n\u001B[1;32m    615\u001B[0m         tuples \u001B[38;5;241m=\u001B[39m np\u001B[38;5;241m.\u001B[39masarray(tuples\u001B[38;5;241m.\u001B[39m_values)\n\u001B[0;32m--> 617\u001B[0m     arrays \u001B[38;5;241m=\u001B[39m \u001B[38;5;28mlist\u001B[39m(\u001B[43mlib\u001B[49m\u001B[38;5;241;43m.\u001B[39;49m\u001B[43mtuples_to_object_array\u001B[49m\u001B[43m(\u001B[49m\u001B[43mtuples\u001B[49m\u001B[43m)\u001B[49m\u001B[38;5;241m.\u001B[39mT)\n\u001B[1;32m    618\u001B[0m \u001B[38;5;28;01melif\u001B[39;00m \u001B[38;5;28misinstance\u001B[39m(tuples, \u001B[38;5;28mlist\u001B[39m):\n",
      "File \u001B[0;32mlib.pyx:3029\u001B[0m, in \u001B[0;36mpandas._libs.lib.tuples_to_object_array\u001B[0;34m()\u001B[0m\n",
      "\u001B[0;31mValueError\u001B[0m: Buffer dtype mismatch, expected 'Python object' but got 'long'",
      "\nThe above exception was the direct cause of the following exception:\n",
      "\u001B[0;31mTypeError\u001B[0m                                 Traceback (most recent call last)",
      "\u001B[0;32m/var/folders/k5/ss4kcq4d7410z5br_yry6dpw0000gn/T/ipykernel_36296/1714764472.py\u001B[0m in \u001B[0;36m?\u001B[0;34m()\u001B[0m\n\u001B[0;32m----> 1\u001B[0;31m \u001B[0mdf\u001B[0m\u001B[0;34m[\u001B[0m\u001B[0;34m'Overall Inflation Rate'\u001B[0m\u001B[0;34m]\u001B[0m \u001B[0;34m=\u001B[0m \u001B[0mdataset_overall_inflation\u001B[0m\u001B[0;34m.\u001B[0m\u001B[0mgroupby\u001B[0m\u001B[0;34m(\u001B[0m\u001B[0;34m'Area'\u001B[0m\u001B[0;34m)\u001B[0m\u001B[0;34m[\u001B[0m\u001B[0;34m'Overall Inflation Rate'\u001B[0m\u001B[0;34m]\u001B[0m\u001B[0;34m.\u001B[0m\u001B[0mapply\u001B[0m\u001B[0;34m(\u001B[0m\u001B[0;32mlambda\u001B[0m \u001B[0mgroup\u001B[0m\u001B[0;34m:\u001B[0m \u001B[0mgroup\u001B[0m\u001B[0;34m.\u001B[0m\u001B[0mfillna\u001B[0m\u001B[0;34m(\u001B[0m\u001B[0mmethod\u001B[0m\u001B[0;34m=\u001B[0m\u001B[0;34m'bfill'\u001B[0m\u001B[0;34m)\u001B[0m\u001B[0;34m)\u001B[0m\u001B[0;34m\u001B[0m\u001B[0;34m\u001B[0m\u001B[0m\n\u001B[0m",
      "\u001B[0;32m~/venv/lib/python3.10/site-packages/pandas/core/frame.py\u001B[0m in \u001B[0;36m?\u001B[0;34m(self, key, value)\u001B[0m\n\u001B[1;32m   4307\u001B[0m             \u001B[0;31m# Column to set is duplicated\u001B[0m\u001B[0;34m\u001B[0m\u001B[0;34m\u001B[0m\u001B[0m\n\u001B[1;32m   4308\u001B[0m             \u001B[0mself\u001B[0m\u001B[0;34m.\u001B[0m\u001B[0m_setitem_array\u001B[0m\u001B[0;34m(\u001B[0m\u001B[0;34m[\u001B[0m\u001B[0mkey\u001B[0m\u001B[0;34m]\u001B[0m\u001B[0;34m,\u001B[0m \u001B[0mvalue\u001B[0m\u001B[0;34m)\u001B[0m\u001B[0;34m\u001B[0m\u001B[0;34m\u001B[0m\u001B[0m\n\u001B[1;32m   4309\u001B[0m         \u001B[0;32melse\u001B[0m\u001B[0;34m:\u001B[0m\u001B[0;34m\u001B[0m\u001B[0;34m\u001B[0m\u001B[0m\n\u001B[1;32m   4310\u001B[0m             \u001B[0;31m# set column\u001B[0m\u001B[0;34m\u001B[0m\u001B[0;34m\u001B[0m\u001B[0m\n\u001B[0;32m-> 4311\u001B[0;31m             \u001B[0mself\u001B[0m\u001B[0;34m.\u001B[0m\u001B[0m_set_item\u001B[0m\u001B[0;34m(\u001B[0m\u001B[0mkey\u001B[0m\u001B[0;34m,\u001B[0m \u001B[0mvalue\u001B[0m\u001B[0;34m)\u001B[0m\u001B[0;34m\u001B[0m\u001B[0;34m\u001B[0m\u001B[0m\n\u001B[0m",
      "\u001B[0;32m~/venv/lib/python3.10/site-packages/pandas/core/frame.py\u001B[0m in \u001B[0;36m?\u001B[0;34m(self, key, value)\u001B[0m\n\u001B[1;32m   4520\u001B[0m \u001B[0;34m\u001B[0m\u001B[0m\n\u001B[1;32m   4521\u001B[0m         \u001B[0mSeries\u001B[0m\u001B[0;34m/\u001B[0m\u001B[0mTimeSeries\u001B[0m \u001B[0mwill\u001B[0m \u001B[0mbe\u001B[0m \u001B[0mconformed\u001B[0m \u001B[0mto\u001B[0m \u001B[0mthe\u001B[0m \u001B[0mDataFrames\u001B[0m \u001B[0mindex\u001B[0m \u001B[0mto\u001B[0m\u001B[0;34m\u001B[0m\u001B[0;34m\u001B[0m\u001B[0m\n\u001B[1;32m   4522\u001B[0m         \u001B[0mensure\u001B[0m \u001B[0mhomogeneity\u001B[0m\u001B[0;34m.\u001B[0m\u001B[0;34m\u001B[0m\u001B[0;34m\u001B[0m\u001B[0m\n\u001B[1;32m   4523\u001B[0m         \"\"\"\n\u001B[0;32m-> 4524\u001B[0;31m         \u001B[0mvalue\u001B[0m\u001B[0;34m,\u001B[0m \u001B[0mrefs\u001B[0m \u001B[0;34m=\u001B[0m \u001B[0mself\u001B[0m\u001B[0;34m.\u001B[0m\u001B[0m_sanitize_column\u001B[0m\u001B[0;34m(\u001B[0m\u001B[0mvalue\u001B[0m\u001B[0;34m)\u001B[0m\u001B[0;34m\u001B[0m\u001B[0;34m\u001B[0m\u001B[0m\n\u001B[0m\u001B[1;32m   4525\u001B[0m \u001B[0;34m\u001B[0m\u001B[0m\n\u001B[1;32m   4526\u001B[0m         if (\n\u001B[1;32m   4527\u001B[0m             \u001B[0mkey\u001B[0m \u001B[0;32min\u001B[0m \u001B[0mself\u001B[0m\u001B[0;34m.\u001B[0m\u001B[0mcolumns\u001B[0m\u001B[0;34m\u001B[0m\u001B[0;34m\u001B[0m\u001B[0m\n",
      "\u001B[0;32m~/venv/lib/python3.10/site-packages/pandas/core/frame.py\u001B[0m in \u001B[0;36m?\u001B[0;34m(self, value)\u001B[0m\n\u001B[1;32m   5259\u001B[0m         \u001B[0;32massert\u001B[0m \u001B[0;32mnot\u001B[0m \u001B[0misinstance\u001B[0m\u001B[0;34m(\u001B[0m\u001B[0mvalue\u001B[0m\u001B[0;34m,\u001B[0m \u001B[0mDataFrame\u001B[0m\u001B[0;34m)\u001B[0m\u001B[0;34m\u001B[0m\u001B[0;34m\u001B[0m\u001B[0m\n\u001B[1;32m   5260\u001B[0m         \u001B[0;32mif\u001B[0m \u001B[0mis_dict_like\u001B[0m\u001B[0;34m(\u001B[0m\u001B[0mvalue\u001B[0m\u001B[0;34m)\u001B[0m\u001B[0;34m:\u001B[0m\u001B[0;34m\u001B[0m\u001B[0;34m\u001B[0m\u001B[0m\n\u001B[1;32m   5261\u001B[0m             \u001B[0;32mif\u001B[0m \u001B[0;32mnot\u001B[0m \u001B[0misinstance\u001B[0m\u001B[0;34m(\u001B[0m\u001B[0mvalue\u001B[0m\u001B[0;34m,\u001B[0m \u001B[0mSeries\u001B[0m\u001B[0;34m)\u001B[0m\u001B[0;34m:\u001B[0m\u001B[0;34m\u001B[0m\u001B[0;34m\u001B[0m\u001B[0m\n\u001B[1;32m   5262\u001B[0m                 \u001B[0mvalue\u001B[0m \u001B[0;34m=\u001B[0m \u001B[0mSeries\u001B[0m\u001B[0;34m(\u001B[0m\u001B[0mvalue\u001B[0m\u001B[0;34m)\u001B[0m\u001B[0;34m\u001B[0m\u001B[0;34m\u001B[0m\u001B[0m\n\u001B[0;32m-> 5263\u001B[0;31m             \u001B[0;32mreturn\u001B[0m \u001B[0m_reindex_for_setitem\u001B[0m\u001B[0;34m(\u001B[0m\u001B[0mvalue\u001B[0m\u001B[0;34m,\u001B[0m \u001B[0mself\u001B[0m\u001B[0;34m.\u001B[0m\u001B[0mindex\u001B[0m\u001B[0;34m)\u001B[0m\u001B[0;34m\u001B[0m\u001B[0;34m\u001B[0m\u001B[0m\n\u001B[0m\u001B[1;32m   5264\u001B[0m \u001B[0;34m\u001B[0m\u001B[0m\n\u001B[1;32m   5265\u001B[0m         \u001B[0;32mif\u001B[0m \u001B[0mis_list_like\u001B[0m\u001B[0;34m(\u001B[0m\u001B[0mvalue\u001B[0m\u001B[0;34m)\u001B[0m\u001B[0;34m:\u001B[0m\u001B[0;34m\u001B[0m\u001B[0;34m\u001B[0m\u001B[0m\n\u001B[1;32m   5266\u001B[0m             \u001B[0mcom\u001B[0m\u001B[0;34m.\u001B[0m\u001B[0mrequire_length_match\u001B[0m\u001B[0;34m(\u001B[0m\u001B[0mvalue\u001B[0m\u001B[0;34m,\u001B[0m \u001B[0mself\u001B[0m\u001B[0;34m.\u001B[0m\u001B[0mindex\u001B[0m\u001B[0;34m)\u001B[0m\u001B[0;34m\u001B[0m\u001B[0;34m\u001B[0m\u001B[0m\n",
      "\u001B[0;32m~/venv/lib/python3.10/site-packages/pandas/core/frame.py\u001B[0m in \u001B[0;36m?\u001B[0;34m(value, index)\u001B[0m\n\u001B[1;32m  12690\u001B[0m         \u001B[0;32mif\u001B[0m \u001B[0;32mnot\u001B[0m \u001B[0mvalue\u001B[0m\u001B[0;34m.\u001B[0m\u001B[0mindex\u001B[0m\u001B[0;34m.\u001B[0m\u001B[0mis_unique\u001B[0m\u001B[0;34m:\u001B[0m\u001B[0;34m\u001B[0m\u001B[0;34m\u001B[0m\u001B[0m\n\u001B[1;32m  12691\u001B[0m             \u001B[0;31m# duplicate axis\u001B[0m\u001B[0;34m\u001B[0m\u001B[0;34m\u001B[0m\u001B[0m\n\u001B[1;32m  12692\u001B[0m             \u001B[0;32mraise\u001B[0m \u001B[0merr\u001B[0m\u001B[0;34m\u001B[0m\u001B[0;34m\u001B[0m\u001B[0m\n\u001B[1;32m  12693\u001B[0m \u001B[0;34m\u001B[0m\u001B[0m\n\u001B[0;32m> 12694\u001B[0;31m         raise TypeError(\n\u001B[0m\u001B[1;32m  12695\u001B[0m             \u001B[0;34m\"incompatible index of inserted column with frame index\"\u001B[0m\u001B[0;34m\u001B[0m\u001B[0;34m\u001B[0m\u001B[0m\n\u001B[1;32m  12696\u001B[0m         ) from err\n\u001B[1;32m  12697\u001B[0m     \u001B[0;32mreturn\u001B[0m \u001B[0mreindexed_value\u001B[0m\u001B[0;34m,\u001B[0m \u001B[0;32mNone\u001B[0m\u001B[0;34m\u001B[0m\u001B[0;34m\u001B[0m\u001B[0m\n",
      "\u001B[0;31mTypeError\u001B[0m: incompatible index of inserted column with frame index"
     ]
    }
   ],
   "source": [
    "df['Overall Inflation Rate'] = dataset_overall_inflation.groupby('Area')['Overall Inflation Rate'].apply(lambda group: group.fillna(method='bfill'))"
   ],
   "metadata": {
    "collapsed": false
   }
  },
  {
   "cell_type": "code",
   "execution_count": 135,
   "outputs": [
    {
     "data": {
      "text/plain": "18"
     },
     "execution_count": 135,
     "metadata": {},
     "output_type": "execute_result"
    }
   ],
   "source": [
    "dataset_overall_inflation['Overall Inflation Rate'].isnull().sum()"
   ],
   "metadata": {
    "collapsed": false
   }
  },
  {
   "cell_type": "code",
   "execution_count": 141,
   "outputs": [
    {
     "name": "stderr",
     "output_type": "stream",
     "text": [
      "/var/folders/k5/ss4kcq4d7410z5br_yry6dpw0000gn/T/ipykernel_36296/4042426767.py:1: FutureWarning: Series.fillna with 'method' is deprecated and will raise in a future version. Use obj.ffill() or obj.bfill() instead.\n",
      "  dx = dataset_overall_inflation.groupby('Area')['Overall Inflation Rate'].apply(lambda group: group.fillna(method='bfill'))\n"
     ]
    }
   ],
   "source": [
    "dx = dataset_overall_inflation.groupby('Area')['Overall Inflation Rate'].apply(lambda group: group.fillna(method='bfill'))"
   ],
   "metadata": {
    "collapsed": false
   }
  },
  {
   "cell_type": "code",
   "execution_count": 143,
   "outputs": [
    {
     "name": "stderr",
     "output_type": "stream",
     "text": [
      "/var/folders/k5/ss4kcq4d7410z5br_yry6dpw0000gn/T/ipykernel_36296/1718021962.py:1: FutureWarning: Series.fillna with 'method' is deprecated and will raise in a future version. Use obj.ffill() or obj.bfill() instead.\n",
      "  dataset_overall_inflation.groupby('Area')['Overall Inflation Rate'].apply(lambda group: group.fillna(method='bfill'))\n"
     ]
    },
    {
     "data": {
      "text/plain": "Area              \nAlbania        34     3.2\n               73     3.2\n               112    3.2\n               151    3.2\n               190    3.2\n                     ... \nUnited States  311    1.4\n               350    0.8\n               389    5.3\n               428    8.7\n               467      3\nName: Overall Inflation Rate, Length: 456, dtype: object"
     },
     "execution_count": 143,
     "metadata": {},
     "output_type": "execute_result"
    }
   ],
   "source": [
    "dataset_overall_inflation.groupby('Area')['Overall Inflation Rate'].apply(lambda group: group.fillna(method='bfill'))"
   ],
   "metadata": {
    "collapsed": false
   }
  },
  {
   "cell_type": "code",
   "execution_count": 145,
   "outputs": [
    {
     "ename": "AttributeError",
     "evalue": "'Series' object has no attribute 'columns'",
     "output_type": "error",
     "traceback": [
      "\u001B[0;31m---------------------------------------------------------------------------\u001B[0m",
      "\u001B[0;31mAttributeError\u001B[0m                            Traceback (most recent call last)",
      "\u001B[0;32m/var/folders/k5/ss4kcq4d7410z5br_yry6dpw0000gn/T/ipykernel_36296/1674032467.py\u001B[0m in \u001B[0;36m?\u001B[0;34m()\u001B[0m\n\u001B[0;32m----> 1\u001B[0;31m \u001B[0mdx\u001B[0m\u001B[0;34m.\u001B[0m\u001B[0mcolumns\u001B[0m\u001B[0;34m\u001B[0m\u001B[0;34m\u001B[0m\u001B[0m\n\u001B[0m",
      "\u001B[0;32m~/venv/lib/python3.10/site-packages/pandas/core/generic.py\u001B[0m in \u001B[0;36m?\u001B[0;34m(self, name)\u001B[0m\n\u001B[1;32m   6295\u001B[0m             \u001B[0;32mand\u001B[0m \u001B[0mname\u001B[0m \u001B[0;32mnot\u001B[0m \u001B[0;32min\u001B[0m \u001B[0mself\u001B[0m\u001B[0;34m.\u001B[0m\u001B[0m_accessors\u001B[0m\u001B[0;34m\u001B[0m\u001B[0;34m\u001B[0m\u001B[0m\n\u001B[1;32m   6296\u001B[0m             \u001B[0;32mand\u001B[0m \u001B[0mself\u001B[0m\u001B[0;34m.\u001B[0m\u001B[0m_info_axis\u001B[0m\u001B[0;34m.\u001B[0m\u001B[0m_can_hold_identifiers_and_holds_name\u001B[0m\u001B[0;34m(\u001B[0m\u001B[0mname\u001B[0m\u001B[0;34m)\u001B[0m\u001B[0;34m\u001B[0m\u001B[0;34m\u001B[0m\u001B[0m\n\u001B[1;32m   6297\u001B[0m         ):\n\u001B[1;32m   6298\u001B[0m             \u001B[0;32mreturn\u001B[0m \u001B[0mself\u001B[0m\u001B[0;34m[\u001B[0m\u001B[0mname\u001B[0m\u001B[0;34m]\u001B[0m\u001B[0;34m\u001B[0m\u001B[0;34m\u001B[0m\u001B[0m\n\u001B[0;32m-> 6299\u001B[0;31m         \u001B[0;32mreturn\u001B[0m \u001B[0mobject\u001B[0m\u001B[0;34m.\u001B[0m\u001B[0m__getattribute__\u001B[0m\u001B[0;34m(\u001B[0m\u001B[0mself\u001B[0m\u001B[0;34m,\u001B[0m \u001B[0mname\u001B[0m\u001B[0;34m)\u001B[0m\u001B[0;34m\u001B[0m\u001B[0;34m\u001B[0m\u001B[0m\n\u001B[0m",
      "\u001B[0;31mAttributeError\u001B[0m: 'Series' object has no attribute 'columns'"
     ]
    }
   ],
   "source": [
    "dx.columns"
   ],
   "metadata": {
    "collapsed": false
   }
  },
  {
   "cell_type": "code",
   "execution_count": 134,
   "outputs": [
    {
     "data": {
      "text/plain": "              Area  Year Overall Inflation Rate\n34         Albania  2012                    NaN\n73         Albania  2013                    NaN\n112        Albania  2014                    NaN\n151        Albania  2015                    NaN\n190        Albania  2016                    NaN\n..             ...   ...                    ...\n311  United States  2019                    1.4\n350  United States  2020                    0.8\n389  United States  2021                    5.3\n428  United States  2022                    8.7\n467  United States  2023                      3\n\n[456 rows x 3 columns]",
      "text/html": "<div>\n<style scoped>\n    .dataframe tbody tr th:only-of-type {\n        vertical-align: middle;\n    }\n\n    .dataframe tbody tr th {\n        vertical-align: top;\n    }\n\n    .dataframe thead th {\n        text-align: right;\n    }\n</style>\n<table border=\"1\" class=\"dataframe\">\n  <thead>\n    <tr style=\"text-align: right;\">\n      <th></th>\n      <th>Area</th>\n      <th>Year</th>\n      <th>Overall Inflation Rate</th>\n    </tr>\n  </thead>\n  <tbody>\n    <tr>\n      <th>34</th>\n      <td>Albania</td>\n      <td>2012</td>\n      <td>NaN</td>\n    </tr>\n    <tr>\n      <th>73</th>\n      <td>Albania</td>\n      <td>2013</td>\n      <td>NaN</td>\n    </tr>\n    <tr>\n      <th>112</th>\n      <td>Albania</td>\n      <td>2014</td>\n      <td>NaN</td>\n    </tr>\n    <tr>\n      <th>151</th>\n      <td>Albania</td>\n      <td>2015</td>\n      <td>NaN</td>\n    </tr>\n    <tr>\n      <th>190</th>\n      <td>Albania</td>\n      <td>2016</td>\n      <td>NaN</td>\n    </tr>\n    <tr>\n      <th>...</th>\n      <td>...</td>\n      <td>...</td>\n      <td>...</td>\n    </tr>\n    <tr>\n      <th>311</th>\n      <td>United States</td>\n      <td>2019</td>\n      <td>1.4</td>\n    </tr>\n    <tr>\n      <th>350</th>\n      <td>United States</td>\n      <td>2020</td>\n      <td>0.8</td>\n    </tr>\n    <tr>\n      <th>389</th>\n      <td>United States</td>\n      <td>2021</td>\n      <td>5.3</td>\n    </tr>\n    <tr>\n      <th>428</th>\n      <td>United States</td>\n      <td>2022</td>\n      <td>8.7</td>\n    </tr>\n    <tr>\n      <th>467</th>\n      <td>United States</td>\n      <td>2023</td>\n      <td>3</td>\n    </tr>\n  </tbody>\n</table>\n<p>456 rows × 3 columns</p>\n</div>"
     },
     "execution_count": 134,
     "metadata": {},
     "output_type": "execute_result"
    }
   ],
   "source": [
    "df"
   ],
   "metadata": {
    "collapsed": false
   }
  },
  {
   "cell_type": "code",
   "execution_count": 86,
   "outputs": [],
   "source": [
    "data = pd.merge(dataset_food_inflation_rate, dataset_raw_gdp, on=['Area', 'Year'], how='inner')"
   ],
   "metadata": {
    "collapsed": false
   }
  },
  {
   "cell_type": "code",
   "execution_count": 87,
   "outputs": [
    {
     "data": {
      "text/plain": "                                                  Area  Year  \\\n0                                              Albania  2012   \n1                                              Albania  2013   \n2                                              Albania  2014   \n3                                              Albania  2015   \n4                                              Albania  2016   \n..                                                 ...   ...   \n487  United Kingdom of Great Britain and Northern I...  2019   \n488  United Kingdom of Great Britain and Northern I...  2020   \n489  United Kingdom of Great Britain and Northern I...  2021   \n490  United Kingdom of Great Britain and Northern I...  2022   \n491  United Kingdom of Great Britain and Northern I...  2023   \n\n     Food Inflation Rate       Raw GDP  \n0               2.404087  1.231978e+04  \n1               4.214607  1.277628e+04  \n2               2.212385  1.322824e+04  \n3               4.294233  1.138692e+04  \n4               3.254620  1.186136e+04  \n..                   ...           ...  \n487             1.374278  2.851407e+06  \n488             0.721408  2.697807e+06  \n489             0.304925  3.141506e+06  \n490            10.894987  3.089073e+06  \n491            14.752064  3.263528e+06  \n\n[492 rows x 4 columns]",
      "text/html": "<div>\n<style scoped>\n    .dataframe tbody tr th:only-of-type {\n        vertical-align: middle;\n    }\n\n    .dataframe tbody tr th {\n        vertical-align: top;\n    }\n\n    .dataframe thead th {\n        text-align: right;\n    }\n</style>\n<table border=\"1\" class=\"dataframe\">\n  <thead>\n    <tr style=\"text-align: right;\">\n      <th></th>\n      <th>Area</th>\n      <th>Year</th>\n      <th>Food Inflation Rate</th>\n      <th>Raw GDP</th>\n    </tr>\n  </thead>\n  <tbody>\n    <tr>\n      <th>0</th>\n      <td>Albania</td>\n      <td>2012</td>\n      <td>2.404087</td>\n      <td>1.231978e+04</td>\n    </tr>\n    <tr>\n      <th>1</th>\n      <td>Albania</td>\n      <td>2013</td>\n      <td>4.214607</td>\n      <td>1.277628e+04</td>\n    </tr>\n    <tr>\n      <th>2</th>\n      <td>Albania</td>\n      <td>2014</td>\n      <td>2.212385</td>\n      <td>1.322824e+04</td>\n    </tr>\n    <tr>\n      <th>3</th>\n      <td>Albania</td>\n      <td>2015</td>\n      <td>4.294233</td>\n      <td>1.138692e+04</td>\n    </tr>\n    <tr>\n      <th>4</th>\n      <td>Albania</td>\n      <td>2016</td>\n      <td>3.254620</td>\n      <td>1.186136e+04</td>\n    </tr>\n    <tr>\n      <th>...</th>\n      <td>...</td>\n      <td>...</td>\n      <td>...</td>\n      <td>...</td>\n    </tr>\n    <tr>\n      <th>487</th>\n      <td>United Kingdom of Great Britain and Northern I...</td>\n      <td>2019</td>\n      <td>1.374278</td>\n      <td>2.851407e+06</td>\n    </tr>\n    <tr>\n      <th>488</th>\n      <td>United Kingdom of Great Britain and Northern I...</td>\n      <td>2020</td>\n      <td>0.721408</td>\n      <td>2.697807e+06</td>\n    </tr>\n    <tr>\n      <th>489</th>\n      <td>United Kingdom of Great Britain and Northern I...</td>\n      <td>2021</td>\n      <td>0.304925</td>\n      <td>3.141506e+06</td>\n    </tr>\n    <tr>\n      <th>490</th>\n      <td>United Kingdom of Great Britain and Northern I...</td>\n      <td>2022</td>\n      <td>10.894987</td>\n      <td>3.089073e+06</td>\n    </tr>\n    <tr>\n      <th>491</th>\n      <td>United Kingdom of Great Britain and Northern I...</td>\n      <td>2023</td>\n      <td>14.752064</td>\n      <td>3.263528e+06</td>\n    </tr>\n  </tbody>\n</table>\n<p>492 rows × 4 columns</p>\n</div>"
     },
     "execution_count": 87,
     "metadata": {},
     "output_type": "execute_result"
    }
   ],
   "source": [
    "data"
   ],
   "metadata": {
    "collapsed": false
   }
  },
  {
   "cell_type": "code",
   "execution_count": 92,
   "outputs": [],
   "source": [
    "data = pd.merge(data, dataset_gdp_growth_rate, on=['Area', 'Year'], how='inner')"
   ],
   "metadata": {
    "collapsed": false
   }
  },
  {
   "cell_type": "code",
   "execution_count": 93,
   "outputs": [
    {
     "data": {
      "text/plain": "                                                  Area  Year  \\\n0                                              Albania  2012   \n1                                              Albania  2013   \n2                                              Albania  2014   \n3                                              Albania  2015   \n4                                              Albania  2016   \n..                                                 ...   ...   \n487  United Kingdom of Great Britain and Northern I...  2019   \n488  United Kingdom of Great Britain and Northern I...  2020   \n489  United Kingdom of Great Britain and Northern I...  2021   \n490  United Kingdom of Great Britain and Northern I...  2022   \n491  United Kingdom of Great Britain and Northern I...  2023   \n\n     Food Inflation Rate       Raw GDP  GDP Growth Rate  \n0               2.404087  1.231978e+04        -4.430218  \n1               4.214607  1.277628e+04         3.705432  \n2               2.212385  1.322824e+04         3.537487  \n3               4.294233  1.138692e+04       -13.919579  \n4               3.254620  1.186136e+04         4.166459  \n..                   ...           ...              ...  \n487             1.374278  2.851407e+06        -0.694212  \n488             0.721408  2.697807e+06        -5.386835  \n489             0.304925  3.141506e+06        16.446678  \n490            10.894987  3.089073e+06        -1.669055  \n491            14.752064  3.263528e+06         5.647490  \n\n[492 rows x 5 columns]",
      "text/html": "<div>\n<style scoped>\n    .dataframe tbody tr th:only-of-type {\n        vertical-align: middle;\n    }\n\n    .dataframe tbody tr th {\n        vertical-align: top;\n    }\n\n    .dataframe thead th {\n        text-align: right;\n    }\n</style>\n<table border=\"1\" class=\"dataframe\">\n  <thead>\n    <tr style=\"text-align: right;\">\n      <th></th>\n      <th>Area</th>\n      <th>Year</th>\n      <th>Food Inflation Rate</th>\n      <th>Raw GDP</th>\n      <th>GDP Growth Rate</th>\n    </tr>\n  </thead>\n  <tbody>\n    <tr>\n      <th>0</th>\n      <td>Albania</td>\n      <td>2012</td>\n      <td>2.404087</td>\n      <td>1.231978e+04</td>\n      <td>-4.430218</td>\n    </tr>\n    <tr>\n      <th>1</th>\n      <td>Albania</td>\n      <td>2013</td>\n      <td>4.214607</td>\n      <td>1.277628e+04</td>\n      <td>3.705432</td>\n    </tr>\n    <tr>\n      <th>2</th>\n      <td>Albania</td>\n      <td>2014</td>\n      <td>2.212385</td>\n      <td>1.322824e+04</td>\n      <td>3.537487</td>\n    </tr>\n    <tr>\n      <th>3</th>\n      <td>Albania</td>\n      <td>2015</td>\n      <td>4.294233</td>\n      <td>1.138692e+04</td>\n      <td>-13.919579</td>\n    </tr>\n    <tr>\n      <th>4</th>\n      <td>Albania</td>\n      <td>2016</td>\n      <td>3.254620</td>\n      <td>1.186136e+04</td>\n      <td>4.166459</td>\n    </tr>\n    <tr>\n      <th>...</th>\n      <td>...</td>\n      <td>...</td>\n      <td>...</td>\n      <td>...</td>\n      <td>...</td>\n    </tr>\n    <tr>\n      <th>487</th>\n      <td>United Kingdom of Great Britain and Northern I...</td>\n      <td>2019</td>\n      <td>1.374278</td>\n      <td>2.851407e+06</td>\n      <td>-0.694212</td>\n    </tr>\n    <tr>\n      <th>488</th>\n      <td>United Kingdom of Great Britain and Northern I...</td>\n      <td>2020</td>\n      <td>0.721408</td>\n      <td>2.697807e+06</td>\n      <td>-5.386835</td>\n    </tr>\n    <tr>\n      <th>489</th>\n      <td>United Kingdom of Great Britain and Northern I...</td>\n      <td>2021</td>\n      <td>0.304925</td>\n      <td>3.141506e+06</td>\n      <td>16.446678</td>\n    </tr>\n    <tr>\n      <th>490</th>\n      <td>United Kingdom of Great Britain and Northern I...</td>\n      <td>2022</td>\n      <td>10.894987</td>\n      <td>3.089073e+06</td>\n      <td>-1.669055</td>\n    </tr>\n    <tr>\n      <th>491</th>\n      <td>United Kingdom of Great Britain and Northern I...</td>\n      <td>2023</td>\n      <td>14.752064</td>\n      <td>3.263528e+06</td>\n      <td>5.647490</td>\n    </tr>\n  </tbody>\n</table>\n<p>492 rows × 5 columns</p>\n</div>"
     },
     "execution_count": 93,
     "metadata": {},
     "output_type": "execute_result"
    }
   ],
   "source": [
    "data"
   ],
   "metadata": {
    "collapsed": false
   }
  },
  {
   "cell_type": "code",
   "execution_count": 95,
   "outputs": [],
   "source": [
    "data = pd.merge(data, dataset_producer_prices, on=['Area', 'Year'], how='inner')"
   ],
   "metadata": {
    "collapsed": false
   }
  },
  {
   "cell_type": "code",
   "execution_count": 96,
   "outputs": [
    {
     "data": {
      "text/plain": "                                                    Area  Year  \\\n0                                                Albania  2012   \n1                                                Albania  2012   \n2                                                Albania  2012   \n3                                                Albania  2012   \n4                                                Albania  2012   \n...                                                  ...   ...   \n18671  United Kingdom of Great Britain and Northern I...  2022   \n18672  United Kingdom of Great Britain and Northern I...  2022   \n18673  United Kingdom of Great Britain and Northern I...  2022   \n18674  United Kingdom of Great Britain and Northern I...  2022   \n18675  United Kingdom of Great Britain and Northern I...  2022   \n\n       Food Inflation Rate       Raw GDP  GDP Growth Rate  \\\n0                 2.404087  1.231978e+04        -4.430218   \n1                 2.404087  1.231978e+04        -4.430218   \n2                 2.404087  1.231978e+04        -4.430218   \n3                 2.404087  1.231978e+04        -4.430218   \n4                 2.404087  1.231978e+04        -4.430218   \n...                    ...           ...              ...   \n18671            10.894987  3.089073e+06        -1.669055   \n18672            10.894987  3.089073e+06        -1.669055   \n18673            10.894987  3.089073e+06        -1.669055   \n18674            10.894987  3.089073e+06        -1.669055   \n18675            10.894987  3.089073e+06        -1.669055   \n\n                                                    Item  Item Price Per Tonne  \n0                                                 Apples                 369.7  \n1                                               Apricots                 489.9  \n2                                                 Barley                 316.1  \n3                                             Beans, dry                1562.2  \n4                                               Cabbages                 203.4  \n...                                                  ...                   ...  \n18671  Shorn wool, greasy, including fleece-washed sh...                 322.9  \n18672                                       Strawberries                4004.6  \n18673                                         Sugar beet                  45.8  \n18674                                           Tomatoes                1565.6  \n18675                                              Wheat                 330.7  \n\n[18676 rows x 7 columns]",
      "text/html": "<div>\n<style scoped>\n    .dataframe tbody tr th:only-of-type {\n        vertical-align: middle;\n    }\n\n    .dataframe tbody tr th {\n        vertical-align: top;\n    }\n\n    .dataframe thead th {\n        text-align: right;\n    }\n</style>\n<table border=\"1\" class=\"dataframe\">\n  <thead>\n    <tr style=\"text-align: right;\">\n      <th></th>\n      <th>Area</th>\n      <th>Year</th>\n      <th>Food Inflation Rate</th>\n      <th>Raw GDP</th>\n      <th>GDP Growth Rate</th>\n      <th>Item</th>\n      <th>Item Price Per Tonne</th>\n    </tr>\n  </thead>\n  <tbody>\n    <tr>\n      <th>0</th>\n      <td>Albania</td>\n      <td>2012</td>\n      <td>2.404087</td>\n      <td>1.231978e+04</td>\n      <td>-4.430218</td>\n      <td>Apples</td>\n      <td>369.7</td>\n    </tr>\n    <tr>\n      <th>1</th>\n      <td>Albania</td>\n      <td>2012</td>\n      <td>2.404087</td>\n      <td>1.231978e+04</td>\n      <td>-4.430218</td>\n      <td>Apricots</td>\n      <td>489.9</td>\n    </tr>\n    <tr>\n      <th>2</th>\n      <td>Albania</td>\n      <td>2012</td>\n      <td>2.404087</td>\n      <td>1.231978e+04</td>\n      <td>-4.430218</td>\n      <td>Barley</td>\n      <td>316.1</td>\n    </tr>\n    <tr>\n      <th>3</th>\n      <td>Albania</td>\n      <td>2012</td>\n      <td>2.404087</td>\n      <td>1.231978e+04</td>\n      <td>-4.430218</td>\n      <td>Beans, dry</td>\n      <td>1562.2</td>\n    </tr>\n    <tr>\n      <th>4</th>\n      <td>Albania</td>\n      <td>2012</td>\n      <td>2.404087</td>\n      <td>1.231978e+04</td>\n      <td>-4.430218</td>\n      <td>Cabbages</td>\n      <td>203.4</td>\n    </tr>\n    <tr>\n      <th>...</th>\n      <td>...</td>\n      <td>...</td>\n      <td>...</td>\n      <td>...</td>\n      <td>...</td>\n      <td>...</td>\n      <td>...</td>\n    </tr>\n    <tr>\n      <th>18671</th>\n      <td>United Kingdom of Great Britain and Northern I...</td>\n      <td>2022</td>\n      <td>10.894987</td>\n      <td>3.089073e+06</td>\n      <td>-1.669055</td>\n      <td>Shorn wool, greasy, including fleece-washed sh...</td>\n      <td>322.9</td>\n    </tr>\n    <tr>\n      <th>18672</th>\n      <td>United Kingdom of Great Britain and Northern I...</td>\n      <td>2022</td>\n      <td>10.894987</td>\n      <td>3.089073e+06</td>\n      <td>-1.669055</td>\n      <td>Strawberries</td>\n      <td>4004.6</td>\n    </tr>\n    <tr>\n      <th>18673</th>\n      <td>United Kingdom of Great Britain and Northern I...</td>\n      <td>2022</td>\n      <td>10.894987</td>\n      <td>3.089073e+06</td>\n      <td>-1.669055</td>\n      <td>Sugar beet</td>\n      <td>45.8</td>\n    </tr>\n    <tr>\n      <th>18674</th>\n      <td>United Kingdom of Great Britain and Northern I...</td>\n      <td>2022</td>\n      <td>10.894987</td>\n      <td>3.089073e+06</td>\n      <td>-1.669055</td>\n      <td>Tomatoes</td>\n      <td>1565.6</td>\n    </tr>\n    <tr>\n      <th>18675</th>\n      <td>United Kingdom of Great Britain and Northern I...</td>\n      <td>2022</td>\n      <td>10.894987</td>\n      <td>3.089073e+06</td>\n      <td>-1.669055</td>\n      <td>Wheat</td>\n      <td>330.7</td>\n    </tr>\n  </tbody>\n</table>\n<p>18676 rows × 7 columns</p>\n</div>"
     },
     "execution_count": 96,
     "metadata": {},
     "output_type": "execute_result"
    }
   ],
   "source": [
    "data"
   ],
   "metadata": {
    "collapsed": false
   }
  },
  {
   "cell_type": "code",
   "execution_count": 98,
   "outputs": [
    {
     "data": {
      "text/plain": "array(['Belgium', 'Bulgaria', 'Czechia', 'Denmark', 'Germany', 'Estonia',\n       'Ireland', 'Greece', 'Spain', 'France', 'Croatia', 'Italy',\n       'Cyprus', 'Latvia', 'Lithuania', 'Luxembourg', 'Hungary', 'Malta',\n       'Netherlands', 'Austria', 'Poland', 'Portugal', 'Romania',\n       'Slovenia', 'Slovakia', 'Finland', 'Sweden', 'Iceland',\n       'Liechtenstein', 'Norway', 'Switzerland', 'United Kingdom',\n       'Montenegro', 'North Macedonia', 'Albania', 'Serbia', 'Türkiye',\n       'Kosovo*', 'United States'], dtype=object)"
     },
     "execution_count": 98,
     "metadata": {},
     "output_type": "execute_result"
    }
   ],
   "source": [
    "dataset_overall_inflation['Area'].unique()"
   ],
   "metadata": {
    "collapsed": false
   }
  },
  {
   "cell_type": "code",
   "execution_count": 97,
   "outputs": [
    {
     "data": {
      "text/plain": "              Area  Year  Food Inflation Rate        Raw GDP  GDP Growth Rate  \\\n0          Albania  2012             2.404087   12319.779604        -4.430218   \n1          Albania  2012             2.404087   12319.779604        -4.430218   \n2          Albania  2012             2.404087   12319.779604        -4.430218   \n3          Albania  2012             2.404087   12319.779604        -4.430218   \n4          Albania  2012             2.404087   12319.779604        -4.430218   \n...            ...   ...                  ...            ...              ...   \n15644  Switzerland  2022             1.661019  818426.550206         0.616880   \n15645  Switzerland  2022             1.661019  818426.550206         0.616880   \n15646  Switzerland  2022             1.661019  818426.550206         0.616880   \n15647  Switzerland  2022             1.661019  818426.550206         0.616880   \n15648  Switzerland  2022             1.661019  818426.550206         0.616880   \n\n                         Item  Item Price Per Tonne Overall Inflation Rate  \n0                      Apples                 369.7                      :  \n1                    Apricots                 489.9                      :  \n2                      Barley                 316.1                      :  \n3                  Beans, dry                1562.2                      :  \n4                    Cabbages                 203.4                      :  \n...                       ...                   ...                    ...  \n15644                Tomatoes                3407.9                    2.7  \n15645               Triticale                 362.4                    2.7  \n15646  Unmanufactured tobacco               16495.0                    2.7  \n15647       Walnuts, in shell                3498.0                    2.7  \n15648                   Wheat                 581.3                    2.7  \n\n[15649 rows x 8 columns]",
      "text/html": "<div>\n<style scoped>\n    .dataframe tbody tr th:only-of-type {\n        vertical-align: middle;\n    }\n\n    .dataframe tbody tr th {\n        vertical-align: top;\n    }\n\n    .dataframe thead th {\n        text-align: right;\n    }\n</style>\n<table border=\"1\" class=\"dataframe\">\n  <thead>\n    <tr style=\"text-align: right;\">\n      <th></th>\n      <th>Area</th>\n      <th>Year</th>\n      <th>Food Inflation Rate</th>\n      <th>Raw GDP</th>\n      <th>GDP Growth Rate</th>\n      <th>Item</th>\n      <th>Item Price Per Tonne</th>\n      <th>Overall Inflation Rate</th>\n    </tr>\n  </thead>\n  <tbody>\n    <tr>\n      <th>0</th>\n      <td>Albania</td>\n      <td>2012</td>\n      <td>2.404087</td>\n      <td>12319.779604</td>\n      <td>-4.430218</td>\n      <td>Apples</td>\n      <td>369.7</td>\n      <td>:</td>\n    </tr>\n    <tr>\n      <th>1</th>\n      <td>Albania</td>\n      <td>2012</td>\n      <td>2.404087</td>\n      <td>12319.779604</td>\n      <td>-4.430218</td>\n      <td>Apricots</td>\n      <td>489.9</td>\n      <td>:</td>\n    </tr>\n    <tr>\n      <th>2</th>\n      <td>Albania</td>\n      <td>2012</td>\n      <td>2.404087</td>\n      <td>12319.779604</td>\n      <td>-4.430218</td>\n      <td>Barley</td>\n      <td>316.1</td>\n      <td>:</td>\n    </tr>\n    <tr>\n      <th>3</th>\n      <td>Albania</td>\n      <td>2012</td>\n      <td>2.404087</td>\n      <td>12319.779604</td>\n      <td>-4.430218</td>\n      <td>Beans, dry</td>\n      <td>1562.2</td>\n      <td>:</td>\n    </tr>\n    <tr>\n      <th>4</th>\n      <td>Albania</td>\n      <td>2012</td>\n      <td>2.404087</td>\n      <td>12319.779604</td>\n      <td>-4.430218</td>\n      <td>Cabbages</td>\n      <td>203.4</td>\n      <td>:</td>\n    </tr>\n    <tr>\n      <th>...</th>\n      <td>...</td>\n      <td>...</td>\n      <td>...</td>\n      <td>...</td>\n      <td>...</td>\n      <td>...</td>\n      <td>...</td>\n      <td>...</td>\n    </tr>\n    <tr>\n      <th>15644</th>\n      <td>Switzerland</td>\n      <td>2022</td>\n      <td>1.661019</td>\n      <td>818426.550206</td>\n      <td>0.616880</td>\n      <td>Tomatoes</td>\n      <td>3407.9</td>\n      <td>2.7</td>\n    </tr>\n    <tr>\n      <th>15645</th>\n      <td>Switzerland</td>\n      <td>2022</td>\n      <td>1.661019</td>\n      <td>818426.550206</td>\n      <td>0.616880</td>\n      <td>Triticale</td>\n      <td>362.4</td>\n      <td>2.7</td>\n    </tr>\n    <tr>\n      <th>15646</th>\n      <td>Switzerland</td>\n      <td>2022</td>\n      <td>1.661019</td>\n      <td>818426.550206</td>\n      <td>0.616880</td>\n      <td>Unmanufactured tobacco</td>\n      <td>16495.0</td>\n      <td>2.7</td>\n    </tr>\n    <tr>\n      <th>15647</th>\n      <td>Switzerland</td>\n      <td>2022</td>\n      <td>1.661019</td>\n      <td>818426.550206</td>\n      <td>0.616880</td>\n      <td>Walnuts, in shell</td>\n      <td>3498.0</td>\n      <td>2.7</td>\n    </tr>\n    <tr>\n      <th>15648</th>\n      <td>Switzerland</td>\n      <td>2022</td>\n      <td>1.661019</td>\n      <td>818426.550206</td>\n      <td>0.616880</td>\n      <td>Wheat</td>\n      <td>581.3</td>\n      <td>2.7</td>\n    </tr>\n  </tbody>\n</table>\n<p>15649 rows × 8 columns</p>\n</div>"
     },
     "execution_count": 97,
     "metadata": {},
     "output_type": "execute_result"
    }
   ],
   "source": [
    "pd.merge(data, dataset_overall_inflation, on=['Area', 'Year'], how='inner')"
   ],
   "metadata": {
    "collapsed": false
   }
  },
  {
   "cell_type": "code",
   "execution_count": null,
   "outputs": [],
   "source": [],
   "metadata": {
    "collapsed": false
   }
  }
 ],
 "metadata": {
  "kernelspec": {
   "display_name": "Python 3",
   "language": "python",
   "name": "python3"
  },
  "language_info": {
   "codemirror_mode": {
    "name": "ipython",
    "version": 2
   },
   "file_extension": ".py",
   "mimetype": "text/x-python",
   "name": "python",
   "nbconvert_exporter": "python",
   "pygments_lexer": "ipython2",
   "version": "2.7.6"
  }
 },
 "nbformat": 4,
 "nbformat_minor": 0
}
