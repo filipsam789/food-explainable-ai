{
 "cells": [
  {
   "cell_type": "code",
   "execution_count": 4,
   "metadata": {
    "collapsed": true
   },
   "outputs": [],
   "source": [
    "import pandas as pd\n",
    "import numpy as np"
   ]
  },
  {
   "cell_type": "code",
   "execution_count": 5,
   "outputs": [],
   "source": [
    "dataset_food_inflation_rate = pd.read_csv('./data/food_inflation_rate.csv')"
   ],
   "metadata": {
    "collapsed": false
   }
  },
  {
   "cell_type": "code",
   "execution_count": 6,
   "outputs": [
    {
     "data": {
      "text/plain": "  Domain Code                  Domain  Area Code (M49)           Area  \\\n0          CP  Consumer Price Indices              248  Åland Islands   \n1          CP  Consumer Price Indices              248  Åland Islands   \n2          CP  Consumer Price Indices              248  Åland Islands   \n3          CP  Consumer Price Indices              248  Åland Islands   \n4          CP  Consumer Price Indices              248  Åland Islands   \n\n   Year Code  Year  Item Code                  Item  Months Code    Months  \\\n0       2012  2012      23014  Food price inflation         7001   January   \n1       2012  2012      23014  Food price inflation         7002  February   \n2       2012  2012      23014  Food price inflation         7003     March   \n3       2012  2012      23014  Food price inflation         7004     April   \n4       2012  2012      23014  Food price inflation         7005       May   \n\n   Element Code Element Unit     Value Flag Flag Description  Note  \n0          6121   Value    %  2.607987    E  Estimated value   NaN  \n1          6121   Value    %  3.896104    E  Estimated value   NaN  \n2          6121   Value    %  2.967121    E  Estimated value   NaN  \n3          6121   Value    %  2.149682    E  Estimated value   NaN  \n4          6121   Value    %  3.559871    E  Estimated value   NaN  ",
      "text/html": "<div>\n<style scoped>\n    .dataframe tbody tr th:only-of-type {\n        vertical-align: middle;\n    }\n\n    .dataframe tbody tr th {\n        vertical-align: top;\n    }\n\n    .dataframe thead th {\n        text-align: right;\n    }\n</style>\n<table border=\"1\" class=\"dataframe\">\n  <thead>\n    <tr style=\"text-align: right;\">\n      <th></th>\n      <th>Domain Code</th>\n      <th>Domain</th>\n      <th>Area Code (M49)</th>\n      <th>Area</th>\n      <th>Year Code</th>\n      <th>Year</th>\n      <th>Item Code</th>\n      <th>Item</th>\n      <th>Months Code</th>\n      <th>Months</th>\n      <th>Element Code</th>\n      <th>Element</th>\n      <th>Unit</th>\n      <th>Value</th>\n      <th>Flag</th>\n      <th>Flag Description</th>\n      <th>Note</th>\n    </tr>\n  </thead>\n  <tbody>\n    <tr>\n      <th>0</th>\n      <td>CP</td>\n      <td>Consumer Price Indices</td>\n      <td>248</td>\n      <td>Åland Islands</td>\n      <td>2012</td>\n      <td>2012</td>\n      <td>23014</td>\n      <td>Food price inflation</td>\n      <td>7001</td>\n      <td>January</td>\n      <td>6121</td>\n      <td>Value</td>\n      <td>%</td>\n      <td>2.607987</td>\n      <td>E</td>\n      <td>Estimated value</td>\n      <td>NaN</td>\n    </tr>\n    <tr>\n      <th>1</th>\n      <td>CP</td>\n      <td>Consumer Price Indices</td>\n      <td>248</td>\n      <td>Åland Islands</td>\n      <td>2012</td>\n      <td>2012</td>\n      <td>23014</td>\n      <td>Food price inflation</td>\n      <td>7002</td>\n      <td>February</td>\n      <td>6121</td>\n      <td>Value</td>\n      <td>%</td>\n      <td>3.896104</td>\n      <td>E</td>\n      <td>Estimated value</td>\n      <td>NaN</td>\n    </tr>\n    <tr>\n      <th>2</th>\n      <td>CP</td>\n      <td>Consumer Price Indices</td>\n      <td>248</td>\n      <td>Åland Islands</td>\n      <td>2012</td>\n      <td>2012</td>\n      <td>23014</td>\n      <td>Food price inflation</td>\n      <td>7003</td>\n      <td>March</td>\n      <td>6121</td>\n      <td>Value</td>\n      <td>%</td>\n      <td>2.967121</td>\n      <td>E</td>\n      <td>Estimated value</td>\n      <td>NaN</td>\n    </tr>\n    <tr>\n      <th>3</th>\n      <td>CP</td>\n      <td>Consumer Price Indices</td>\n      <td>248</td>\n      <td>Åland Islands</td>\n      <td>2012</td>\n      <td>2012</td>\n      <td>23014</td>\n      <td>Food price inflation</td>\n      <td>7004</td>\n      <td>April</td>\n      <td>6121</td>\n      <td>Value</td>\n      <td>%</td>\n      <td>2.149682</td>\n      <td>E</td>\n      <td>Estimated value</td>\n      <td>NaN</td>\n    </tr>\n    <tr>\n      <th>4</th>\n      <td>CP</td>\n      <td>Consumer Price Indices</td>\n      <td>248</td>\n      <td>Åland Islands</td>\n      <td>2012</td>\n      <td>2012</td>\n      <td>23014</td>\n      <td>Food price inflation</td>\n      <td>7005</td>\n      <td>May</td>\n      <td>6121</td>\n      <td>Value</td>\n      <td>%</td>\n      <td>3.559871</td>\n      <td>E</td>\n      <td>Estimated value</td>\n      <td>NaN</td>\n    </tr>\n  </tbody>\n</table>\n</div>"
     },
     "execution_count": 6,
     "metadata": {},
     "output_type": "execute_result"
    }
   ],
   "source": [
    "dataset_food_inflation_rate.head()"
   ],
   "metadata": {
    "collapsed": false
   }
  },
  {
   "cell_type": "code",
   "execution_count": 7,
   "outputs": [],
   "source": [
    "dataset_food_inflation_rate = dataset_food_inflation_rate[['Area', 'Year', 'Months', 'Value']]"
   ],
   "metadata": {
    "collapsed": false
   }
  },
  {
   "cell_type": "code",
   "execution_count": 8,
   "outputs": [],
   "source": [
    "dataset_food_inflation_rate = dataset_food_inflation_rate.rename(columns = {'Value': 'Food Inflation Rate'})"
   ],
   "metadata": {
    "collapsed": false
   }
  },
  {
   "cell_type": "code",
   "execution_count": 9,
   "outputs": [
    {
     "data": {
      "text/plain": "            Area  Year    Months  Food Inflation Rate\n0  Åland Islands  2012   January             2.607987\n1  Åland Islands  2012  February             3.896104\n2  Åland Islands  2012     March             2.967121\n3  Åland Islands  2012     April             2.149682\n4  Åland Islands  2012       May             3.559871",
      "text/html": "<div>\n<style scoped>\n    .dataframe tbody tr th:only-of-type {\n        vertical-align: middle;\n    }\n\n    .dataframe tbody tr th {\n        vertical-align: top;\n    }\n\n    .dataframe thead th {\n        text-align: right;\n    }\n</style>\n<table border=\"1\" class=\"dataframe\">\n  <thead>\n    <tr style=\"text-align: right;\">\n      <th></th>\n      <th>Area</th>\n      <th>Year</th>\n      <th>Months</th>\n      <th>Food Inflation Rate</th>\n    </tr>\n  </thead>\n  <tbody>\n    <tr>\n      <th>0</th>\n      <td>Åland Islands</td>\n      <td>2012</td>\n      <td>January</td>\n      <td>2.607987</td>\n    </tr>\n    <tr>\n      <th>1</th>\n      <td>Åland Islands</td>\n      <td>2012</td>\n      <td>February</td>\n      <td>3.896104</td>\n    </tr>\n    <tr>\n      <th>2</th>\n      <td>Åland Islands</td>\n      <td>2012</td>\n      <td>March</td>\n      <td>2.967121</td>\n    </tr>\n    <tr>\n      <th>3</th>\n      <td>Åland Islands</td>\n      <td>2012</td>\n      <td>April</td>\n      <td>2.149682</td>\n    </tr>\n    <tr>\n      <th>4</th>\n      <td>Åland Islands</td>\n      <td>2012</td>\n      <td>May</td>\n      <td>3.559871</td>\n    </tr>\n  </tbody>\n</table>\n</div>"
     },
     "execution_count": 9,
     "metadata": {},
     "output_type": "execute_result"
    }
   ],
   "source": [
    "dataset_food_inflation_rate.head()"
   ],
   "metadata": {
    "collapsed": false
   }
  },
  {
   "cell_type": "code",
   "execution_count": 10,
   "outputs": [],
   "source": [
    "dataset_food_inflation_rate = dataset_food_inflation_rate.groupby(['Area', 'Year'], as_index=False)['Food Inflation Rate'].mean()"
   ],
   "metadata": {
    "collapsed": false
   }
  },
  {
   "cell_type": "code",
   "execution_count": 11,
   "outputs": [
    {
     "data": {
      "text/plain": "      Area  Year  Food Inflation Rate\n0  Albania  2012             2.404087\n1  Albania  2013             4.214607\n2  Albania  2014             2.212385\n3  Albania  2015             4.294233\n4  Albania  2016             3.254620",
      "text/html": "<div>\n<style scoped>\n    .dataframe tbody tr th:only-of-type {\n        vertical-align: middle;\n    }\n\n    .dataframe tbody tr th {\n        vertical-align: top;\n    }\n\n    .dataframe thead th {\n        text-align: right;\n    }\n</style>\n<table border=\"1\" class=\"dataframe\">\n  <thead>\n    <tr style=\"text-align: right;\">\n      <th></th>\n      <th>Area</th>\n      <th>Year</th>\n      <th>Food Inflation Rate</th>\n    </tr>\n  </thead>\n  <tbody>\n    <tr>\n      <th>0</th>\n      <td>Albania</td>\n      <td>2012</td>\n      <td>2.404087</td>\n    </tr>\n    <tr>\n      <th>1</th>\n      <td>Albania</td>\n      <td>2013</td>\n      <td>4.214607</td>\n    </tr>\n    <tr>\n      <th>2</th>\n      <td>Albania</td>\n      <td>2014</td>\n      <td>2.212385</td>\n    </tr>\n    <tr>\n      <th>3</th>\n      <td>Albania</td>\n      <td>2015</td>\n      <td>4.294233</td>\n    </tr>\n    <tr>\n      <th>4</th>\n      <td>Albania</td>\n      <td>2016</td>\n      <td>3.254620</td>\n    </tr>\n  </tbody>\n</table>\n</div>"
     },
     "execution_count": 11,
     "metadata": {},
     "output_type": "execute_result"
    }
   ],
   "source": [
    "dataset_food_inflation_rate.head()"
   ],
   "metadata": {
    "collapsed": false
   }
  },
  {
   "cell_type": "code",
   "execution_count": 12,
   "outputs": [],
   "source": [
    "dataset_raw_gdp = pd.read_csv('./data/raw_gdp.csv')"
   ],
   "metadata": {
    "collapsed": false
   }
  },
  {
   "cell_type": "code",
   "execution_count": 13,
   "outputs": [
    {
     "data": {
      "text/plain": "  Domain Code            Domain  Area Code (M49)     Area  Element Code  \\\n0          MK  Macro Indicators                8  Albania          6110   \n1          MK  Macro Indicators                8  Albania          6110   \n2          MK  Macro Indicators                8  Albania          6110   \n3          MK  Macro Indicators                8  Albania          6110   \n4          MK  Macro Indicators                8  Albania          6110   \n\n     Element  Item Code                    Item  Year Code  Year         Unit  \\\n0  Value US$      22008  Gross Domestic Product       2012  2012  million USD   \n1  Value US$      22008  Gross Domestic Product       2013  2013  million USD   \n2  Value US$      22008  Gross Domestic Product       2014  2014  million USD   \n3  Value US$      22008  Gross Domestic Product       2015  2015  million USD   \n4  Value US$      22008  Gross Domestic Product       2016  2016  million USD   \n\n          Value Flag                         Flag Description  Note  \n0  12319.779604    X  Figure from international organizations   NaN  \n1  12776.280738    X  Figure from international organizations   NaN  \n2  13228.240079    X  Figure from international organizations   NaN  \n3  11386.924853    X  Figure from international organizations   NaN  \n4  11861.356451    X  Figure from international organizations   NaN  ",
      "text/html": "<div>\n<style scoped>\n    .dataframe tbody tr th:only-of-type {\n        vertical-align: middle;\n    }\n\n    .dataframe tbody tr th {\n        vertical-align: top;\n    }\n\n    .dataframe thead th {\n        text-align: right;\n    }\n</style>\n<table border=\"1\" class=\"dataframe\">\n  <thead>\n    <tr style=\"text-align: right;\">\n      <th></th>\n      <th>Domain Code</th>\n      <th>Domain</th>\n      <th>Area Code (M49)</th>\n      <th>Area</th>\n      <th>Element Code</th>\n      <th>Element</th>\n      <th>Item Code</th>\n      <th>Item</th>\n      <th>Year Code</th>\n      <th>Year</th>\n      <th>Unit</th>\n      <th>Value</th>\n      <th>Flag</th>\n      <th>Flag Description</th>\n      <th>Note</th>\n    </tr>\n  </thead>\n  <tbody>\n    <tr>\n      <th>0</th>\n      <td>MK</td>\n      <td>Macro Indicators</td>\n      <td>8</td>\n      <td>Albania</td>\n      <td>6110</td>\n      <td>Value US$</td>\n      <td>22008</td>\n      <td>Gross Domestic Product</td>\n      <td>2012</td>\n      <td>2012</td>\n      <td>million USD</td>\n      <td>12319.779604</td>\n      <td>X</td>\n      <td>Figure from international organizations</td>\n      <td>NaN</td>\n    </tr>\n    <tr>\n      <th>1</th>\n      <td>MK</td>\n      <td>Macro Indicators</td>\n      <td>8</td>\n      <td>Albania</td>\n      <td>6110</td>\n      <td>Value US$</td>\n      <td>22008</td>\n      <td>Gross Domestic Product</td>\n      <td>2013</td>\n      <td>2013</td>\n      <td>million USD</td>\n      <td>12776.280738</td>\n      <td>X</td>\n      <td>Figure from international organizations</td>\n      <td>NaN</td>\n    </tr>\n    <tr>\n      <th>2</th>\n      <td>MK</td>\n      <td>Macro Indicators</td>\n      <td>8</td>\n      <td>Albania</td>\n      <td>6110</td>\n      <td>Value US$</td>\n      <td>22008</td>\n      <td>Gross Domestic Product</td>\n      <td>2014</td>\n      <td>2014</td>\n      <td>million USD</td>\n      <td>13228.240079</td>\n      <td>X</td>\n      <td>Figure from international organizations</td>\n      <td>NaN</td>\n    </tr>\n    <tr>\n      <th>3</th>\n      <td>MK</td>\n      <td>Macro Indicators</td>\n      <td>8</td>\n      <td>Albania</td>\n      <td>6110</td>\n      <td>Value US$</td>\n      <td>22008</td>\n      <td>Gross Domestic Product</td>\n      <td>2015</td>\n      <td>2015</td>\n      <td>million USD</td>\n      <td>11386.924853</td>\n      <td>X</td>\n      <td>Figure from international organizations</td>\n      <td>NaN</td>\n    </tr>\n    <tr>\n      <th>4</th>\n      <td>MK</td>\n      <td>Macro Indicators</td>\n      <td>8</td>\n      <td>Albania</td>\n      <td>6110</td>\n      <td>Value US$</td>\n      <td>22008</td>\n      <td>Gross Domestic Product</td>\n      <td>2016</td>\n      <td>2016</td>\n      <td>million USD</td>\n      <td>11861.356451</td>\n      <td>X</td>\n      <td>Figure from international organizations</td>\n      <td>NaN</td>\n    </tr>\n  </tbody>\n</table>\n</div>"
     },
     "execution_count": 13,
     "metadata": {},
     "output_type": "execute_result"
    }
   ],
   "source": [
    "dataset_raw_gdp.head()"
   ],
   "metadata": {
    "collapsed": false
   }
  },
  {
   "cell_type": "code",
   "execution_count": 14,
   "outputs": [],
   "source": [
    "dataset_raw_gdp = dataset_raw_gdp[['Area', 'Year', 'Value']]"
   ],
   "metadata": {
    "collapsed": false
   }
  },
  {
   "cell_type": "code",
   "execution_count": 15,
   "outputs": [],
   "source": [
    "dataset_raw_gdp = dataset_raw_gdp.rename(columns = {'Value': 'Raw GDP'})"
   ],
   "metadata": {
    "collapsed": false
   }
  },
  {
   "cell_type": "code",
   "execution_count": 16,
   "outputs": [
    {
     "data": {
      "text/plain": "      Area  Year       Raw GDP\n0  Albania  2012  12319.779604\n1  Albania  2013  12776.280738\n2  Albania  2014  13228.240079\n3  Albania  2015  11386.924853\n4  Albania  2016  11861.356451",
      "text/html": "<div>\n<style scoped>\n    .dataframe tbody tr th:only-of-type {\n        vertical-align: middle;\n    }\n\n    .dataframe tbody tr th {\n        vertical-align: top;\n    }\n\n    .dataframe thead th {\n        text-align: right;\n    }\n</style>\n<table border=\"1\" class=\"dataframe\">\n  <thead>\n    <tr style=\"text-align: right;\">\n      <th></th>\n      <th>Area</th>\n      <th>Year</th>\n      <th>Raw GDP</th>\n    </tr>\n  </thead>\n  <tbody>\n    <tr>\n      <th>0</th>\n      <td>Albania</td>\n      <td>2012</td>\n      <td>12319.779604</td>\n    </tr>\n    <tr>\n      <th>1</th>\n      <td>Albania</td>\n      <td>2013</td>\n      <td>12776.280738</td>\n    </tr>\n    <tr>\n      <th>2</th>\n      <td>Albania</td>\n      <td>2014</td>\n      <td>13228.240079</td>\n    </tr>\n    <tr>\n      <th>3</th>\n      <td>Albania</td>\n      <td>2015</td>\n      <td>11386.924853</td>\n    </tr>\n    <tr>\n      <th>4</th>\n      <td>Albania</td>\n      <td>2016</td>\n      <td>11861.356451</td>\n    </tr>\n  </tbody>\n</table>\n</div>"
     },
     "execution_count": 16,
     "metadata": {},
     "output_type": "execute_result"
    }
   ],
   "source": [
    "dataset_raw_gdp.head()"
   ],
   "metadata": {
    "collapsed": false
   }
  },
  {
   "cell_type": "code",
   "execution_count": 17,
   "outputs": [],
   "source": [
    "dataset_gdp_growth_rate = pd.read_csv('./data/gdp_growth_rate.csv')"
   ],
   "metadata": {
    "collapsed": false
   }
  },
  {
   "cell_type": "code",
   "execution_count": 18,
   "outputs": [
    {
     "data": {
      "text/plain": "  Domain Code            Domain  Area Code (M49)     Area  Element Code  \\\n0          MK  Macro Indicators                8  Albania          6129   \n1          MK  Macro Indicators                8  Albania          6129   \n2          MK  Macro Indicators                8  Albania          6129   \n3          MK  Macro Indicators                8  Albania          6129   \n4          MK  Macro Indicators                8  Albania          6129   \n\n             Element  Item Code                    Item  Year Code  Year Unit  \\\n0  Annual growth US$      22008  Gross Domestic Product       2012  2012    %   \n1  Annual growth US$      22008  Gross Domestic Product       2013  2013    %   \n2  Annual growth US$      22008  Gross Domestic Product       2014  2014    %   \n3  Annual growth US$      22008  Gross Domestic Product       2015  2015    %   \n4  Annual growth US$      22008  Gross Domestic Product       2016  2016    %   \n\n       Value Flag                         Flag Description  Note  \n0  -4.430218    X  Figure from international organizations   NaN  \n1   3.705432    X  Figure from international organizations   NaN  \n2   3.537487    X  Figure from international organizations   NaN  \n3 -13.919579    X  Figure from international organizations   NaN  \n4   4.166459    X  Figure from international organizations   NaN  ",
      "text/html": "<div>\n<style scoped>\n    .dataframe tbody tr th:only-of-type {\n        vertical-align: middle;\n    }\n\n    .dataframe tbody tr th {\n        vertical-align: top;\n    }\n\n    .dataframe thead th {\n        text-align: right;\n    }\n</style>\n<table border=\"1\" class=\"dataframe\">\n  <thead>\n    <tr style=\"text-align: right;\">\n      <th></th>\n      <th>Domain Code</th>\n      <th>Domain</th>\n      <th>Area Code (M49)</th>\n      <th>Area</th>\n      <th>Element Code</th>\n      <th>Element</th>\n      <th>Item Code</th>\n      <th>Item</th>\n      <th>Year Code</th>\n      <th>Year</th>\n      <th>Unit</th>\n      <th>Value</th>\n      <th>Flag</th>\n      <th>Flag Description</th>\n      <th>Note</th>\n    </tr>\n  </thead>\n  <tbody>\n    <tr>\n      <th>0</th>\n      <td>MK</td>\n      <td>Macro Indicators</td>\n      <td>8</td>\n      <td>Albania</td>\n      <td>6129</td>\n      <td>Annual growth US$</td>\n      <td>22008</td>\n      <td>Gross Domestic Product</td>\n      <td>2012</td>\n      <td>2012</td>\n      <td>%</td>\n      <td>-4.430218</td>\n      <td>X</td>\n      <td>Figure from international organizations</td>\n      <td>NaN</td>\n    </tr>\n    <tr>\n      <th>1</th>\n      <td>MK</td>\n      <td>Macro Indicators</td>\n      <td>8</td>\n      <td>Albania</td>\n      <td>6129</td>\n      <td>Annual growth US$</td>\n      <td>22008</td>\n      <td>Gross Domestic Product</td>\n      <td>2013</td>\n      <td>2013</td>\n      <td>%</td>\n      <td>3.705432</td>\n      <td>X</td>\n      <td>Figure from international organizations</td>\n      <td>NaN</td>\n    </tr>\n    <tr>\n      <th>2</th>\n      <td>MK</td>\n      <td>Macro Indicators</td>\n      <td>8</td>\n      <td>Albania</td>\n      <td>6129</td>\n      <td>Annual growth US$</td>\n      <td>22008</td>\n      <td>Gross Domestic Product</td>\n      <td>2014</td>\n      <td>2014</td>\n      <td>%</td>\n      <td>3.537487</td>\n      <td>X</td>\n      <td>Figure from international organizations</td>\n      <td>NaN</td>\n    </tr>\n    <tr>\n      <th>3</th>\n      <td>MK</td>\n      <td>Macro Indicators</td>\n      <td>8</td>\n      <td>Albania</td>\n      <td>6129</td>\n      <td>Annual growth US$</td>\n      <td>22008</td>\n      <td>Gross Domestic Product</td>\n      <td>2015</td>\n      <td>2015</td>\n      <td>%</td>\n      <td>-13.919579</td>\n      <td>X</td>\n      <td>Figure from international organizations</td>\n      <td>NaN</td>\n    </tr>\n    <tr>\n      <th>4</th>\n      <td>MK</td>\n      <td>Macro Indicators</td>\n      <td>8</td>\n      <td>Albania</td>\n      <td>6129</td>\n      <td>Annual growth US$</td>\n      <td>22008</td>\n      <td>Gross Domestic Product</td>\n      <td>2016</td>\n      <td>2016</td>\n      <td>%</td>\n      <td>4.166459</td>\n      <td>X</td>\n      <td>Figure from international organizations</td>\n      <td>NaN</td>\n    </tr>\n  </tbody>\n</table>\n</div>"
     },
     "execution_count": 18,
     "metadata": {},
     "output_type": "execute_result"
    }
   ],
   "source": [
    "dataset_gdp_growth_rate.head()"
   ],
   "metadata": {
    "collapsed": false
   }
  },
  {
   "cell_type": "code",
   "execution_count": 19,
   "outputs": [],
   "source": [
    "dataset_gdp_growth_rate = dataset_gdp_growth_rate[['Area', 'Year', 'Value']]"
   ],
   "metadata": {
    "collapsed": false
   }
  },
  {
   "cell_type": "code",
   "execution_count": 20,
   "outputs": [],
   "source": [
    "dataset_gdp_growth_rate = dataset_gdp_growth_rate.rename(columns = {\"Value\": \"GDP Growth Rate\"})"
   ],
   "metadata": {
    "collapsed": false
   }
  },
  {
   "cell_type": "code",
   "execution_count": 21,
   "outputs": [
    {
     "data": {
      "text/plain": "      Area  Year  GDP Growth Rate\n0  Albania  2012        -4.430218\n1  Albania  2013         3.705432\n2  Albania  2014         3.537487\n3  Albania  2015       -13.919579\n4  Albania  2016         4.166459",
      "text/html": "<div>\n<style scoped>\n    .dataframe tbody tr th:only-of-type {\n        vertical-align: middle;\n    }\n\n    .dataframe tbody tr th {\n        vertical-align: top;\n    }\n\n    .dataframe thead th {\n        text-align: right;\n    }\n</style>\n<table border=\"1\" class=\"dataframe\">\n  <thead>\n    <tr style=\"text-align: right;\">\n      <th></th>\n      <th>Area</th>\n      <th>Year</th>\n      <th>GDP Growth Rate</th>\n    </tr>\n  </thead>\n  <tbody>\n    <tr>\n      <th>0</th>\n      <td>Albania</td>\n      <td>2012</td>\n      <td>-4.430218</td>\n    </tr>\n    <tr>\n      <th>1</th>\n      <td>Albania</td>\n      <td>2013</td>\n      <td>3.705432</td>\n    </tr>\n    <tr>\n      <th>2</th>\n      <td>Albania</td>\n      <td>2014</td>\n      <td>3.537487</td>\n    </tr>\n    <tr>\n      <th>3</th>\n      <td>Albania</td>\n      <td>2015</td>\n      <td>-13.919579</td>\n    </tr>\n    <tr>\n      <th>4</th>\n      <td>Albania</td>\n      <td>2016</td>\n      <td>4.166459</td>\n    </tr>\n  </tbody>\n</table>\n</div>"
     },
     "execution_count": 21,
     "metadata": {},
     "output_type": "execute_result"
    }
   ],
   "source": [
    "dataset_gdp_growth_rate.head()"
   ],
   "metadata": {
    "collapsed": false
   }
  },
  {
   "cell_type": "code",
   "execution_count": 22,
   "outputs": [],
   "source": [
    "dataset_producer_prices = pd.read_csv('./data/producer_prices.csv')"
   ],
   "metadata": {
    "collapsed": false
   }
  },
  {
   "cell_type": "code",
   "execution_count": 23,
   "outputs": [
    {
     "data": {
      "text/plain": "  Domain Code           Domain  Area Code (M49)     Area  Element Code  \\\n0          PP  Producer Prices                8  Albania          5532   \n1          PP  Producer Prices                8  Albania          5532   \n2          PP  Producer Prices                8  Albania          5532   \n3          PP  Producer Prices                8  Albania          5532   \n4          PP  Producer Prices                8  Albania          5532   \n\n                      Element Item Code (CPC)    Item  Year Code  Year  \\\n0  Producer Price (USD/tonne)           01341  Apples       2012  2012   \n1  Producer Price (USD/tonne)           01341  Apples       2013  2013   \n2  Producer Price (USD/tonne)           01341  Apples       2014  2014   \n3  Producer Price (USD/tonne)           01341  Apples       2015  2015   \n4  Producer Price (USD/tonne)           01341  Apples       2016  2016   \n\n   Months Code        Months Unit  Value Flag Flag Description  \n0         7021  Annual value  USD  369.7    A  Official figure  \n1         7021  Annual value  USD  492.1    A  Official figure  \n2         7021  Annual value  USD  474.8    A  Official figure  \n3         7021  Annual value  USD  389.0    A  Official figure  \n4         7021  Annual value  USD  381.3    A  Official figure  ",
      "text/html": "<div>\n<style scoped>\n    .dataframe tbody tr th:only-of-type {\n        vertical-align: middle;\n    }\n\n    .dataframe tbody tr th {\n        vertical-align: top;\n    }\n\n    .dataframe thead th {\n        text-align: right;\n    }\n</style>\n<table border=\"1\" class=\"dataframe\">\n  <thead>\n    <tr style=\"text-align: right;\">\n      <th></th>\n      <th>Domain Code</th>\n      <th>Domain</th>\n      <th>Area Code (M49)</th>\n      <th>Area</th>\n      <th>Element Code</th>\n      <th>Element</th>\n      <th>Item Code (CPC)</th>\n      <th>Item</th>\n      <th>Year Code</th>\n      <th>Year</th>\n      <th>Months Code</th>\n      <th>Months</th>\n      <th>Unit</th>\n      <th>Value</th>\n      <th>Flag</th>\n      <th>Flag Description</th>\n    </tr>\n  </thead>\n  <tbody>\n    <tr>\n      <th>0</th>\n      <td>PP</td>\n      <td>Producer Prices</td>\n      <td>8</td>\n      <td>Albania</td>\n      <td>5532</td>\n      <td>Producer Price (USD/tonne)</td>\n      <td>01341</td>\n      <td>Apples</td>\n      <td>2012</td>\n      <td>2012</td>\n      <td>7021</td>\n      <td>Annual value</td>\n      <td>USD</td>\n      <td>369.7</td>\n      <td>A</td>\n      <td>Official figure</td>\n    </tr>\n    <tr>\n      <th>1</th>\n      <td>PP</td>\n      <td>Producer Prices</td>\n      <td>8</td>\n      <td>Albania</td>\n      <td>5532</td>\n      <td>Producer Price (USD/tonne)</td>\n      <td>01341</td>\n      <td>Apples</td>\n      <td>2013</td>\n      <td>2013</td>\n      <td>7021</td>\n      <td>Annual value</td>\n      <td>USD</td>\n      <td>492.1</td>\n      <td>A</td>\n      <td>Official figure</td>\n    </tr>\n    <tr>\n      <th>2</th>\n      <td>PP</td>\n      <td>Producer Prices</td>\n      <td>8</td>\n      <td>Albania</td>\n      <td>5532</td>\n      <td>Producer Price (USD/tonne)</td>\n      <td>01341</td>\n      <td>Apples</td>\n      <td>2014</td>\n      <td>2014</td>\n      <td>7021</td>\n      <td>Annual value</td>\n      <td>USD</td>\n      <td>474.8</td>\n      <td>A</td>\n      <td>Official figure</td>\n    </tr>\n    <tr>\n      <th>3</th>\n      <td>PP</td>\n      <td>Producer Prices</td>\n      <td>8</td>\n      <td>Albania</td>\n      <td>5532</td>\n      <td>Producer Price (USD/tonne)</td>\n      <td>01341</td>\n      <td>Apples</td>\n      <td>2015</td>\n      <td>2015</td>\n      <td>7021</td>\n      <td>Annual value</td>\n      <td>USD</td>\n      <td>389.0</td>\n      <td>A</td>\n      <td>Official figure</td>\n    </tr>\n    <tr>\n      <th>4</th>\n      <td>PP</td>\n      <td>Producer Prices</td>\n      <td>8</td>\n      <td>Albania</td>\n      <td>5532</td>\n      <td>Producer Price (USD/tonne)</td>\n      <td>01341</td>\n      <td>Apples</td>\n      <td>2016</td>\n      <td>2016</td>\n      <td>7021</td>\n      <td>Annual value</td>\n      <td>USD</td>\n      <td>381.3</td>\n      <td>A</td>\n      <td>Official figure</td>\n    </tr>\n  </tbody>\n</table>\n</div>"
     },
     "execution_count": 23,
     "metadata": {},
     "output_type": "execute_result"
    }
   ],
   "source": [
    "dataset_producer_prices.head()"
   ],
   "metadata": {
    "collapsed": false
   }
  },
  {
   "cell_type": "code",
   "execution_count": 24,
   "outputs": [],
   "source": [
    "dataset_producer_prices = dataset_producer_prices[['Area', 'Year', 'Item', 'Value']]"
   ],
   "metadata": {
    "collapsed": false
   }
  },
  {
   "cell_type": "code",
   "execution_count": 25,
   "outputs": [],
   "source": [
    "dataset_producer_prices = dataset_producer_prices.rename(columns={\"Value\": \"Item Price Per Tonne\"})"
   ],
   "metadata": {
    "collapsed": false
   }
  },
  {
   "cell_type": "code",
   "execution_count": 26,
   "outputs": [
    {
     "data": {
      "text/plain": "      Area  Year    Item  Item Price Per Tonne\n0  Albania  2012  Apples                 369.7\n1  Albania  2013  Apples                 492.1\n2  Albania  2014  Apples                 474.8\n3  Albania  2015  Apples                 389.0\n4  Albania  2016  Apples                 381.3",
      "text/html": "<div>\n<style scoped>\n    .dataframe tbody tr th:only-of-type {\n        vertical-align: middle;\n    }\n\n    .dataframe tbody tr th {\n        vertical-align: top;\n    }\n\n    .dataframe thead th {\n        text-align: right;\n    }\n</style>\n<table border=\"1\" class=\"dataframe\">\n  <thead>\n    <tr style=\"text-align: right;\">\n      <th></th>\n      <th>Area</th>\n      <th>Year</th>\n      <th>Item</th>\n      <th>Item Price Per Tonne</th>\n    </tr>\n  </thead>\n  <tbody>\n    <tr>\n      <th>0</th>\n      <td>Albania</td>\n      <td>2012</td>\n      <td>Apples</td>\n      <td>369.7</td>\n    </tr>\n    <tr>\n      <th>1</th>\n      <td>Albania</td>\n      <td>2013</td>\n      <td>Apples</td>\n      <td>492.1</td>\n    </tr>\n    <tr>\n      <th>2</th>\n      <td>Albania</td>\n      <td>2014</td>\n      <td>Apples</td>\n      <td>474.8</td>\n    </tr>\n    <tr>\n      <th>3</th>\n      <td>Albania</td>\n      <td>2015</td>\n      <td>Apples</td>\n      <td>389.0</td>\n    </tr>\n    <tr>\n      <th>4</th>\n      <td>Albania</td>\n      <td>2016</td>\n      <td>Apples</td>\n      <td>381.3</td>\n    </tr>\n  </tbody>\n</table>\n</div>"
     },
     "execution_count": 26,
     "metadata": {},
     "output_type": "execute_result"
    }
   ],
   "source": [
    "dataset_producer_prices.head()"
   ],
   "metadata": {
    "collapsed": false
   }
  },
  {
   "cell_type": "code",
   "execution_count": 27,
   "outputs": [],
   "source": [
    "dataset_overall_inflation = pd.read_excel('./data/overall_inflation.xlsx')"
   ],
   "metadata": {
    "collapsed": false
   }
  },
  {
   "cell_type": "code",
   "execution_count": 28,
   "outputs": [
    {
     "data": {
      "text/plain": "['Unnamed: 2',\n 'Unnamed: 4',\n 'Unnamed: 6',\n 'Unnamed: 8',\n 'Unnamed: 10',\n 'Unnamed: 12',\n 'Unnamed: 14',\n 'Unnamed: 16',\n 'Unnamed: 18',\n 'Unnamed: 20',\n 'Unnamed: 22',\n 'Unnamed: 24']"
     },
     "execution_count": 28,
     "metadata": {},
     "output_type": "execute_result"
    }
   ],
   "source": [
    "columns_to_drop = [f'Unnamed: {i}' for i in range(2, 25) if i % 2 == 0]\n",
    "columns_to_drop"
   ],
   "metadata": {
    "collapsed": false
   }
  },
  {
   "cell_type": "code",
   "execution_count": 29,
   "outputs": [],
   "source": [
    "dataset_overall_inflation = dataset_overall_inflation[12:51]"
   ],
   "metadata": {
    "collapsed": false
   }
  },
  {
   "cell_type": "code",
   "execution_count": 30,
   "outputs": [],
   "source": [
    "dataset_overall_inflation = dataset_overall_inflation.drop(columns=columns_to_drop)"
   ],
   "metadata": {
    "collapsed": false
   }
  },
  {
   "cell_type": "code",
   "execution_count": 31,
   "outputs": [],
   "source": [
    "columns_to_stay = [f'Unnamed: {i}' for i in range(1, 25) if i % 2 == 1]"
   ],
   "metadata": {
    "collapsed": false
   }
  },
  {
   "cell_type": "code",
   "execution_count": 32,
   "outputs": [],
   "source": [
    "dict_rename_columns = {}"
   ],
   "metadata": {
    "collapsed": false
   }
  },
  {
   "cell_type": "code",
   "execution_count": 33,
   "outputs": [],
   "source": [
    "for prev_name, year in zip(columns_to_stay, range(2012, 2024)):\n",
    "    dict_rename_columns[prev_name] = year"
   ],
   "metadata": {
    "collapsed": false
   }
  },
  {
   "cell_type": "code",
   "execution_count": 34,
   "outputs": [
    {
     "data": {
      "text/plain": "{'Unnamed: 1': 2012,\n 'Unnamed: 3': 2013,\n 'Unnamed: 5': 2014,\n 'Unnamed: 7': 2015,\n 'Unnamed: 9': 2016,\n 'Unnamed: 11': 2017,\n 'Unnamed: 13': 2018,\n 'Unnamed: 15': 2019,\n 'Unnamed: 17': 2020,\n 'Unnamed: 19': 2021,\n 'Unnamed: 21': 2022,\n 'Unnamed: 23': 2023}"
     },
     "execution_count": 34,
     "metadata": {},
     "output_type": "execute_result"
    }
   ],
   "source": [
    "dict_rename_columns"
   ],
   "metadata": {
    "collapsed": false
   }
  },
  {
   "cell_type": "code",
   "execution_count": 35,
   "outputs": [],
   "source": [
    "dict_rename_columns['Data extracted on 22/07/2024 23:21:37 from [ESTAT]'] = 'Area'"
   ],
   "metadata": {
    "collapsed": false
   }
  },
  {
   "cell_type": "code",
   "execution_count": 36,
   "outputs": [],
   "source": [
    "dataset_overall_inflation = dataset_overall_inflation.rename(columns=dict_rename_columns)"
   ],
   "metadata": {
    "collapsed": false
   }
  },
  {
   "cell_type": "code",
   "execution_count": 37,
   "outputs": [
    {
     "data": {
      "text/plain": "               Area 2012 2013 2014 2015 2016  2017  2018  2019  2020  2021  \\\n12          Belgium  2.6  1.2  0.5  0.6  1.8   2.2   2.3   1.2   0.4   3.2   \n13         Bulgaria  2.4  0.4 -1.6 -1.1 -1.3   1.2   2.6   2.5   1.2   2.8   \n14          Czechia  3.5  1.4  0.4  0.3  0.6   2.4     2   2.6   3.3   3.3   \n15          Denmark  2.4  0.5  0.4  0.2    0   1.1   0.7   0.7   0.3   1.9   \n16          Germany  2.2  1.6  0.8  0.7  0.4   1.7   1.9   1.4   0.4   3.2   \n17          Estonia  4.2  3.2  0.5  0.1  0.8   3.7   3.4   2.3  -0.6   4.5   \n18          Ireland  1.9  0.5  0.3    0 -0.2   0.3   0.7   0.9  -0.5   2.4   \n19           Greece    1 -0.9 -1.4 -1.1    0   1.1   0.8   0.5  -1.3   0.6   \n20            Spain  2.4  1.5 -0.2 -0.6 -0.3     2   1.7   0.8  -0.3     3   \n21           France  2.2    1  0.6  0.1  0.3   1.2   2.1   1.3   0.5   2.1   \n22          Croatia  3.4  2.3  0.2 -0.3 -0.6   1.3   1.6   0.8     0   2.7   \n23            Italy  3.3  1.2  0.2  0.1 -0.1   1.3   1.2   0.6  -0.1   1.9   \n24           Cyprus  3.1  0.4 -0.3 -1.5 -1.2   0.7   0.8   0.5  -1.1   2.3   \n25           Latvia  2.3    0  0.7  0.2  0.1   2.9   2.6   2.7   0.1   3.2   \n26        Lithuania  3.2  1.2  0.2 -0.7  0.7   3.7   2.5   2.2   1.1   4.6   \n27       Luxembourg  2.9  1.7  0.7  0.1    0   2.1     2   1.6     0   3.5   \n28          Hungary  5.7  1.7    0  0.1  0.4   2.4   2.9   3.4   3.4   5.2   \n29            Malta  3.2    1  0.8  1.2  0.9   1.3   1.7   1.5   0.8   0.7   \n30      Netherlands  2.8  2.6  0.3  0.2  0.1   1.3   1.6   2.7   1.1   2.8   \n31          Austria  2.6  2.1  1.5  0.8    1   2.2   2.1   1.5   1.4   2.8   \n32           Poland  3.7  0.8  0.1 -0.7 -0.2   1.6   1.2   2.1   3.7   5.2   \n33         Portugal  2.8  0.4 -0.2  0.5  0.6   1.6   1.2   0.3  -0.1   0.9   \n34          Romania  3.4  3.2  1.4 -0.4 -1.1   1.1   4.1   3.9   2.3   4.1   \n35         Slovenia  2.8  1.9  0.4 -0.8 -0.2   1.6   1.9   1.7  -0.3     2   \n36         Slovakia  3.7  1.5 -0.1 -0.3 -0.5   1.4   2.5   2.8     2   2.8   \n37          Finland  3.2  2.2  1.2 -0.2  0.4   0.8   1.2   1.1   0.4   2.1   \n38           Sweden  0.9  0.4  0.2  0.7  1.1   1.9     2   1.7   0.7   2.7   \n39          Iceland    6  4.1    1  0.3  0.8  -1.7   0.7     2   1.2   3.7   \n40    Liechtenstein    :    :    :    :    :     :     :     :     :     :   \n41           Norway  0.4    2  1.9    2  3.9   1.9     3   2.3   1.2   3.9   \n42      Switzerland -0.7  0.1    0 -0.8 -0.5   0.6   0.9   0.4  -0.8   0.5   \n43   United Kingdom  2.8  2.6  1.5    0  0.7   2.7   2.5   1.8     :     :   \n44       Montenegro    :    :    :    : -0.1   2.7   2.6   0.5  -0.5   2.5   \n45  North Macedonia  1.8  2.7    0  0.1  0.2   2.1   2.3   0.7   1.2   3.4   \n46          Albania    :    :    :    :    :   3.2   1.8   1.7   2.2   2.3   \n47           Serbia  7.4  7.7  2.3  1.5  1.3   3.3     2   1.9   1.8     4   \n48          Türkiye    9  7.5  8.9  7.7  7.7  11.1  16.3  15.2  12.3  19.6   \n49          Kosovo*    :    :    :    :    :   1.5   1.1   2.7   0.2   3.4   \n50    United States  2.1  1.2  1.3 -0.8  0.6   1.8   2.2   1.4   0.8   5.3   \n\n    2022  2023  \n12  10.3   2.3  \n13    13   8.6  \n14  14.8    12  \n15   8.5   3.4  \n16   8.7     6  \n17  19.4   9.1  \n18   8.1   5.2  \n19   9.3   4.2  \n20   8.3   3.4  \n21   5.9   5.7  \n22  10.7   8.4  \n23   8.7   5.9  \n24   8.1   3.9  \n25  17.2   9.1  \n26  18.9   8.7  \n27   8.2   2.9  \n28  15.3    17  \n29   6.1   5.6  \n30  11.6   4.1  \n31   8.6   7.7  \n32  13.2  10.9  \n33   8.1   5.3  \n34    12   9.7  \n35   9.3   7.2  \n36  12.1    11  \n37   7.2   4.3  \n38   8.1   5.9  \n39   5.7     8  \n40     :     :  \n41   6.2   5.8  \n42   2.7   2.3  \n43     :     :  \n44  11.9   8.7  \n45    14     9  \n46   6.6   5.3  \n47  11.7  12.1  \n48  72.3    54  \n49  11.6   4.9  \n50   8.7     3  ",
      "text/html": "<div>\n<style scoped>\n    .dataframe tbody tr th:only-of-type {\n        vertical-align: middle;\n    }\n\n    .dataframe tbody tr th {\n        vertical-align: top;\n    }\n\n    .dataframe thead th {\n        text-align: right;\n    }\n</style>\n<table border=\"1\" class=\"dataframe\">\n  <thead>\n    <tr style=\"text-align: right;\">\n      <th></th>\n      <th>Area</th>\n      <th>2012</th>\n      <th>2013</th>\n      <th>2014</th>\n      <th>2015</th>\n      <th>2016</th>\n      <th>2017</th>\n      <th>2018</th>\n      <th>2019</th>\n      <th>2020</th>\n      <th>2021</th>\n      <th>2022</th>\n      <th>2023</th>\n    </tr>\n  </thead>\n  <tbody>\n    <tr>\n      <th>12</th>\n      <td>Belgium</td>\n      <td>2.6</td>\n      <td>1.2</td>\n      <td>0.5</td>\n      <td>0.6</td>\n      <td>1.8</td>\n      <td>2.2</td>\n      <td>2.3</td>\n      <td>1.2</td>\n      <td>0.4</td>\n      <td>3.2</td>\n      <td>10.3</td>\n      <td>2.3</td>\n    </tr>\n    <tr>\n      <th>13</th>\n      <td>Bulgaria</td>\n      <td>2.4</td>\n      <td>0.4</td>\n      <td>-1.6</td>\n      <td>-1.1</td>\n      <td>-1.3</td>\n      <td>1.2</td>\n      <td>2.6</td>\n      <td>2.5</td>\n      <td>1.2</td>\n      <td>2.8</td>\n      <td>13</td>\n      <td>8.6</td>\n    </tr>\n    <tr>\n      <th>14</th>\n      <td>Czechia</td>\n      <td>3.5</td>\n      <td>1.4</td>\n      <td>0.4</td>\n      <td>0.3</td>\n      <td>0.6</td>\n      <td>2.4</td>\n      <td>2</td>\n      <td>2.6</td>\n      <td>3.3</td>\n      <td>3.3</td>\n      <td>14.8</td>\n      <td>12</td>\n    </tr>\n    <tr>\n      <th>15</th>\n      <td>Denmark</td>\n      <td>2.4</td>\n      <td>0.5</td>\n      <td>0.4</td>\n      <td>0.2</td>\n      <td>0</td>\n      <td>1.1</td>\n      <td>0.7</td>\n      <td>0.7</td>\n      <td>0.3</td>\n      <td>1.9</td>\n      <td>8.5</td>\n      <td>3.4</td>\n    </tr>\n    <tr>\n      <th>16</th>\n      <td>Germany</td>\n      <td>2.2</td>\n      <td>1.6</td>\n      <td>0.8</td>\n      <td>0.7</td>\n      <td>0.4</td>\n      <td>1.7</td>\n      <td>1.9</td>\n      <td>1.4</td>\n      <td>0.4</td>\n      <td>3.2</td>\n      <td>8.7</td>\n      <td>6</td>\n    </tr>\n    <tr>\n      <th>17</th>\n      <td>Estonia</td>\n      <td>4.2</td>\n      <td>3.2</td>\n      <td>0.5</td>\n      <td>0.1</td>\n      <td>0.8</td>\n      <td>3.7</td>\n      <td>3.4</td>\n      <td>2.3</td>\n      <td>-0.6</td>\n      <td>4.5</td>\n      <td>19.4</td>\n      <td>9.1</td>\n    </tr>\n    <tr>\n      <th>18</th>\n      <td>Ireland</td>\n      <td>1.9</td>\n      <td>0.5</td>\n      <td>0.3</td>\n      <td>0</td>\n      <td>-0.2</td>\n      <td>0.3</td>\n      <td>0.7</td>\n      <td>0.9</td>\n      <td>-0.5</td>\n      <td>2.4</td>\n      <td>8.1</td>\n      <td>5.2</td>\n    </tr>\n    <tr>\n      <th>19</th>\n      <td>Greece</td>\n      <td>1</td>\n      <td>-0.9</td>\n      <td>-1.4</td>\n      <td>-1.1</td>\n      <td>0</td>\n      <td>1.1</td>\n      <td>0.8</td>\n      <td>0.5</td>\n      <td>-1.3</td>\n      <td>0.6</td>\n      <td>9.3</td>\n      <td>4.2</td>\n    </tr>\n    <tr>\n      <th>20</th>\n      <td>Spain</td>\n      <td>2.4</td>\n      <td>1.5</td>\n      <td>-0.2</td>\n      <td>-0.6</td>\n      <td>-0.3</td>\n      <td>2</td>\n      <td>1.7</td>\n      <td>0.8</td>\n      <td>-0.3</td>\n      <td>3</td>\n      <td>8.3</td>\n      <td>3.4</td>\n    </tr>\n    <tr>\n      <th>21</th>\n      <td>France</td>\n      <td>2.2</td>\n      <td>1</td>\n      <td>0.6</td>\n      <td>0.1</td>\n      <td>0.3</td>\n      <td>1.2</td>\n      <td>2.1</td>\n      <td>1.3</td>\n      <td>0.5</td>\n      <td>2.1</td>\n      <td>5.9</td>\n      <td>5.7</td>\n    </tr>\n    <tr>\n      <th>22</th>\n      <td>Croatia</td>\n      <td>3.4</td>\n      <td>2.3</td>\n      <td>0.2</td>\n      <td>-0.3</td>\n      <td>-0.6</td>\n      <td>1.3</td>\n      <td>1.6</td>\n      <td>0.8</td>\n      <td>0</td>\n      <td>2.7</td>\n      <td>10.7</td>\n      <td>8.4</td>\n    </tr>\n    <tr>\n      <th>23</th>\n      <td>Italy</td>\n      <td>3.3</td>\n      <td>1.2</td>\n      <td>0.2</td>\n      <td>0.1</td>\n      <td>-0.1</td>\n      <td>1.3</td>\n      <td>1.2</td>\n      <td>0.6</td>\n      <td>-0.1</td>\n      <td>1.9</td>\n      <td>8.7</td>\n      <td>5.9</td>\n    </tr>\n    <tr>\n      <th>24</th>\n      <td>Cyprus</td>\n      <td>3.1</td>\n      <td>0.4</td>\n      <td>-0.3</td>\n      <td>-1.5</td>\n      <td>-1.2</td>\n      <td>0.7</td>\n      <td>0.8</td>\n      <td>0.5</td>\n      <td>-1.1</td>\n      <td>2.3</td>\n      <td>8.1</td>\n      <td>3.9</td>\n    </tr>\n    <tr>\n      <th>25</th>\n      <td>Latvia</td>\n      <td>2.3</td>\n      <td>0</td>\n      <td>0.7</td>\n      <td>0.2</td>\n      <td>0.1</td>\n      <td>2.9</td>\n      <td>2.6</td>\n      <td>2.7</td>\n      <td>0.1</td>\n      <td>3.2</td>\n      <td>17.2</td>\n      <td>9.1</td>\n    </tr>\n    <tr>\n      <th>26</th>\n      <td>Lithuania</td>\n      <td>3.2</td>\n      <td>1.2</td>\n      <td>0.2</td>\n      <td>-0.7</td>\n      <td>0.7</td>\n      <td>3.7</td>\n      <td>2.5</td>\n      <td>2.2</td>\n      <td>1.1</td>\n      <td>4.6</td>\n      <td>18.9</td>\n      <td>8.7</td>\n    </tr>\n    <tr>\n      <th>27</th>\n      <td>Luxembourg</td>\n      <td>2.9</td>\n      <td>1.7</td>\n      <td>0.7</td>\n      <td>0.1</td>\n      <td>0</td>\n      <td>2.1</td>\n      <td>2</td>\n      <td>1.6</td>\n      <td>0</td>\n      <td>3.5</td>\n      <td>8.2</td>\n      <td>2.9</td>\n    </tr>\n    <tr>\n      <th>28</th>\n      <td>Hungary</td>\n      <td>5.7</td>\n      <td>1.7</td>\n      <td>0</td>\n      <td>0.1</td>\n      <td>0.4</td>\n      <td>2.4</td>\n      <td>2.9</td>\n      <td>3.4</td>\n      <td>3.4</td>\n      <td>5.2</td>\n      <td>15.3</td>\n      <td>17</td>\n    </tr>\n    <tr>\n      <th>29</th>\n      <td>Malta</td>\n      <td>3.2</td>\n      <td>1</td>\n      <td>0.8</td>\n      <td>1.2</td>\n      <td>0.9</td>\n      <td>1.3</td>\n      <td>1.7</td>\n      <td>1.5</td>\n      <td>0.8</td>\n      <td>0.7</td>\n      <td>6.1</td>\n      <td>5.6</td>\n    </tr>\n    <tr>\n      <th>30</th>\n      <td>Netherlands</td>\n      <td>2.8</td>\n      <td>2.6</td>\n      <td>0.3</td>\n      <td>0.2</td>\n      <td>0.1</td>\n      <td>1.3</td>\n      <td>1.6</td>\n      <td>2.7</td>\n      <td>1.1</td>\n      <td>2.8</td>\n      <td>11.6</td>\n      <td>4.1</td>\n    </tr>\n    <tr>\n      <th>31</th>\n      <td>Austria</td>\n      <td>2.6</td>\n      <td>2.1</td>\n      <td>1.5</td>\n      <td>0.8</td>\n      <td>1</td>\n      <td>2.2</td>\n      <td>2.1</td>\n      <td>1.5</td>\n      <td>1.4</td>\n      <td>2.8</td>\n      <td>8.6</td>\n      <td>7.7</td>\n    </tr>\n    <tr>\n      <th>32</th>\n      <td>Poland</td>\n      <td>3.7</td>\n      <td>0.8</td>\n      <td>0.1</td>\n      <td>-0.7</td>\n      <td>-0.2</td>\n      <td>1.6</td>\n      <td>1.2</td>\n      <td>2.1</td>\n      <td>3.7</td>\n      <td>5.2</td>\n      <td>13.2</td>\n      <td>10.9</td>\n    </tr>\n    <tr>\n      <th>33</th>\n      <td>Portugal</td>\n      <td>2.8</td>\n      <td>0.4</td>\n      <td>-0.2</td>\n      <td>0.5</td>\n      <td>0.6</td>\n      <td>1.6</td>\n      <td>1.2</td>\n      <td>0.3</td>\n      <td>-0.1</td>\n      <td>0.9</td>\n      <td>8.1</td>\n      <td>5.3</td>\n    </tr>\n    <tr>\n      <th>34</th>\n      <td>Romania</td>\n      <td>3.4</td>\n      <td>3.2</td>\n      <td>1.4</td>\n      <td>-0.4</td>\n      <td>-1.1</td>\n      <td>1.1</td>\n      <td>4.1</td>\n      <td>3.9</td>\n      <td>2.3</td>\n      <td>4.1</td>\n      <td>12</td>\n      <td>9.7</td>\n    </tr>\n    <tr>\n      <th>35</th>\n      <td>Slovenia</td>\n      <td>2.8</td>\n      <td>1.9</td>\n      <td>0.4</td>\n      <td>-0.8</td>\n      <td>-0.2</td>\n      <td>1.6</td>\n      <td>1.9</td>\n      <td>1.7</td>\n      <td>-0.3</td>\n      <td>2</td>\n      <td>9.3</td>\n      <td>7.2</td>\n    </tr>\n    <tr>\n      <th>36</th>\n      <td>Slovakia</td>\n      <td>3.7</td>\n      <td>1.5</td>\n      <td>-0.1</td>\n      <td>-0.3</td>\n      <td>-0.5</td>\n      <td>1.4</td>\n      <td>2.5</td>\n      <td>2.8</td>\n      <td>2</td>\n      <td>2.8</td>\n      <td>12.1</td>\n      <td>11</td>\n    </tr>\n    <tr>\n      <th>37</th>\n      <td>Finland</td>\n      <td>3.2</td>\n      <td>2.2</td>\n      <td>1.2</td>\n      <td>-0.2</td>\n      <td>0.4</td>\n      <td>0.8</td>\n      <td>1.2</td>\n      <td>1.1</td>\n      <td>0.4</td>\n      <td>2.1</td>\n      <td>7.2</td>\n      <td>4.3</td>\n    </tr>\n    <tr>\n      <th>38</th>\n      <td>Sweden</td>\n      <td>0.9</td>\n      <td>0.4</td>\n      <td>0.2</td>\n      <td>0.7</td>\n      <td>1.1</td>\n      <td>1.9</td>\n      <td>2</td>\n      <td>1.7</td>\n      <td>0.7</td>\n      <td>2.7</td>\n      <td>8.1</td>\n      <td>5.9</td>\n    </tr>\n    <tr>\n      <th>39</th>\n      <td>Iceland</td>\n      <td>6</td>\n      <td>4.1</td>\n      <td>1</td>\n      <td>0.3</td>\n      <td>0.8</td>\n      <td>-1.7</td>\n      <td>0.7</td>\n      <td>2</td>\n      <td>1.2</td>\n      <td>3.7</td>\n      <td>5.7</td>\n      <td>8</td>\n    </tr>\n    <tr>\n      <th>40</th>\n      <td>Liechtenstein</td>\n      <td>:</td>\n      <td>:</td>\n      <td>:</td>\n      <td>:</td>\n      <td>:</td>\n      <td>:</td>\n      <td>:</td>\n      <td>:</td>\n      <td>:</td>\n      <td>:</td>\n      <td>:</td>\n      <td>:</td>\n    </tr>\n    <tr>\n      <th>41</th>\n      <td>Norway</td>\n      <td>0.4</td>\n      <td>2</td>\n      <td>1.9</td>\n      <td>2</td>\n      <td>3.9</td>\n      <td>1.9</td>\n      <td>3</td>\n      <td>2.3</td>\n      <td>1.2</td>\n      <td>3.9</td>\n      <td>6.2</td>\n      <td>5.8</td>\n    </tr>\n    <tr>\n      <th>42</th>\n      <td>Switzerland</td>\n      <td>-0.7</td>\n      <td>0.1</td>\n      <td>0</td>\n      <td>-0.8</td>\n      <td>-0.5</td>\n      <td>0.6</td>\n      <td>0.9</td>\n      <td>0.4</td>\n      <td>-0.8</td>\n      <td>0.5</td>\n      <td>2.7</td>\n      <td>2.3</td>\n    </tr>\n    <tr>\n      <th>43</th>\n      <td>United Kingdom</td>\n      <td>2.8</td>\n      <td>2.6</td>\n      <td>1.5</td>\n      <td>0</td>\n      <td>0.7</td>\n      <td>2.7</td>\n      <td>2.5</td>\n      <td>1.8</td>\n      <td>:</td>\n      <td>:</td>\n      <td>:</td>\n      <td>:</td>\n    </tr>\n    <tr>\n      <th>44</th>\n      <td>Montenegro</td>\n      <td>:</td>\n      <td>:</td>\n      <td>:</td>\n      <td>:</td>\n      <td>-0.1</td>\n      <td>2.7</td>\n      <td>2.6</td>\n      <td>0.5</td>\n      <td>-0.5</td>\n      <td>2.5</td>\n      <td>11.9</td>\n      <td>8.7</td>\n    </tr>\n    <tr>\n      <th>45</th>\n      <td>North Macedonia</td>\n      <td>1.8</td>\n      <td>2.7</td>\n      <td>0</td>\n      <td>0.1</td>\n      <td>0.2</td>\n      <td>2.1</td>\n      <td>2.3</td>\n      <td>0.7</td>\n      <td>1.2</td>\n      <td>3.4</td>\n      <td>14</td>\n      <td>9</td>\n    </tr>\n    <tr>\n      <th>46</th>\n      <td>Albania</td>\n      <td>:</td>\n      <td>:</td>\n      <td>:</td>\n      <td>:</td>\n      <td>:</td>\n      <td>3.2</td>\n      <td>1.8</td>\n      <td>1.7</td>\n      <td>2.2</td>\n      <td>2.3</td>\n      <td>6.6</td>\n      <td>5.3</td>\n    </tr>\n    <tr>\n      <th>47</th>\n      <td>Serbia</td>\n      <td>7.4</td>\n      <td>7.7</td>\n      <td>2.3</td>\n      <td>1.5</td>\n      <td>1.3</td>\n      <td>3.3</td>\n      <td>2</td>\n      <td>1.9</td>\n      <td>1.8</td>\n      <td>4</td>\n      <td>11.7</td>\n      <td>12.1</td>\n    </tr>\n    <tr>\n      <th>48</th>\n      <td>Türkiye</td>\n      <td>9</td>\n      <td>7.5</td>\n      <td>8.9</td>\n      <td>7.7</td>\n      <td>7.7</td>\n      <td>11.1</td>\n      <td>16.3</td>\n      <td>15.2</td>\n      <td>12.3</td>\n      <td>19.6</td>\n      <td>72.3</td>\n      <td>54</td>\n    </tr>\n    <tr>\n      <th>49</th>\n      <td>Kosovo*</td>\n      <td>:</td>\n      <td>:</td>\n      <td>:</td>\n      <td>:</td>\n      <td>:</td>\n      <td>1.5</td>\n      <td>1.1</td>\n      <td>2.7</td>\n      <td>0.2</td>\n      <td>3.4</td>\n      <td>11.6</td>\n      <td>4.9</td>\n    </tr>\n    <tr>\n      <th>50</th>\n      <td>United States</td>\n      <td>2.1</td>\n      <td>1.2</td>\n      <td>1.3</td>\n      <td>-0.8</td>\n      <td>0.6</td>\n      <td>1.8</td>\n      <td>2.2</td>\n      <td>1.4</td>\n      <td>0.8</td>\n      <td>5.3</td>\n      <td>8.7</td>\n      <td>3</td>\n    </tr>\n  </tbody>\n</table>\n</div>"
     },
     "execution_count": 37,
     "metadata": {},
     "output_type": "execute_result"
    }
   ],
   "source": [
    "dataset_overall_inflation"
   ],
   "metadata": {
    "collapsed": false
   }
  },
  {
   "cell_type": "code",
   "execution_count": 38,
   "outputs": [],
   "source": [
    "dataset_overall_inflation = dataset_overall_inflation.melt(id_vars=['Area'], var_name='Year', value_name='Overall Inflation Rate')"
   ],
   "metadata": {
    "collapsed": false
   }
  },
  {
   "cell_type": "code",
   "execution_count": 39,
   "outputs": [],
   "source": [
    "dataset_overall_inflation = dataset_overall_inflation[dataset_overall_inflation['Area']!='Liechtenstein']"
   ],
   "metadata": {
    "collapsed": false
   }
  },
  {
   "cell_type": "code",
   "execution_count": 40,
   "outputs": [],
   "source": [
    "#pd.set_option('future.no_silent_downcasting', True)\n",
    "dataset_overall_inflation = dataset_overall_inflation.replace(to_replace=\":\", value=np.nan)"
   ],
   "metadata": {
    "collapsed": false
   }
  },
  {
   "cell_type": "code",
   "execution_count": 41,
   "outputs": [],
   "source": [
    "dataset_overall_inflation = dataset_overall_inflation.sort_values(by=['Area', 'Year'])"
   ],
   "metadata": {
    "collapsed": false
   }
  },
  {
   "cell_type": "code",
   "execution_count": 42,
   "outputs": [],
   "source": [
    "df = dataset_overall_inflation.copy()"
   ],
   "metadata": {
    "collapsed": false
   }
  },
  {
   "cell_type": "code",
   "execution_count": 43,
   "outputs": [
    {
     "data": {
      "text/plain": "              Area  Year  Overall Inflation Rate\n34         Albania  2012                     NaN\n73         Albania  2013                     NaN\n112        Albania  2014                     NaN\n151        Albania  2015                     NaN\n190        Albania  2016                     NaN\n..             ...   ...                     ...\n311  United States  2019                     1.4\n350  United States  2020                     0.8\n389  United States  2021                     5.3\n428  United States  2022                     8.7\n467  United States  2023                     3.0\n\n[456 rows x 3 columns]",
      "text/html": "<div>\n<style scoped>\n    .dataframe tbody tr th:only-of-type {\n        vertical-align: middle;\n    }\n\n    .dataframe tbody tr th {\n        vertical-align: top;\n    }\n\n    .dataframe thead th {\n        text-align: right;\n    }\n</style>\n<table border=\"1\" class=\"dataframe\">\n  <thead>\n    <tr style=\"text-align: right;\">\n      <th></th>\n      <th>Area</th>\n      <th>Year</th>\n      <th>Overall Inflation Rate</th>\n    </tr>\n  </thead>\n  <tbody>\n    <tr>\n      <th>34</th>\n      <td>Albania</td>\n      <td>2012</td>\n      <td>NaN</td>\n    </tr>\n    <tr>\n      <th>73</th>\n      <td>Albania</td>\n      <td>2013</td>\n      <td>NaN</td>\n    </tr>\n    <tr>\n      <th>112</th>\n      <td>Albania</td>\n      <td>2014</td>\n      <td>NaN</td>\n    </tr>\n    <tr>\n      <th>151</th>\n      <td>Albania</td>\n      <td>2015</td>\n      <td>NaN</td>\n    </tr>\n    <tr>\n      <th>190</th>\n      <td>Albania</td>\n      <td>2016</td>\n      <td>NaN</td>\n    </tr>\n    <tr>\n      <th>...</th>\n      <td>...</td>\n      <td>...</td>\n      <td>...</td>\n    </tr>\n    <tr>\n      <th>311</th>\n      <td>United States</td>\n      <td>2019</td>\n      <td>1.4</td>\n    </tr>\n    <tr>\n      <th>350</th>\n      <td>United States</td>\n      <td>2020</td>\n      <td>0.8</td>\n    </tr>\n    <tr>\n      <th>389</th>\n      <td>United States</td>\n      <td>2021</td>\n      <td>5.3</td>\n    </tr>\n    <tr>\n      <th>428</th>\n      <td>United States</td>\n      <td>2022</td>\n      <td>8.7</td>\n    </tr>\n    <tr>\n      <th>467</th>\n      <td>United States</td>\n      <td>2023</td>\n      <td>3.0</td>\n    </tr>\n  </tbody>\n</table>\n<p>456 rows × 3 columns</p>\n</div>"
     },
     "execution_count": 43,
     "metadata": {},
     "output_type": "execute_result"
    }
   ],
   "source": [
    "df"
   ],
   "metadata": {
    "collapsed": false
   }
  },
  {
   "cell_type": "code",
   "execution_count": 44,
   "outputs": [
    {
     "name": "stderr",
     "output_type": "stream",
     "text": [
      "C:\\Users\\Tamara\\AppData\\Local\\Temp\\ipykernel_14972\\901236023.py:1: FutureWarning: Series.fillna with 'method' is deprecated and will raise in a future version. Use obj.ffill() or obj.bfill() instead.\n",
      "  tmp = dataset_overall_inflation.groupby('Area')['Overall Inflation Rate'].apply(lambda group: group.fillna(method='bfill')).reset_index()\n"
     ]
    }
   ],
   "source": [
    "tmp = dataset_overall_inflation.groupby('Area')['Overall Inflation Rate'].apply(lambda group: group.fillna(method='bfill')).reset_index()"
   ],
   "metadata": {
    "collapsed": false
   }
  },
  {
   "cell_type": "code",
   "execution_count": 45,
   "outputs": [],
   "source": [
    "tmp = tmp.rename(columns={'level_1': 'index'})"
   ],
   "metadata": {
    "collapsed": false
   }
  },
  {
   "cell_type": "code",
   "execution_count": 46,
   "outputs": [],
   "source": [
    "tmp = tmp.set_index('index')"
   ],
   "metadata": {
    "collapsed": false
   }
  },
  {
   "cell_type": "code",
   "execution_count": 47,
   "outputs": [],
   "source": [
    "dataset_overall_inflation['Overall Inflation Rate'] = tmp['Overall Inflation Rate']"
   ],
   "metadata": {
    "collapsed": false
   }
  },
  {
   "cell_type": "code",
   "execution_count": 48,
   "outputs": [
    {
     "name": "stderr",
     "output_type": "stream",
     "text": [
      "C:\\Users\\Tamara\\AppData\\Local\\Temp\\ipykernel_14972\\1717314096.py:1: FutureWarning: Series.fillna with 'method' is deprecated and will raise in a future version. Use obj.ffill() or obj.bfill() instead.\n",
      "  tmp = dataset_overall_inflation.groupby('Area')['Overall Inflation Rate'].apply(lambda group: group.fillna(method='ffill')).reset_index()\n"
     ]
    }
   ],
   "source": [
    "tmp = dataset_overall_inflation.groupby('Area')['Overall Inflation Rate'].apply(lambda group: group.fillna(method='ffill')).reset_index()"
   ],
   "metadata": {
    "collapsed": false
   }
  },
  {
   "cell_type": "code",
   "execution_count": 49,
   "outputs": [],
   "source": [
    "tmp = tmp.rename(columns={'level_1': 'index'})"
   ],
   "metadata": {
    "collapsed": false
   }
  },
  {
   "cell_type": "code",
   "execution_count": 50,
   "outputs": [],
   "source": [
    "tmp = tmp.set_index('index')"
   ],
   "metadata": {
    "collapsed": false
   }
  },
  {
   "cell_type": "code",
   "execution_count": 51,
   "outputs": [],
   "source": [
    "dataset_overall_inflation['Overall Inflation Rate'] = tmp['Overall Inflation Rate']"
   ],
   "metadata": {
    "collapsed": false
   }
  },
  {
   "cell_type": "code",
   "execution_count": 52,
   "outputs": [
    {
     "data": {
      "text/plain": "              Area  Year  Overall Inflation Rate\n34         Albania  2012                     3.2\n73         Albania  2013                     3.2\n112        Albania  2014                     3.2\n151        Albania  2015                     3.2\n190        Albania  2016                     3.2\n..             ...   ...                     ...\n311  United States  2019                     1.4\n350  United States  2020                     0.8\n389  United States  2021                     5.3\n428  United States  2022                     8.7\n467  United States  2023                     3.0\n\n[456 rows x 3 columns]",
      "text/html": "<div>\n<style scoped>\n    .dataframe tbody tr th:only-of-type {\n        vertical-align: middle;\n    }\n\n    .dataframe tbody tr th {\n        vertical-align: top;\n    }\n\n    .dataframe thead th {\n        text-align: right;\n    }\n</style>\n<table border=\"1\" class=\"dataframe\">\n  <thead>\n    <tr style=\"text-align: right;\">\n      <th></th>\n      <th>Area</th>\n      <th>Year</th>\n      <th>Overall Inflation Rate</th>\n    </tr>\n  </thead>\n  <tbody>\n    <tr>\n      <th>34</th>\n      <td>Albania</td>\n      <td>2012</td>\n      <td>3.2</td>\n    </tr>\n    <tr>\n      <th>73</th>\n      <td>Albania</td>\n      <td>2013</td>\n      <td>3.2</td>\n    </tr>\n    <tr>\n      <th>112</th>\n      <td>Albania</td>\n      <td>2014</td>\n      <td>3.2</td>\n    </tr>\n    <tr>\n      <th>151</th>\n      <td>Albania</td>\n      <td>2015</td>\n      <td>3.2</td>\n    </tr>\n    <tr>\n      <th>190</th>\n      <td>Albania</td>\n      <td>2016</td>\n      <td>3.2</td>\n    </tr>\n    <tr>\n      <th>...</th>\n      <td>...</td>\n      <td>...</td>\n      <td>...</td>\n    </tr>\n    <tr>\n      <th>311</th>\n      <td>United States</td>\n      <td>2019</td>\n      <td>1.4</td>\n    </tr>\n    <tr>\n      <th>350</th>\n      <td>United States</td>\n      <td>2020</td>\n      <td>0.8</td>\n    </tr>\n    <tr>\n      <th>389</th>\n      <td>United States</td>\n      <td>2021</td>\n      <td>5.3</td>\n    </tr>\n    <tr>\n      <th>428</th>\n      <td>United States</td>\n      <td>2022</td>\n      <td>8.7</td>\n    </tr>\n    <tr>\n      <th>467</th>\n      <td>United States</td>\n      <td>2023</td>\n      <td>3.0</td>\n    </tr>\n  </tbody>\n</table>\n<p>456 rows × 3 columns</p>\n</div>"
     },
     "execution_count": 52,
     "metadata": {},
     "output_type": "execute_result"
    }
   ],
   "source": [
    "dataset_overall_inflation"
   ],
   "metadata": {
    "collapsed": false
   }
  },
  {
   "cell_type": "code",
   "execution_count": 53,
   "outputs": [],
   "source": [
    "data = pd.merge(dataset_food_inflation_rate, dataset_raw_gdp, on=['Area', 'Year'], how='inner')"
   ],
   "metadata": {
    "collapsed": false
   }
  },
  {
   "cell_type": "code",
   "execution_count": 54,
   "outputs": [
    {
     "data": {
      "text/plain": "                                                  Area  Year  \\\n0                                              Albania  2012   \n1                                              Albania  2013   \n2                                              Albania  2014   \n3                                              Albania  2015   \n4                                              Albania  2016   \n..                                                 ...   ...   \n487  United Kingdom of Great Britain and Northern I...  2019   \n488  United Kingdom of Great Britain and Northern I...  2020   \n489  United Kingdom of Great Britain and Northern I...  2021   \n490  United Kingdom of Great Britain and Northern I...  2022   \n491  United Kingdom of Great Britain and Northern I...  2023   \n\n     Food Inflation Rate       Raw GDP  \n0               2.404087  1.231978e+04  \n1               4.214607  1.277628e+04  \n2               2.212385  1.322824e+04  \n3               4.294233  1.138692e+04  \n4               3.254620  1.186136e+04  \n..                   ...           ...  \n487             1.374278  2.851407e+06  \n488             0.721408  2.697807e+06  \n489             0.304925  3.141506e+06  \n490            10.894987  3.089073e+06  \n491            14.752064  3.263528e+06  \n\n[492 rows x 4 columns]",
      "text/html": "<div>\n<style scoped>\n    .dataframe tbody tr th:only-of-type {\n        vertical-align: middle;\n    }\n\n    .dataframe tbody tr th {\n        vertical-align: top;\n    }\n\n    .dataframe thead th {\n        text-align: right;\n    }\n</style>\n<table border=\"1\" class=\"dataframe\">\n  <thead>\n    <tr style=\"text-align: right;\">\n      <th></th>\n      <th>Area</th>\n      <th>Year</th>\n      <th>Food Inflation Rate</th>\n      <th>Raw GDP</th>\n    </tr>\n  </thead>\n  <tbody>\n    <tr>\n      <th>0</th>\n      <td>Albania</td>\n      <td>2012</td>\n      <td>2.404087</td>\n      <td>1.231978e+04</td>\n    </tr>\n    <tr>\n      <th>1</th>\n      <td>Albania</td>\n      <td>2013</td>\n      <td>4.214607</td>\n      <td>1.277628e+04</td>\n    </tr>\n    <tr>\n      <th>2</th>\n      <td>Albania</td>\n      <td>2014</td>\n      <td>2.212385</td>\n      <td>1.322824e+04</td>\n    </tr>\n    <tr>\n      <th>3</th>\n      <td>Albania</td>\n      <td>2015</td>\n      <td>4.294233</td>\n      <td>1.138692e+04</td>\n    </tr>\n    <tr>\n      <th>4</th>\n      <td>Albania</td>\n      <td>2016</td>\n      <td>3.254620</td>\n      <td>1.186136e+04</td>\n    </tr>\n    <tr>\n      <th>...</th>\n      <td>...</td>\n      <td>...</td>\n      <td>...</td>\n      <td>...</td>\n    </tr>\n    <tr>\n      <th>487</th>\n      <td>United Kingdom of Great Britain and Northern I...</td>\n      <td>2019</td>\n      <td>1.374278</td>\n      <td>2.851407e+06</td>\n    </tr>\n    <tr>\n      <th>488</th>\n      <td>United Kingdom of Great Britain and Northern I...</td>\n      <td>2020</td>\n      <td>0.721408</td>\n      <td>2.697807e+06</td>\n    </tr>\n    <tr>\n      <th>489</th>\n      <td>United Kingdom of Great Britain and Northern I...</td>\n      <td>2021</td>\n      <td>0.304925</td>\n      <td>3.141506e+06</td>\n    </tr>\n    <tr>\n      <th>490</th>\n      <td>United Kingdom of Great Britain and Northern I...</td>\n      <td>2022</td>\n      <td>10.894987</td>\n      <td>3.089073e+06</td>\n    </tr>\n    <tr>\n      <th>491</th>\n      <td>United Kingdom of Great Britain and Northern I...</td>\n      <td>2023</td>\n      <td>14.752064</td>\n      <td>3.263528e+06</td>\n    </tr>\n  </tbody>\n</table>\n<p>492 rows × 4 columns</p>\n</div>"
     },
     "execution_count": 54,
     "metadata": {},
     "output_type": "execute_result"
    }
   ],
   "source": [
    "data"
   ],
   "metadata": {
    "collapsed": false
   }
  },
  {
   "cell_type": "code",
   "execution_count": 55,
   "outputs": [],
   "source": [
    "data = pd.merge(data, dataset_gdp_growth_rate, on=['Area', 'Year'], how='inner')"
   ],
   "metadata": {
    "collapsed": false
   }
  },
  {
   "cell_type": "code",
   "execution_count": 56,
   "outputs": [
    {
     "data": {
      "text/plain": "                                                  Area  Year  \\\n0                                              Albania  2012   \n1                                              Albania  2013   \n2                                              Albania  2014   \n3                                              Albania  2015   \n4                                              Albania  2016   \n..                                                 ...   ...   \n487  United Kingdom of Great Britain and Northern I...  2019   \n488  United Kingdom of Great Britain and Northern I...  2020   \n489  United Kingdom of Great Britain and Northern I...  2021   \n490  United Kingdom of Great Britain and Northern I...  2022   \n491  United Kingdom of Great Britain and Northern I...  2023   \n\n     Food Inflation Rate       Raw GDP  GDP Growth Rate  \n0               2.404087  1.231978e+04        -4.430218  \n1               4.214607  1.277628e+04         3.705432  \n2               2.212385  1.322824e+04         3.537487  \n3               4.294233  1.138692e+04       -13.919579  \n4               3.254620  1.186136e+04         4.166459  \n..                   ...           ...              ...  \n487             1.374278  2.851407e+06        -0.694212  \n488             0.721408  2.697807e+06        -5.386835  \n489             0.304925  3.141506e+06        16.446678  \n490            10.894987  3.089073e+06        -1.669055  \n491            14.752064  3.263528e+06         5.647490  \n\n[492 rows x 5 columns]",
      "text/html": "<div>\n<style scoped>\n    .dataframe tbody tr th:only-of-type {\n        vertical-align: middle;\n    }\n\n    .dataframe tbody tr th {\n        vertical-align: top;\n    }\n\n    .dataframe thead th {\n        text-align: right;\n    }\n</style>\n<table border=\"1\" class=\"dataframe\">\n  <thead>\n    <tr style=\"text-align: right;\">\n      <th></th>\n      <th>Area</th>\n      <th>Year</th>\n      <th>Food Inflation Rate</th>\n      <th>Raw GDP</th>\n      <th>GDP Growth Rate</th>\n    </tr>\n  </thead>\n  <tbody>\n    <tr>\n      <th>0</th>\n      <td>Albania</td>\n      <td>2012</td>\n      <td>2.404087</td>\n      <td>1.231978e+04</td>\n      <td>-4.430218</td>\n    </tr>\n    <tr>\n      <th>1</th>\n      <td>Albania</td>\n      <td>2013</td>\n      <td>4.214607</td>\n      <td>1.277628e+04</td>\n      <td>3.705432</td>\n    </tr>\n    <tr>\n      <th>2</th>\n      <td>Albania</td>\n      <td>2014</td>\n      <td>2.212385</td>\n      <td>1.322824e+04</td>\n      <td>3.537487</td>\n    </tr>\n    <tr>\n      <th>3</th>\n      <td>Albania</td>\n      <td>2015</td>\n      <td>4.294233</td>\n      <td>1.138692e+04</td>\n      <td>-13.919579</td>\n    </tr>\n    <tr>\n      <th>4</th>\n      <td>Albania</td>\n      <td>2016</td>\n      <td>3.254620</td>\n      <td>1.186136e+04</td>\n      <td>4.166459</td>\n    </tr>\n    <tr>\n      <th>...</th>\n      <td>...</td>\n      <td>...</td>\n      <td>...</td>\n      <td>...</td>\n      <td>...</td>\n    </tr>\n    <tr>\n      <th>487</th>\n      <td>United Kingdom of Great Britain and Northern I...</td>\n      <td>2019</td>\n      <td>1.374278</td>\n      <td>2.851407e+06</td>\n      <td>-0.694212</td>\n    </tr>\n    <tr>\n      <th>488</th>\n      <td>United Kingdom of Great Britain and Northern I...</td>\n      <td>2020</td>\n      <td>0.721408</td>\n      <td>2.697807e+06</td>\n      <td>-5.386835</td>\n    </tr>\n    <tr>\n      <th>489</th>\n      <td>United Kingdom of Great Britain and Northern I...</td>\n      <td>2021</td>\n      <td>0.304925</td>\n      <td>3.141506e+06</td>\n      <td>16.446678</td>\n    </tr>\n    <tr>\n      <th>490</th>\n      <td>United Kingdom of Great Britain and Northern I...</td>\n      <td>2022</td>\n      <td>10.894987</td>\n      <td>3.089073e+06</td>\n      <td>-1.669055</td>\n    </tr>\n    <tr>\n      <th>491</th>\n      <td>United Kingdom of Great Britain and Northern I...</td>\n      <td>2023</td>\n      <td>14.752064</td>\n      <td>3.263528e+06</td>\n      <td>5.647490</td>\n    </tr>\n  </tbody>\n</table>\n<p>492 rows × 5 columns</p>\n</div>"
     },
     "execution_count": 56,
     "metadata": {},
     "output_type": "execute_result"
    }
   ],
   "source": [
    "data"
   ],
   "metadata": {
    "collapsed": false
   }
  },
  {
   "cell_type": "code",
   "execution_count": 57,
   "outputs": [],
   "source": [
    "data = pd.merge(data, dataset_producer_prices, on=['Area', 'Year'], how='inner')"
   ],
   "metadata": {
    "collapsed": false
   }
  },
  {
   "cell_type": "code",
   "execution_count": 58,
   "outputs": [
    {
     "data": {
      "text/plain": "                                                    Area  Year  \\\n0                                                Albania  2012   \n1                                                Albania  2012   \n2                                                Albania  2012   \n3                                                Albania  2012   \n4                                                Albania  2012   \n...                                                  ...   ...   \n18671  United Kingdom of Great Britain and Northern I...  2022   \n18672  United Kingdom of Great Britain and Northern I...  2022   \n18673  United Kingdom of Great Britain and Northern I...  2022   \n18674  United Kingdom of Great Britain and Northern I...  2022   \n18675  United Kingdom of Great Britain and Northern I...  2022   \n\n       Food Inflation Rate       Raw GDP  GDP Growth Rate  \\\n0                 2.404087  1.231978e+04        -4.430218   \n1                 2.404087  1.231978e+04        -4.430218   \n2                 2.404087  1.231978e+04        -4.430218   \n3                 2.404087  1.231978e+04        -4.430218   \n4                 2.404087  1.231978e+04        -4.430218   \n...                    ...           ...              ...   \n18671            10.894987  3.089073e+06        -1.669055   \n18672            10.894987  3.089073e+06        -1.669055   \n18673            10.894987  3.089073e+06        -1.669055   \n18674            10.894987  3.089073e+06        -1.669055   \n18675            10.894987  3.089073e+06        -1.669055   \n\n                                                    Item  Item Price Per Tonne  \n0                                                 Apples                 369.7  \n1                                               Apricots                 489.9  \n2                                                 Barley                 316.1  \n3                                             Beans, dry                1562.2  \n4                                               Cabbages                 203.4  \n...                                                  ...                   ...  \n18671  Shorn wool, greasy, including fleece-washed sh...                 322.9  \n18672                                       Strawberries                4004.6  \n18673                                         Sugar beet                  45.8  \n18674                                           Tomatoes                1565.6  \n18675                                              Wheat                 330.7  \n\n[18676 rows x 7 columns]",
      "text/html": "<div>\n<style scoped>\n    .dataframe tbody tr th:only-of-type {\n        vertical-align: middle;\n    }\n\n    .dataframe tbody tr th {\n        vertical-align: top;\n    }\n\n    .dataframe thead th {\n        text-align: right;\n    }\n</style>\n<table border=\"1\" class=\"dataframe\">\n  <thead>\n    <tr style=\"text-align: right;\">\n      <th></th>\n      <th>Area</th>\n      <th>Year</th>\n      <th>Food Inflation Rate</th>\n      <th>Raw GDP</th>\n      <th>GDP Growth Rate</th>\n      <th>Item</th>\n      <th>Item Price Per Tonne</th>\n    </tr>\n  </thead>\n  <tbody>\n    <tr>\n      <th>0</th>\n      <td>Albania</td>\n      <td>2012</td>\n      <td>2.404087</td>\n      <td>1.231978e+04</td>\n      <td>-4.430218</td>\n      <td>Apples</td>\n      <td>369.7</td>\n    </tr>\n    <tr>\n      <th>1</th>\n      <td>Albania</td>\n      <td>2012</td>\n      <td>2.404087</td>\n      <td>1.231978e+04</td>\n      <td>-4.430218</td>\n      <td>Apricots</td>\n      <td>489.9</td>\n    </tr>\n    <tr>\n      <th>2</th>\n      <td>Albania</td>\n      <td>2012</td>\n      <td>2.404087</td>\n      <td>1.231978e+04</td>\n      <td>-4.430218</td>\n      <td>Barley</td>\n      <td>316.1</td>\n    </tr>\n    <tr>\n      <th>3</th>\n      <td>Albania</td>\n      <td>2012</td>\n      <td>2.404087</td>\n      <td>1.231978e+04</td>\n      <td>-4.430218</td>\n      <td>Beans, dry</td>\n      <td>1562.2</td>\n    </tr>\n    <tr>\n      <th>4</th>\n      <td>Albania</td>\n      <td>2012</td>\n      <td>2.404087</td>\n      <td>1.231978e+04</td>\n      <td>-4.430218</td>\n      <td>Cabbages</td>\n      <td>203.4</td>\n    </tr>\n    <tr>\n      <th>...</th>\n      <td>...</td>\n      <td>...</td>\n      <td>...</td>\n      <td>...</td>\n      <td>...</td>\n      <td>...</td>\n      <td>...</td>\n    </tr>\n    <tr>\n      <th>18671</th>\n      <td>United Kingdom of Great Britain and Northern I...</td>\n      <td>2022</td>\n      <td>10.894987</td>\n      <td>3.089073e+06</td>\n      <td>-1.669055</td>\n      <td>Shorn wool, greasy, including fleece-washed sh...</td>\n      <td>322.9</td>\n    </tr>\n    <tr>\n      <th>18672</th>\n      <td>United Kingdom of Great Britain and Northern I...</td>\n      <td>2022</td>\n      <td>10.894987</td>\n      <td>3.089073e+06</td>\n      <td>-1.669055</td>\n      <td>Strawberries</td>\n      <td>4004.6</td>\n    </tr>\n    <tr>\n      <th>18673</th>\n      <td>United Kingdom of Great Britain and Northern I...</td>\n      <td>2022</td>\n      <td>10.894987</td>\n      <td>3.089073e+06</td>\n      <td>-1.669055</td>\n      <td>Sugar beet</td>\n      <td>45.8</td>\n    </tr>\n    <tr>\n      <th>18674</th>\n      <td>United Kingdom of Great Britain and Northern I...</td>\n      <td>2022</td>\n      <td>10.894987</td>\n      <td>3.089073e+06</td>\n      <td>-1.669055</td>\n      <td>Tomatoes</td>\n      <td>1565.6</td>\n    </tr>\n    <tr>\n      <th>18675</th>\n      <td>United Kingdom of Great Britain and Northern I...</td>\n      <td>2022</td>\n      <td>10.894987</td>\n      <td>3.089073e+06</td>\n      <td>-1.669055</td>\n      <td>Wheat</td>\n      <td>330.7</td>\n    </tr>\n  </tbody>\n</table>\n<p>18676 rows × 7 columns</p>\n</div>"
     },
     "execution_count": 58,
     "metadata": {},
     "output_type": "execute_result"
    }
   ],
   "source": [
    "data"
   ],
   "metadata": {
    "collapsed": false
   }
  },
  {
   "cell_type": "code",
   "execution_count": 59,
   "outputs": [
    {
     "data": {
      "text/plain": "array(['Albania', 'Austria', 'Belgium', 'Bulgaria', 'Croatia', 'Cyprus',\n       'Czechia', 'Denmark', 'Estonia', 'Finland', 'France', 'Germany',\n       'Greece', 'Hungary', 'Iceland', 'Ireland', 'Italy', 'Kosovo*',\n       'Latvia', 'Lithuania', 'Luxembourg', 'Malta', 'Montenegro',\n       'Netherlands', 'North Macedonia', 'Norway', 'Poland', 'Portugal',\n       'Romania', 'Serbia', 'Slovakia', 'Slovenia', 'Spain', 'Sweden',\n       'Switzerland', 'Türkiye', 'United Kingdom', 'United States'],\n      dtype=object)"
     },
     "execution_count": 59,
     "metadata": {},
     "output_type": "execute_result"
    }
   ],
   "source": [
    "dataset_overall_inflation['Area'].unique()"
   ],
   "metadata": {
    "collapsed": false
   }
  },
  {
   "cell_type": "code",
   "execution_count": 62,
   "outputs": [],
   "source": [
    "data = pd.merge(data, dataset_overall_inflation, on=['Area', 'Year'], how='inner')"
   ],
   "metadata": {
    "collapsed": false
   }
  },
  {
   "cell_type": "code",
   "execution_count": 65,
   "outputs": [
    {
     "data": {
      "text/plain": "      Area  Year  Food Inflation Rate       Raw GDP  GDP Growth Rate  \\\n0  Albania  2012             2.404087  12319.779604        -4.430218   \n1  Albania  2012             2.404087  12319.779604        -4.430218   \n2  Albania  2012             2.404087  12319.779604        -4.430218   \n3  Albania  2012             2.404087  12319.779604        -4.430218   \n4  Albania  2012             2.404087  12319.779604        -4.430218   \n\n         Item  Item Price Per Tonne  Overall Inflation Rate  \n0      Apples                 369.7                     3.2  \n1    Apricots                 489.9                     3.2  \n2      Barley                 316.1                     3.2  \n3  Beans, dry                1562.2                     3.2  \n4    Cabbages                 203.4                     3.2  ",
      "text/html": "<div>\n<style scoped>\n    .dataframe tbody tr th:only-of-type {\n        vertical-align: middle;\n    }\n\n    .dataframe tbody tr th {\n        vertical-align: top;\n    }\n\n    .dataframe thead th {\n        text-align: right;\n    }\n</style>\n<table border=\"1\" class=\"dataframe\">\n  <thead>\n    <tr style=\"text-align: right;\">\n      <th></th>\n      <th>Area</th>\n      <th>Year</th>\n      <th>Food Inflation Rate</th>\n      <th>Raw GDP</th>\n      <th>GDP Growth Rate</th>\n      <th>Item</th>\n      <th>Item Price Per Tonne</th>\n      <th>Overall Inflation Rate</th>\n    </tr>\n  </thead>\n  <tbody>\n    <tr>\n      <th>0</th>\n      <td>Albania</td>\n      <td>2012</td>\n      <td>2.404087</td>\n      <td>12319.779604</td>\n      <td>-4.430218</td>\n      <td>Apples</td>\n      <td>369.7</td>\n      <td>3.2</td>\n    </tr>\n    <tr>\n      <th>1</th>\n      <td>Albania</td>\n      <td>2012</td>\n      <td>2.404087</td>\n      <td>12319.779604</td>\n      <td>-4.430218</td>\n      <td>Apricots</td>\n      <td>489.9</td>\n      <td>3.2</td>\n    </tr>\n    <tr>\n      <th>2</th>\n      <td>Albania</td>\n      <td>2012</td>\n      <td>2.404087</td>\n      <td>12319.779604</td>\n      <td>-4.430218</td>\n      <td>Barley</td>\n      <td>316.1</td>\n      <td>3.2</td>\n    </tr>\n    <tr>\n      <th>3</th>\n      <td>Albania</td>\n      <td>2012</td>\n      <td>2.404087</td>\n      <td>12319.779604</td>\n      <td>-4.430218</td>\n      <td>Beans, dry</td>\n      <td>1562.2</td>\n      <td>3.2</td>\n    </tr>\n    <tr>\n      <th>4</th>\n      <td>Albania</td>\n      <td>2012</td>\n      <td>2.404087</td>\n      <td>12319.779604</td>\n      <td>-4.430218</td>\n      <td>Cabbages</td>\n      <td>203.4</td>\n      <td>3.2</td>\n    </tr>\n  </tbody>\n</table>\n</div>"
     },
     "execution_count": 65,
     "metadata": {},
     "output_type": "execute_result"
    }
   ],
   "source": [
    "data.head()"
   ],
   "metadata": {
    "collapsed": false
   }
  },
  {
   "cell_type": "code",
   "execution_count": 64,
   "outputs": [
    {
     "data": {
      "text/plain": "Area                      0\nYear                      0\nFood Inflation Rate       0\nRaw GDP                   0\nGDP Growth Rate           0\nItem                      0\nItem Price Per Tonne      0\nOverall Inflation Rate    0\ndtype: int64"
     },
     "execution_count": 64,
     "metadata": {},
     "output_type": "execute_result"
    }
   ],
   "source": [
    "data.isnull().sum()"
   ],
   "metadata": {
    "collapsed": false
   }
  },
  {
   "cell_type": "code",
   "execution_count": 68,
   "outputs": [],
   "source": [
    "# TODO:\n",
    "# scaling, encoding, model creation and training, displaying results, shap :D"
   ],
   "metadata": {
    "collapsed": false
   }
  }
 ],
 "metadata": {
  "kernelspec": {
   "display_name": "Python 3",
   "language": "python",
   "name": "python3"
  },
  "language_info": {
   "codemirror_mode": {
    "name": "ipython",
    "version": 2
   },
   "file_extension": ".py",
   "mimetype": "text/x-python",
   "name": "python",
   "nbconvert_exporter": "python",
   "pygments_lexer": "ipython2",
   "version": "2.7.6"
  }
 },
 "nbformat": 4,
 "nbformat_minor": 0
}
