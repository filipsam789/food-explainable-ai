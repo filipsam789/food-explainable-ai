{
 "cells": [
  {
   "cell_type": "code",
   "execution_count": 2,
   "metadata": {
    "collapsed": true
   },
   "outputs": [],
   "source": [
    "import pandas as pd"
   ]
  },
  {
   "cell_type": "code",
   "execution_count": 3,
   "outputs": [],
   "source": [
    "dataset_food_inflation_rate = pd.read_csv('./data/food_inflation_rate.csv')"
   ],
   "metadata": {
    "collapsed": false
   }
  },
  {
   "cell_type": "code",
   "execution_count": 4,
   "outputs": [
    {
     "data": {
      "text/plain": "     Domain Code                  Domain  Area Code (M49)  \\\n0             CP  Consumer Price Indices              248   \n1             CP  Consumer Price Indices              248   \n2             CP  Consumer Price Indices              248   \n3             CP  Consumer Price Indices              248   \n4             CP  Consumer Price Indices              248   \n...          ...                     ...              ...   \n6037          CP  Consumer Price Indices              826   \n6038          CP  Consumer Price Indices              826   \n6039          CP  Consumer Price Indices              826   \n6040          CP  Consumer Price Indices              826   \n6041          CP  Consumer Price Indices              826   \n\n                                                   Area  Year Code  Year  \\\n0                                         Åland Islands       2012  2012   \n1                                         Åland Islands       2012  2012   \n2                                         Åland Islands       2012  2012   \n3                                         Åland Islands       2012  2012   \n4                                         Åland Islands       2012  2012   \n...                                                 ...        ...   ...   \n6037  United Kingdom of Great Britain and Northern I...       2023  2023   \n6038  United Kingdom of Great Britain and Northern I...       2023  2023   \n6039  United Kingdom of Great Britain and Northern I...       2023  2023   \n6040  United Kingdom of Great Britain and Northern I...       2023  2023   \n6041  United Kingdom of Great Britain and Northern I...       2023  2023   \n\n      Item Code                  Item  Months Code     Months  Element Code  \\\n0         23014  Food price inflation         7001    January          6121   \n1         23014  Food price inflation         7002   February          6121   \n2         23014  Food price inflation         7003      March          6121   \n3         23014  Food price inflation         7004      April          6121   \n4         23014  Food price inflation         7005        May          6121   \n...         ...                   ...          ...        ...           ...   \n6037      23014  Food price inflation         7008     August          6121   \n6038      23014  Food price inflation         7009  September          6121   \n6039      23014  Food price inflation         7010    October          6121   \n6040      23014  Food price inflation         7011   November          6121   \n6041      23014  Food price inflation         7012   December          6121   \n\n     Element Unit      Value Flag Flag Description  Note  \n0      Value    %   2.607987    E  Estimated value   NaN  \n1      Value    %   3.896104    E  Estimated value   NaN  \n2      Value    %   2.967121    E  Estimated value   NaN  \n3      Value    %   2.149682    E  Estimated value   NaN  \n4      Value    %   3.559871    E  Estimated value   NaN  \n...      ...  ...        ...  ...              ...   ...  \n6037   Value    %  13.609467    E  Estimated value   NaN  \n6038   Value    %  12.207358    E  Estimated value   NaN  \n6039   Value    %  10.163934    E  Estimated value   NaN  \n6040   Value    %   9.238250    E  Estimated value   NaN  \n6041   Value    %   8.054226    E  Estimated value   NaN  \n\n[6042 rows x 17 columns]",
      "text/html": "<div>\n<style scoped>\n    .dataframe tbody tr th:only-of-type {\n        vertical-align: middle;\n    }\n\n    .dataframe tbody tr th {\n        vertical-align: top;\n    }\n\n    .dataframe thead th {\n        text-align: right;\n    }\n</style>\n<table border=\"1\" class=\"dataframe\">\n  <thead>\n    <tr style=\"text-align: right;\">\n      <th></th>\n      <th>Domain Code</th>\n      <th>Domain</th>\n      <th>Area Code (M49)</th>\n      <th>Area</th>\n      <th>Year Code</th>\n      <th>Year</th>\n      <th>Item Code</th>\n      <th>Item</th>\n      <th>Months Code</th>\n      <th>Months</th>\n      <th>Element Code</th>\n      <th>Element</th>\n      <th>Unit</th>\n      <th>Value</th>\n      <th>Flag</th>\n      <th>Flag Description</th>\n      <th>Note</th>\n    </tr>\n  </thead>\n  <tbody>\n    <tr>\n      <th>0</th>\n      <td>CP</td>\n      <td>Consumer Price Indices</td>\n      <td>248</td>\n      <td>Åland Islands</td>\n      <td>2012</td>\n      <td>2012</td>\n      <td>23014</td>\n      <td>Food price inflation</td>\n      <td>7001</td>\n      <td>January</td>\n      <td>6121</td>\n      <td>Value</td>\n      <td>%</td>\n      <td>2.607987</td>\n      <td>E</td>\n      <td>Estimated value</td>\n      <td>NaN</td>\n    </tr>\n    <tr>\n      <th>1</th>\n      <td>CP</td>\n      <td>Consumer Price Indices</td>\n      <td>248</td>\n      <td>Åland Islands</td>\n      <td>2012</td>\n      <td>2012</td>\n      <td>23014</td>\n      <td>Food price inflation</td>\n      <td>7002</td>\n      <td>February</td>\n      <td>6121</td>\n      <td>Value</td>\n      <td>%</td>\n      <td>3.896104</td>\n      <td>E</td>\n      <td>Estimated value</td>\n      <td>NaN</td>\n    </tr>\n    <tr>\n      <th>2</th>\n      <td>CP</td>\n      <td>Consumer Price Indices</td>\n      <td>248</td>\n      <td>Åland Islands</td>\n      <td>2012</td>\n      <td>2012</td>\n      <td>23014</td>\n      <td>Food price inflation</td>\n      <td>7003</td>\n      <td>March</td>\n      <td>6121</td>\n      <td>Value</td>\n      <td>%</td>\n      <td>2.967121</td>\n      <td>E</td>\n      <td>Estimated value</td>\n      <td>NaN</td>\n    </tr>\n    <tr>\n      <th>3</th>\n      <td>CP</td>\n      <td>Consumer Price Indices</td>\n      <td>248</td>\n      <td>Åland Islands</td>\n      <td>2012</td>\n      <td>2012</td>\n      <td>23014</td>\n      <td>Food price inflation</td>\n      <td>7004</td>\n      <td>April</td>\n      <td>6121</td>\n      <td>Value</td>\n      <td>%</td>\n      <td>2.149682</td>\n      <td>E</td>\n      <td>Estimated value</td>\n      <td>NaN</td>\n    </tr>\n    <tr>\n      <th>4</th>\n      <td>CP</td>\n      <td>Consumer Price Indices</td>\n      <td>248</td>\n      <td>Åland Islands</td>\n      <td>2012</td>\n      <td>2012</td>\n      <td>23014</td>\n      <td>Food price inflation</td>\n      <td>7005</td>\n      <td>May</td>\n      <td>6121</td>\n      <td>Value</td>\n      <td>%</td>\n      <td>3.559871</td>\n      <td>E</td>\n      <td>Estimated value</td>\n      <td>NaN</td>\n    </tr>\n    <tr>\n      <th>...</th>\n      <td>...</td>\n      <td>...</td>\n      <td>...</td>\n      <td>...</td>\n      <td>...</td>\n      <td>...</td>\n      <td>...</td>\n      <td>...</td>\n      <td>...</td>\n      <td>...</td>\n      <td>...</td>\n      <td>...</td>\n      <td>...</td>\n      <td>...</td>\n      <td>...</td>\n      <td>...</td>\n      <td>...</td>\n    </tr>\n    <tr>\n      <th>6037</th>\n      <td>CP</td>\n      <td>Consumer Price Indices</td>\n      <td>826</td>\n      <td>United Kingdom of Great Britain and Northern I...</td>\n      <td>2023</td>\n      <td>2023</td>\n      <td>23014</td>\n      <td>Food price inflation</td>\n      <td>7008</td>\n      <td>August</td>\n      <td>6121</td>\n      <td>Value</td>\n      <td>%</td>\n      <td>13.609467</td>\n      <td>E</td>\n      <td>Estimated value</td>\n      <td>NaN</td>\n    </tr>\n    <tr>\n      <th>6038</th>\n      <td>CP</td>\n      <td>Consumer Price Indices</td>\n      <td>826</td>\n      <td>United Kingdom of Great Britain and Northern I...</td>\n      <td>2023</td>\n      <td>2023</td>\n      <td>23014</td>\n      <td>Food price inflation</td>\n      <td>7009</td>\n      <td>September</td>\n      <td>6121</td>\n      <td>Value</td>\n      <td>%</td>\n      <td>12.207358</td>\n      <td>E</td>\n      <td>Estimated value</td>\n      <td>NaN</td>\n    </tr>\n    <tr>\n      <th>6039</th>\n      <td>CP</td>\n      <td>Consumer Price Indices</td>\n      <td>826</td>\n      <td>United Kingdom of Great Britain and Northern I...</td>\n      <td>2023</td>\n      <td>2023</td>\n      <td>23014</td>\n      <td>Food price inflation</td>\n      <td>7010</td>\n      <td>October</td>\n      <td>6121</td>\n      <td>Value</td>\n      <td>%</td>\n      <td>10.163934</td>\n      <td>E</td>\n      <td>Estimated value</td>\n      <td>NaN</td>\n    </tr>\n    <tr>\n      <th>6040</th>\n      <td>CP</td>\n      <td>Consumer Price Indices</td>\n      <td>826</td>\n      <td>United Kingdom of Great Britain and Northern I...</td>\n      <td>2023</td>\n      <td>2023</td>\n      <td>23014</td>\n      <td>Food price inflation</td>\n      <td>7011</td>\n      <td>November</td>\n      <td>6121</td>\n      <td>Value</td>\n      <td>%</td>\n      <td>9.238250</td>\n      <td>E</td>\n      <td>Estimated value</td>\n      <td>NaN</td>\n    </tr>\n    <tr>\n      <th>6041</th>\n      <td>CP</td>\n      <td>Consumer Price Indices</td>\n      <td>826</td>\n      <td>United Kingdom of Great Britain and Northern I...</td>\n      <td>2023</td>\n      <td>2023</td>\n      <td>23014</td>\n      <td>Food price inflation</td>\n      <td>7012</td>\n      <td>December</td>\n      <td>6121</td>\n      <td>Value</td>\n      <td>%</td>\n      <td>8.054226</td>\n      <td>E</td>\n      <td>Estimated value</td>\n      <td>NaN</td>\n    </tr>\n  </tbody>\n</table>\n<p>6042 rows × 17 columns</p>\n</div>"
     },
     "execution_count": 4,
     "metadata": {},
     "output_type": "execute_result"
    }
   ],
   "source": [
    "dataset_food_inflation_rate"
   ],
   "metadata": {
    "collapsed": false
   }
  },
  {
   "cell_type": "code",
   "execution_count": 5,
   "outputs": [],
   "source": [
    "dataset_raw_gdp = pd.read_csv('./data/raw_gdp.csv')"
   ],
   "metadata": {
    "collapsed": false
   }
  },
  {
   "cell_type": "code",
   "execution_count": 6,
   "outputs": [
    {
     "data": {
      "text/plain": "    Domain Code            Domain  Area Code (M49)  \\\n0            MK  Macro Indicators                8   \n1            MK  Macro Indicators                8   \n2            MK  Macro Indicators                8   \n3            MK  Macro Indicators                8   \n4            MK  Macro Indicators                8   \n..          ...               ...              ...   \n510          MK  Macro Indicators              826   \n511          MK  Macro Indicators              826   \n512          MK  Macro Indicators              826   \n513          MK  Macro Indicators              826   \n514          MK  Macro Indicators              826   \n\n                                                  Area  Element Code  \\\n0                                              Albania          6110   \n1                                              Albania          6110   \n2                                              Albania          6110   \n3                                              Albania          6110   \n4                                              Albania          6110   \n..                                                 ...           ...   \n510  United Kingdom of Great Britain and Northern I...          6110   \n511  United Kingdom of Great Britain and Northern I...          6110   \n512  United Kingdom of Great Britain and Northern I...          6110   \n513  United Kingdom of Great Britain and Northern I...          6110   \n514  United Kingdom of Great Britain and Northern I...          6110   \n\n       Element  Item Code                    Item  Year Code  Year  \\\n0    Value US$      22008  Gross Domestic Product       2012  2012   \n1    Value US$      22008  Gross Domestic Product       2013  2013   \n2    Value US$      22008  Gross Domestic Product       2014  2014   \n3    Value US$      22008  Gross Domestic Product       2015  2015   \n4    Value US$      22008  Gross Domestic Product       2016  2016   \n..         ...        ...                     ...        ...   ...   \n510  Value US$      22008  Gross Domestic Product       2019  2019   \n511  Value US$      22008  Gross Domestic Product       2020  2020   \n512  Value US$      22008  Gross Domestic Product       2021  2021   \n513  Value US$      22008  Gross Domestic Product       2022  2022   \n514  Value US$      22008  Gross Domestic Product       2023  2023   \n\n            Unit         Value Flag                         Flag Description  \\\n0    million USD  1.231978e+04    X  Figure from international organizations   \n1    million USD  1.277628e+04    X  Figure from international organizations   \n2    million USD  1.322824e+04    X  Figure from international organizations   \n3    million USD  1.138692e+04    X  Figure from international organizations   \n4    million USD  1.186136e+04    X  Figure from international organizations   \n..           ...           ...  ...                                      ...   \n510  million USD  2.851407e+06    X  Figure from international organizations   \n511  million USD  2.697807e+06    X  Figure from international organizations   \n512  million USD  3.141506e+06    X  Figure from international organizations   \n513  million USD  3.089073e+06    X  Figure from international organizations   \n514  million USD  3.263528e+06    E                          Estimated value   \n\n     Note  \n0     NaN  \n1     NaN  \n2     NaN  \n3     NaN  \n4     NaN  \n..    ...  \n510   NaN  \n511   NaN  \n512   NaN  \n513   NaN  \n514   NaN  \n\n[515 rows x 15 columns]",
      "text/html": "<div>\n<style scoped>\n    .dataframe tbody tr th:only-of-type {\n        vertical-align: middle;\n    }\n\n    .dataframe tbody tr th {\n        vertical-align: top;\n    }\n\n    .dataframe thead th {\n        text-align: right;\n    }\n</style>\n<table border=\"1\" class=\"dataframe\">\n  <thead>\n    <tr style=\"text-align: right;\">\n      <th></th>\n      <th>Domain Code</th>\n      <th>Domain</th>\n      <th>Area Code (M49)</th>\n      <th>Area</th>\n      <th>Element Code</th>\n      <th>Element</th>\n      <th>Item Code</th>\n      <th>Item</th>\n      <th>Year Code</th>\n      <th>Year</th>\n      <th>Unit</th>\n      <th>Value</th>\n      <th>Flag</th>\n      <th>Flag Description</th>\n      <th>Note</th>\n    </tr>\n  </thead>\n  <tbody>\n    <tr>\n      <th>0</th>\n      <td>MK</td>\n      <td>Macro Indicators</td>\n      <td>8</td>\n      <td>Albania</td>\n      <td>6110</td>\n      <td>Value US$</td>\n      <td>22008</td>\n      <td>Gross Domestic Product</td>\n      <td>2012</td>\n      <td>2012</td>\n      <td>million USD</td>\n      <td>1.231978e+04</td>\n      <td>X</td>\n      <td>Figure from international organizations</td>\n      <td>NaN</td>\n    </tr>\n    <tr>\n      <th>1</th>\n      <td>MK</td>\n      <td>Macro Indicators</td>\n      <td>8</td>\n      <td>Albania</td>\n      <td>6110</td>\n      <td>Value US$</td>\n      <td>22008</td>\n      <td>Gross Domestic Product</td>\n      <td>2013</td>\n      <td>2013</td>\n      <td>million USD</td>\n      <td>1.277628e+04</td>\n      <td>X</td>\n      <td>Figure from international organizations</td>\n      <td>NaN</td>\n    </tr>\n    <tr>\n      <th>2</th>\n      <td>MK</td>\n      <td>Macro Indicators</td>\n      <td>8</td>\n      <td>Albania</td>\n      <td>6110</td>\n      <td>Value US$</td>\n      <td>22008</td>\n      <td>Gross Domestic Product</td>\n      <td>2014</td>\n      <td>2014</td>\n      <td>million USD</td>\n      <td>1.322824e+04</td>\n      <td>X</td>\n      <td>Figure from international organizations</td>\n      <td>NaN</td>\n    </tr>\n    <tr>\n      <th>3</th>\n      <td>MK</td>\n      <td>Macro Indicators</td>\n      <td>8</td>\n      <td>Albania</td>\n      <td>6110</td>\n      <td>Value US$</td>\n      <td>22008</td>\n      <td>Gross Domestic Product</td>\n      <td>2015</td>\n      <td>2015</td>\n      <td>million USD</td>\n      <td>1.138692e+04</td>\n      <td>X</td>\n      <td>Figure from international organizations</td>\n      <td>NaN</td>\n    </tr>\n    <tr>\n      <th>4</th>\n      <td>MK</td>\n      <td>Macro Indicators</td>\n      <td>8</td>\n      <td>Albania</td>\n      <td>6110</td>\n      <td>Value US$</td>\n      <td>22008</td>\n      <td>Gross Domestic Product</td>\n      <td>2016</td>\n      <td>2016</td>\n      <td>million USD</td>\n      <td>1.186136e+04</td>\n      <td>X</td>\n      <td>Figure from international organizations</td>\n      <td>NaN</td>\n    </tr>\n    <tr>\n      <th>...</th>\n      <td>...</td>\n      <td>...</td>\n      <td>...</td>\n      <td>...</td>\n      <td>...</td>\n      <td>...</td>\n      <td>...</td>\n      <td>...</td>\n      <td>...</td>\n      <td>...</td>\n      <td>...</td>\n      <td>...</td>\n      <td>...</td>\n      <td>...</td>\n      <td>...</td>\n    </tr>\n    <tr>\n      <th>510</th>\n      <td>MK</td>\n      <td>Macro Indicators</td>\n      <td>826</td>\n      <td>United Kingdom of Great Britain and Northern I...</td>\n      <td>6110</td>\n      <td>Value US$</td>\n      <td>22008</td>\n      <td>Gross Domestic Product</td>\n      <td>2019</td>\n      <td>2019</td>\n      <td>million USD</td>\n      <td>2.851407e+06</td>\n      <td>X</td>\n      <td>Figure from international organizations</td>\n      <td>NaN</td>\n    </tr>\n    <tr>\n      <th>511</th>\n      <td>MK</td>\n      <td>Macro Indicators</td>\n      <td>826</td>\n      <td>United Kingdom of Great Britain and Northern I...</td>\n      <td>6110</td>\n      <td>Value US$</td>\n      <td>22008</td>\n      <td>Gross Domestic Product</td>\n      <td>2020</td>\n      <td>2020</td>\n      <td>million USD</td>\n      <td>2.697807e+06</td>\n      <td>X</td>\n      <td>Figure from international organizations</td>\n      <td>NaN</td>\n    </tr>\n    <tr>\n      <th>512</th>\n      <td>MK</td>\n      <td>Macro Indicators</td>\n      <td>826</td>\n      <td>United Kingdom of Great Britain and Northern I...</td>\n      <td>6110</td>\n      <td>Value US$</td>\n      <td>22008</td>\n      <td>Gross Domestic Product</td>\n      <td>2021</td>\n      <td>2021</td>\n      <td>million USD</td>\n      <td>3.141506e+06</td>\n      <td>X</td>\n      <td>Figure from international organizations</td>\n      <td>NaN</td>\n    </tr>\n    <tr>\n      <th>513</th>\n      <td>MK</td>\n      <td>Macro Indicators</td>\n      <td>826</td>\n      <td>United Kingdom of Great Britain and Northern I...</td>\n      <td>6110</td>\n      <td>Value US$</td>\n      <td>22008</td>\n      <td>Gross Domestic Product</td>\n      <td>2022</td>\n      <td>2022</td>\n      <td>million USD</td>\n      <td>3.089073e+06</td>\n      <td>X</td>\n      <td>Figure from international organizations</td>\n      <td>NaN</td>\n    </tr>\n    <tr>\n      <th>514</th>\n      <td>MK</td>\n      <td>Macro Indicators</td>\n      <td>826</td>\n      <td>United Kingdom of Great Britain and Northern I...</td>\n      <td>6110</td>\n      <td>Value US$</td>\n      <td>22008</td>\n      <td>Gross Domestic Product</td>\n      <td>2023</td>\n      <td>2023</td>\n      <td>million USD</td>\n      <td>3.263528e+06</td>\n      <td>E</td>\n      <td>Estimated value</td>\n      <td>NaN</td>\n    </tr>\n  </tbody>\n</table>\n<p>515 rows × 15 columns</p>\n</div>"
     },
     "execution_count": 6,
     "metadata": {},
     "output_type": "execute_result"
    }
   ],
   "source": [
    "dataset_raw_gdp"
   ],
   "metadata": {
    "collapsed": false
   }
  },
  {
   "cell_type": "code",
   "execution_count": 7,
   "outputs": [],
   "source": [
    "dataset_gdp_growth_rate = pd.read_csv('./data/gdp_growth_rate.csv')"
   ],
   "metadata": {
    "collapsed": false
   }
  },
  {
   "cell_type": "code",
   "execution_count": 8,
   "outputs": [
    {
     "data": {
      "text/plain": "    Domain Code            Domain  Area Code (M49)  \\\n0            MK  Macro Indicators                8   \n1            MK  Macro Indicators                8   \n2            MK  Macro Indicators                8   \n3            MK  Macro Indicators                8   \n4            MK  Macro Indicators                8   \n..          ...               ...              ...   \n510          MK  Macro Indicators              826   \n511          MK  Macro Indicators              826   \n512          MK  Macro Indicators              826   \n513          MK  Macro Indicators              826   \n514          MK  Macro Indicators              826   \n\n                                                  Area  Element Code  \\\n0                                              Albania          6129   \n1                                              Albania          6129   \n2                                              Albania          6129   \n3                                              Albania          6129   \n4                                              Albania          6129   \n..                                                 ...           ...   \n510  United Kingdom of Great Britain and Northern I...          6129   \n511  United Kingdom of Great Britain and Northern I...          6129   \n512  United Kingdom of Great Britain and Northern I...          6129   \n513  United Kingdom of Great Britain and Northern I...          6129   \n514  United Kingdom of Great Britain and Northern I...          6129   \n\n               Element  Item Code                    Item  Year Code  Year  \\\n0    Annual growth US$      22008  Gross Domestic Product       2012  2012   \n1    Annual growth US$      22008  Gross Domestic Product       2013  2013   \n2    Annual growth US$      22008  Gross Domestic Product       2014  2014   \n3    Annual growth US$      22008  Gross Domestic Product       2015  2015   \n4    Annual growth US$      22008  Gross Domestic Product       2016  2016   \n..                 ...        ...                     ...        ...   ...   \n510  Annual growth US$      22008  Gross Domestic Product       2019  2019   \n511  Annual growth US$      22008  Gross Domestic Product       2020  2020   \n512  Annual growth US$      22008  Gross Domestic Product       2021  2021   \n513  Annual growth US$      22008  Gross Domestic Product       2022  2022   \n514  Annual growth US$      22008  Gross Domestic Product       2023  2023   \n\n    Unit      Value Flag                         Flag Description  Note  \n0      %  -4.430218    X  Figure from international organizations   NaN  \n1      %   3.705432    X  Figure from international organizations   NaN  \n2      %   3.537487    X  Figure from international organizations   NaN  \n3      % -13.919579    X  Figure from international organizations   NaN  \n4      %   4.166459    X  Figure from international organizations   NaN  \n..   ...        ...  ...                                      ...   ...  \n510    %  -0.694212    X  Figure from international organizations   NaN  \n511    %  -5.386835    X  Figure from international organizations   NaN  \n512    %  16.446678    X  Figure from international organizations   NaN  \n513    %  -1.669055    X  Figure from international organizations   NaN  \n514    %   5.647490    E                          Estimated value   NaN  \n\n[515 rows x 15 columns]",
      "text/html": "<div>\n<style scoped>\n    .dataframe tbody tr th:only-of-type {\n        vertical-align: middle;\n    }\n\n    .dataframe tbody tr th {\n        vertical-align: top;\n    }\n\n    .dataframe thead th {\n        text-align: right;\n    }\n</style>\n<table border=\"1\" class=\"dataframe\">\n  <thead>\n    <tr style=\"text-align: right;\">\n      <th></th>\n      <th>Domain Code</th>\n      <th>Domain</th>\n      <th>Area Code (M49)</th>\n      <th>Area</th>\n      <th>Element Code</th>\n      <th>Element</th>\n      <th>Item Code</th>\n      <th>Item</th>\n      <th>Year Code</th>\n      <th>Year</th>\n      <th>Unit</th>\n      <th>Value</th>\n      <th>Flag</th>\n      <th>Flag Description</th>\n      <th>Note</th>\n    </tr>\n  </thead>\n  <tbody>\n    <tr>\n      <th>0</th>\n      <td>MK</td>\n      <td>Macro Indicators</td>\n      <td>8</td>\n      <td>Albania</td>\n      <td>6129</td>\n      <td>Annual growth US$</td>\n      <td>22008</td>\n      <td>Gross Domestic Product</td>\n      <td>2012</td>\n      <td>2012</td>\n      <td>%</td>\n      <td>-4.430218</td>\n      <td>X</td>\n      <td>Figure from international organizations</td>\n      <td>NaN</td>\n    </tr>\n    <tr>\n      <th>1</th>\n      <td>MK</td>\n      <td>Macro Indicators</td>\n      <td>8</td>\n      <td>Albania</td>\n      <td>6129</td>\n      <td>Annual growth US$</td>\n      <td>22008</td>\n      <td>Gross Domestic Product</td>\n      <td>2013</td>\n      <td>2013</td>\n      <td>%</td>\n      <td>3.705432</td>\n      <td>X</td>\n      <td>Figure from international organizations</td>\n      <td>NaN</td>\n    </tr>\n    <tr>\n      <th>2</th>\n      <td>MK</td>\n      <td>Macro Indicators</td>\n      <td>8</td>\n      <td>Albania</td>\n      <td>6129</td>\n      <td>Annual growth US$</td>\n      <td>22008</td>\n      <td>Gross Domestic Product</td>\n      <td>2014</td>\n      <td>2014</td>\n      <td>%</td>\n      <td>3.537487</td>\n      <td>X</td>\n      <td>Figure from international organizations</td>\n      <td>NaN</td>\n    </tr>\n    <tr>\n      <th>3</th>\n      <td>MK</td>\n      <td>Macro Indicators</td>\n      <td>8</td>\n      <td>Albania</td>\n      <td>6129</td>\n      <td>Annual growth US$</td>\n      <td>22008</td>\n      <td>Gross Domestic Product</td>\n      <td>2015</td>\n      <td>2015</td>\n      <td>%</td>\n      <td>-13.919579</td>\n      <td>X</td>\n      <td>Figure from international organizations</td>\n      <td>NaN</td>\n    </tr>\n    <tr>\n      <th>4</th>\n      <td>MK</td>\n      <td>Macro Indicators</td>\n      <td>8</td>\n      <td>Albania</td>\n      <td>6129</td>\n      <td>Annual growth US$</td>\n      <td>22008</td>\n      <td>Gross Domestic Product</td>\n      <td>2016</td>\n      <td>2016</td>\n      <td>%</td>\n      <td>4.166459</td>\n      <td>X</td>\n      <td>Figure from international organizations</td>\n      <td>NaN</td>\n    </tr>\n    <tr>\n      <th>...</th>\n      <td>...</td>\n      <td>...</td>\n      <td>...</td>\n      <td>...</td>\n      <td>...</td>\n      <td>...</td>\n      <td>...</td>\n      <td>...</td>\n      <td>...</td>\n      <td>...</td>\n      <td>...</td>\n      <td>...</td>\n      <td>...</td>\n      <td>...</td>\n      <td>...</td>\n    </tr>\n    <tr>\n      <th>510</th>\n      <td>MK</td>\n      <td>Macro Indicators</td>\n      <td>826</td>\n      <td>United Kingdom of Great Britain and Northern I...</td>\n      <td>6129</td>\n      <td>Annual growth US$</td>\n      <td>22008</td>\n      <td>Gross Domestic Product</td>\n      <td>2019</td>\n      <td>2019</td>\n      <td>%</td>\n      <td>-0.694212</td>\n      <td>X</td>\n      <td>Figure from international organizations</td>\n      <td>NaN</td>\n    </tr>\n    <tr>\n      <th>511</th>\n      <td>MK</td>\n      <td>Macro Indicators</td>\n      <td>826</td>\n      <td>United Kingdom of Great Britain and Northern I...</td>\n      <td>6129</td>\n      <td>Annual growth US$</td>\n      <td>22008</td>\n      <td>Gross Domestic Product</td>\n      <td>2020</td>\n      <td>2020</td>\n      <td>%</td>\n      <td>-5.386835</td>\n      <td>X</td>\n      <td>Figure from international organizations</td>\n      <td>NaN</td>\n    </tr>\n    <tr>\n      <th>512</th>\n      <td>MK</td>\n      <td>Macro Indicators</td>\n      <td>826</td>\n      <td>United Kingdom of Great Britain and Northern I...</td>\n      <td>6129</td>\n      <td>Annual growth US$</td>\n      <td>22008</td>\n      <td>Gross Domestic Product</td>\n      <td>2021</td>\n      <td>2021</td>\n      <td>%</td>\n      <td>16.446678</td>\n      <td>X</td>\n      <td>Figure from international organizations</td>\n      <td>NaN</td>\n    </tr>\n    <tr>\n      <th>513</th>\n      <td>MK</td>\n      <td>Macro Indicators</td>\n      <td>826</td>\n      <td>United Kingdom of Great Britain and Northern I...</td>\n      <td>6129</td>\n      <td>Annual growth US$</td>\n      <td>22008</td>\n      <td>Gross Domestic Product</td>\n      <td>2022</td>\n      <td>2022</td>\n      <td>%</td>\n      <td>-1.669055</td>\n      <td>X</td>\n      <td>Figure from international organizations</td>\n      <td>NaN</td>\n    </tr>\n    <tr>\n      <th>514</th>\n      <td>MK</td>\n      <td>Macro Indicators</td>\n      <td>826</td>\n      <td>United Kingdom of Great Britain and Northern I...</td>\n      <td>6129</td>\n      <td>Annual growth US$</td>\n      <td>22008</td>\n      <td>Gross Domestic Product</td>\n      <td>2023</td>\n      <td>2023</td>\n      <td>%</td>\n      <td>5.647490</td>\n      <td>E</td>\n      <td>Estimated value</td>\n      <td>NaN</td>\n    </tr>\n  </tbody>\n</table>\n<p>515 rows × 15 columns</p>\n</div>"
     },
     "execution_count": 8,
     "metadata": {},
     "output_type": "execute_result"
    }
   ],
   "source": [
    "dataset_gdp_growth_rate"
   ],
   "metadata": {
    "collapsed": false
   }
  },
  {
   "cell_type": "code",
   "execution_count": 9,
   "outputs": [],
   "source": [
    "dataset_producer_prices = pd.read_csv('./data/producer_prices.csv')"
   ],
   "metadata": {
    "collapsed": false
   }
  },
  {
   "cell_type": "code",
   "execution_count": 10,
   "outputs": [
    {
     "data": {
      "text/plain": "      Domain Code           Domain  Area Code (M49)  \\\n0              PP  Producer Prices                8   \n1              PP  Producer Prices                8   \n2              PP  Producer Prices                8   \n3              PP  Producer Prices                8   \n4              PP  Producer Prices                8   \n...           ...              ...              ...   \n18671          PP  Producer Prices              826   \n18672          PP  Producer Prices              826   \n18673          PP  Producer Prices              826   \n18674          PP  Producer Prices              826   \n18675          PP  Producer Prices              826   \n\n                                                    Area  Element Code  \\\n0                                                Albania          5532   \n1                                                Albania          5532   \n2                                                Albania          5532   \n3                                                Albania          5532   \n4                                                Albania          5532   \n...                                                  ...           ...   \n18671  United Kingdom of Great Britain and Northern I...          5532   \n18672  United Kingdom of Great Britain and Northern I...          5532   \n18673  United Kingdom of Great Britain and Northern I...          5532   \n18674  United Kingdom of Great Britain and Northern I...          5532   \n18675  United Kingdom of Great Britain and Northern I...          5532   \n\n                          Element Item Code (CPC)    Item  Year Code  Year  \\\n0      Producer Price (USD/tonne)           01341  Apples       2012  2012   \n1      Producer Price (USD/tonne)           01341  Apples       2013  2013   \n2      Producer Price (USD/tonne)           01341  Apples       2014  2014   \n3      Producer Price (USD/tonne)           01341  Apples       2015  2015   \n4      Producer Price (USD/tonne)           01341  Apples       2016  2016   \n...                           ...             ...     ...        ...   ...   \n18671  Producer Price (USD/tonne)            0111   Wheat       2018  2018   \n18672  Producer Price (USD/tonne)            0111   Wheat       2019  2019   \n18673  Producer Price (USD/tonne)            0111   Wheat       2020  2020   \n18674  Producer Price (USD/tonne)            0111   Wheat       2021  2021   \n18675  Producer Price (USD/tonne)            0111   Wheat       2022  2022   \n\n       Months Code        Months Unit  Value Flag Flag Description  \n0             7021  Annual value  USD  369.7    A  Official figure  \n1             7021  Annual value  USD  492.1    A  Official figure  \n2             7021  Annual value  USD  474.8    A  Official figure  \n3             7021  Annual value  USD  389.0    A  Official figure  \n4             7021  Annual value  USD  381.3    A  Official figure  \n...            ...           ...  ...    ...  ...              ...  \n18671         7021  Annual value  USD  217.0    A  Official figure  \n18672         7021  Annual value  USD  188.7    A  Official figure  \n18673         7021  Annual value  USD  212.5    A  Official figure  \n18674         7021  Annual value  USD  275.7    A  Official figure  \n18675         7021  Annual value  USD  330.7    A  Official figure  \n\n[18676 rows x 16 columns]",
      "text/html": "<div>\n<style scoped>\n    .dataframe tbody tr th:only-of-type {\n        vertical-align: middle;\n    }\n\n    .dataframe tbody tr th {\n        vertical-align: top;\n    }\n\n    .dataframe thead th {\n        text-align: right;\n    }\n</style>\n<table border=\"1\" class=\"dataframe\">\n  <thead>\n    <tr style=\"text-align: right;\">\n      <th></th>\n      <th>Domain Code</th>\n      <th>Domain</th>\n      <th>Area Code (M49)</th>\n      <th>Area</th>\n      <th>Element Code</th>\n      <th>Element</th>\n      <th>Item Code (CPC)</th>\n      <th>Item</th>\n      <th>Year Code</th>\n      <th>Year</th>\n      <th>Months Code</th>\n      <th>Months</th>\n      <th>Unit</th>\n      <th>Value</th>\n      <th>Flag</th>\n      <th>Flag Description</th>\n    </tr>\n  </thead>\n  <tbody>\n    <tr>\n      <th>0</th>\n      <td>PP</td>\n      <td>Producer Prices</td>\n      <td>8</td>\n      <td>Albania</td>\n      <td>5532</td>\n      <td>Producer Price (USD/tonne)</td>\n      <td>01341</td>\n      <td>Apples</td>\n      <td>2012</td>\n      <td>2012</td>\n      <td>7021</td>\n      <td>Annual value</td>\n      <td>USD</td>\n      <td>369.7</td>\n      <td>A</td>\n      <td>Official figure</td>\n    </tr>\n    <tr>\n      <th>1</th>\n      <td>PP</td>\n      <td>Producer Prices</td>\n      <td>8</td>\n      <td>Albania</td>\n      <td>5532</td>\n      <td>Producer Price (USD/tonne)</td>\n      <td>01341</td>\n      <td>Apples</td>\n      <td>2013</td>\n      <td>2013</td>\n      <td>7021</td>\n      <td>Annual value</td>\n      <td>USD</td>\n      <td>492.1</td>\n      <td>A</td>\n      <td>Official figure</td>\n    </tr>\n    <tr>\n      <th>2</th>\n      <td>PP</td>\n      <td>Producer Prices</td>\n      <td>8</td>\n      <td>Albania</td>\n      <td>5532</td>\n      <td>Producer Price (USD/tonne)</td>\n      <td>01341</td>\n      <td>Apples</td>\n      <td>2014</td>\n      <td>2014</td>\n      <td>7021</td>\n      <td>Annual value</td>\n      <td>USD</td>\n      <td>474.8</td>\n      <td>A</td>\n      <td>Official figure</td>\n    </tr>\n    <tr>\n      <th>3</th>\n      <td>PP</td>\n      <td>Producer Prices</td>\n      <td>8</td>\n      <td>Albania</td>\n      <td>5532</td>\n      <td>Producer Price (USD/tonne)</td>\n      <td>01341</td>\n      <td>Apples</td>\n      <td>2015</td>\n      <td>2015</td>\n      <td>7021</td>\n      <td>Annual value</td>\n      <td>USD</td>\n      <td>389.0</td>\n      <td>A</td>\n      <td>Official figure</td>\n    </tr>\n    <tr>\n      <th>4</th>\n      <td>PP</td>\n      <td>Producer Prices</td>\n      <td>8</td>\n      <td>Albania</td>\n      <td>5532</td>\n      <td>Producer Price (USD/tonne)</td>\n      <td>01341</td>\n      <td>Apples</td>\n      <td>2016</td>\n      <td>2016</td>\n      <td>7021</td>\n      <td>Annual value</td>\n      <td>USD</td>\n      <td>381.3</td>\n      <td>A</td>\n      <td>Official figure</td>\n    </tr>\n    <tr>\n      <th>...</th>\n      <td>...</td>\n      <td>...</td>\n      <td>...</td>\n      <td>...</td>\n      <td>...</td>\n      <td>...</td>\n      <td>...</td>\n      <td>...</td>\n      <td>...</td>\n      <td>...</td>\n      <td>...</td>\n      <td>...</td>\n      <td>...</td>\n      <td>...</td>\n      <td>...</td>\n      <td>...</td>\n    </tr>\n    <tr>\n      <th>18671</th>\n      <td>PP</td>\n      <td>Producer Prices</td>\n      <td>826</td>\n      <td>United Kingdom of Great Britain and Northern I...</td>\n      <td>5532</td>\n      <td>Producer Price (USD/tonne)</td>\n      <td>0111</td>\n      <td>Wheat</td>\n      <td>2018</td>\n      <td>2018</td>\n      <td>7021</td>\n      <td>Annual value</td>\n      <td>USD</td>\n      <td>217.0</td>\n      <td>A</td>\n      <td>Official figure</td>\n    </tr>\n    <tr>\n      <th>18672</th>\n      <td>PP</td>\n      <td>Producer Prices</td>\n      <td>826</td>\n      <td>United Kingdom of Great Britain and Northern I...</td>\n      <td>5532</td>\n      <td>Producer Price (USD/tonne)</td>\n      <td>0111</td>\n      <td>Wheat</td>\n      <td>2019</td>\n      <td>2019</td>\n      <td>7021</td>\n      <td>Annual value</td>\n      <td>USD</td>\n      <td>188.7</td>\n      <td>A</td>\n      <td>Official figure</td>\n    </tr>\n    <tr>\n      <th>18673</th>\n      <td>PP</td>\n      <td>Producer Prices</td>\n      <td>826</td>\n      <td>United Kingdom of Great Britain and Northern I...</td>\n      <td>5532</td>\n      <td>Producer Price (USD/tonne)</td>\n      <td>0111</td>\n      <td>Wheat</td>\n      <td>2020</td>\n      <td>2020</td>\n      <td>7021</td>\n      <td>Annual value</td>\n      <td>USD</td>\n      <td>212.5</td>\n      <td>A</td>\n      <td>Official figure</td>\n    </tr>\n    <tr>\n      <th>18674</th>\n      <td>PP</td>\n      <td>Producer Prices</td>\n      <td>826</td>\n      <td>United Kingdom of Great Britain and Northern I...</td>\n      <td>5532</td>\n      <td>Producer Price (USD/tonne)</td>\n      <td>0111</td>\n      <td>Wheat</td>\n      <td>2021</td>\n      <td>2021</td>\n      <td>7021</td>\n      <td>Annual value</td>\n      <td>USD</td>\n      <td>275.7</td>\n      <td>A</td>\n      <td>Official figure</td>\n    </tr>\n    <tr>\n      <th>18675</th>\n      <td>PP</td>\n      <td>Producer Prices</td>\n      <td>826</td>\n      <td>United Kingdom of Great Britain and Northern I...</td>\n      <td>5532</td>\n      <td>Producer Price (USD/tonne)</td>\n      <td>0111</td>\n      <td>Wheat</td>\n      <td>2022</td>\n      <td>2022</td>\n      <td>7021</td>\n      <td>Annual value</td>\n      <td>USD</td>\n      <td>330.7</td>\n      <td>A</td>\n      <td>Official figure</td>\n    </tr>\n  </tbody>\n</table>\n<p>18676 rows × 16 columns</p>\n</div>"
     },
     "execution_count": 10,
     "metadata": {},
     "output_type": "execute_result"
    }
   ],
   "source": [
    "dataset_producer_prices"
   ],
   "metadata": {
    "collapsed": false
   }
  },
  {
   "cell_type": "code",
   "execution_count": 12,
   "outputs": [],
   "source": [
    "dataset_overall_inflation = pd.read_excel('./data/overall_inflation.xlsx')"
   ],
   "metadata": {
    "collapsed": false
   }
  },
  {
   "cell_type": "code",
   "execution_count": 13,
   "outputs": [
    {
     "data": {
      "text/plain": "['Unnamed: 2',\n 'Unnamed: 4',\n 'Unnamed: 6',\n 'Unnamed: 8',\n 'Unnamed: 10',\n 'Unnamed: 12',\n 'Unnamed: 14',\n 'Unnamed: 16',\n 'Unnamed: 18',\n 'Unnamed: 20',\n 'Unnamed: 22',\n 'Unnamed: 24']"
     },
     "execution_count": 13,
     "metadata": {},
     "output_type": "execute_result"
    }
   ],
   "source": [
    "columns_to_drop = [f'Unnamed: {i}' for i in range(2, 25) if i % 2 == 0]\n",
    "columns_to_drop"
   ],
   "metadata": {
    "collapsed": false
   }
  },
  {
   "cell_type": "code",
   "execution_count": 14,
   "outputs": [],
   "source": [
    "dataset_overall_inflation = dataset_overall_inflation[12:51]"
   ],
   "metadata": {
    "collapsed": false
   }
  },
  {
   "cell_type": "code",
   "execution_count": 15,
   "outputs": [],
   "source": [
    "dataset_overall_inflation = dataset_overall_inflation.drop(columns=columns_to_drop)"
   ],
   "metadata": {
    "collapsed": false
   }
  },
  {
   "cell_type": "code",
   "execution_count": 16,
   "outputs": [],
   "source": [
    "columns_to_stay = [f'Unnamed: {i}' for i in range(1, 25) if i % 2 == 1]"
   ],
   "metadata": {
    "collapsed": false
   }
  },
  {
   "cell_type": "code",
   "execution_count": 17,
   "outputs": [],
   "source": [
    "dict_rename_columns = {}"
   ],
   "metadata": {
    "collapsed": false
   }
  },
  {
   "cell_type": "code",
   "execution_count": 18,
   "outputs": [],
   "source": [
    "for prev_name, year in zip(columns_to_stay, range(2012, 2024)):\n",
    "    dict_rename_columns[prev_name] = year"
   ],
   "metadata": {
    "collapsed": false
   }
  },
  {
   "cell_type": "code",
   "execution_count": 19,
   "outputs": [
    {
     "data": {
      "text/plain": "{'Unnamed: 1': 2012,\n 'Unnamed: 3': 2013,\n 'Unnamed: 5': 2014,\n 'Unnamed: 7': 2015,\n 'Unnamed: 9': 2016,\n 'Unnamed: 11': 2017,\n 'Unnamed: 13': 2018,\n 'Unnamed: 15': 2019,\n 'Unnamed: 17': 2020,\n 'Unnamed: 19': 2021,\n 'Unnamed: 21': 2022,\n 'Unnamed: 23': 2023}"
     },
     "execution_count": 19,
     "metadata": {},
     "output_type": "execute_result"
    }
   ],
   "source": [
    "dict_rename_columns"
   ],
   "metadata": {
    "collapsed": false
   }
  },
  {
   "cell_type": "code",
   "execution_count": 20,
   "outputs": [],
   "source": [
    "dict_rename_columns['Data extracted on 22/07/2024 23:21:37 from [ESTAT]'] = 'Area'"
   ],
   "metadata": {
    "collapsed": false
   }
  },
  {
   "cell_type": "code",
   "execution_count": 21,
   "outputs": [],
   "source": [
    "dataset_overall_inflation = dataset_overall_inflation.rename(columns=dict_rename_columns)"
   ],
   "metadata": {
    "collapsed": false
   }
  },
  {
   "cell_type": "code",
   "execution_count": 22,
   "outputs": [
    {
     "data": {
      "text/plain": "               Area 2012 2013 2014 2015 2016  2017  2018  2019  2020  2021  \\\n12          Belgium  2.6  1.2  0.5  0.6  1.8   2.2   2.3   1.2   0.4   3.2   \n13         Bulgaria  2.4  0.4 -1.6 -1.1 -1.3   1.2   2.6   2.5   1.2   2.8   \n14          Czechia  3.5  1.4  0.4  0.3  0.6   2.4     2   2.6   3.3   3.3   \n15          Denmark  2.4  0.5  0.4  0.2    0   1.1   0.7   0.7   0.3   1.9   \n16          Germany  2.2  1.6  0.8  0.7  0.4   1.7   1.9   1.4   0.4   3.2   \n17          Estonia  4.2  3.2  0.5  0.1  0.8   3.7   3.4   2.3  -0.6   4.5   \n18          Ireland  1.9  0.5  0.3    0 -0.2   0.3   0.7   0.9  -0.5   2.4   \n19           Greece    1 -0.9 -1.4 -1.1    0   1.1   0.8   0.5  -1.3   0.6   \n20            Spain  2.4  1.5 -0.2 -0.6 -0.3     2   1.7   0.8  -0.3     3   \n21           France  2.2    1  0.6  0.1  0.3   1.2   2.1   1.3   0.5   2.1   \n22          Croatia  3.4  2.3  0.2 -0.3 -0.6   1.3   1.6   0.8     0   2.7   \n23            Italy  3.3  1.2  0.2  0.1 -0.1   1.3   1.2   0.6  -0.1   1.9   \n24           Cyprus  3.1  0.4 -0.3 -1.5 -1.2   0.7   0.8   0.5  -1.1   2.3   \n25           Latvia  2.3    0  0.7  0.2  0.1   2.9   2.6   2.7   0.1   3.2   \n26        Lithuania  3.2  1.2  0.2 -0.7  0.7   3.7   2.5   2.2   1.1   4.6   \n27       Luxembourg  2.9  1.7  0.7  0.1    0   2.1     2   1.6     0   3.5   \n28          Hungary  5.7  1.7    0  0.1  0.4   2.4   2.9   3.4   3.4   5.2   \n29            Malta  3.2    1  0.8  1.2  0.9   1.3   1.7   1.5   0.8   0.7   \n30      Netherlands  2.8  2.6  0.3  0.2  0.1   1.3   1.6   2.7   1.1   2.8   \n31          Austria  2.6  2.1  1.5  0.8    1   2.2   2.1   1.5   1.4   2.8   \n32           Poland  3.7  0.8  0.1 -0.7 -0.2   1.6   1.2   2.1   3.7   5.2   \n33         Portugal  2.8  0.4 -0.2  0.5  0.6   1.6   1.2   0.3  -0.1   0.9   \n34          Romania  3.4  3.2  1.4 -0.4 -1.1   1.1   4.1   3.9   2.3   4.1   \n35         Slovenia  2.8  1.9  0.4 -0.8 -0.2   1.6   1.9   1.7  -0.3     2   \n36         Slovakia  3.7  1.5 -0.1 -0.3 -0.5   1.4   2.5   2.8     2   2.8   \n37          Finland  3.2  2.2  1.2 -0.2  0.4   0.8   1.2   1.1   0.4   2.1   \n38           Sweden  0.9  0.4  0.2  0.7  1.1   1.9     2   1.7   0.7   2.7   \n39          Iceland    6  4.1    1  0.3  0.8  -1.7   0.7     2   1.2   3.7   \n40    Liechtenstein    :    :    :    :    :     :     :     :     :     :   \n41           Norway  0.4    2  1.9    2  3.9   1.9     3   2.3   1.2   3.9   \n42      Switzerland -0.7  0.1    0 -0.8 -0.5   0.6   0.9   0.4  -0.8   0.5   \n43   United Kingdom  2.8  2.6  1.5    0  0.7   2.7   2.5   1.8     :     :   \n44       Montenegro    :    :    :    : -0.1   2.7   2.6   0.5  -0.5   2.5   \n45  North Macedonia  1.8  2.7    0  0.1  0.2   2.1   2.3   0.7   1.2   3.4   \n46          Albania    :    :    :    :    :   3.2   1.8   1.7   2.2   2.3   \n47           Serbia  7.4  7.7  2.3  1.5  1.3   3.3     2   1.9   1.8     4   \n48          Türkiye    9  7.5  8.9  7.7  7.7  11.1  16.3  15.2  12.3  19.6   \n49          Kosovo*    :    :    :    :    :   1.5   1.1   2.7   0.2   3.4   \n50    United States  2.1  1.2  1.3 -0.8  0.6   1.8   2.2   1.4   0.8   5.3   \n\n    2022  2023  \n12  10.3   2.3  \n13    13   8.6  \n14  14.8    12  \n15   8.5   3.4  \n16   8.7     6  \n17  19.4   9.1  \n18   8.1   5.2  \n19   9.3   4.2  \n20   8.3   3.4  \n21   5.9   5.7  \n22  10.7   8.4  \n23   8.7   5.9  \n24   8.1   3.9  \n25  17.2   9.1  \n26  18.9   8.7  \n27   8.2   2.9  \n28  15.3    17  \n29   6.1   5.6  \n30  11.6   4.1  \n31   8.6   7.7  \n32  13.2  10.9  \n33   8.1   5.3  \n34    12   9.7  \n35   9.3   7.2  \n36  12.1    11  \n37   7.2   4.3  \n38   8.1   5.9  \n39   5.7     8  \n40     :     :  \n41   6.2   5.8  \n42   2.7   2.3  \n43     :     :  \n44  11.9   8.7  \n45    14     9  \n46   6.6   5.3  \n47  11.7  12.1  \n48  72.3    54  \n49  11.6   4.9  \n50   8.7     3  ",
      "text/html": "<div>\n<style scoped>\n    .dataframe tbody tr th:only-of-type {\n        vertical-align: middle;\n    }\n\n    .dataframe tbody tr th {\n        vertical-align: top;\n    }\n\n    .dataframe thead th {\n        text-align: right;\n    }\n</style>\n<table border=\"1\" class=\"dataframe\">\n  <thead>\n    <tr style=\"text-align: right;\">\n      <th></th>\n      <th>Area</th>\n      <th>2012</th>\n      <th>2013</th>\n      <th>2014</th>\n      <th>2015</th>\n      <th>2016</th>\n      <th>2017</th>\n      <th>2018</th>\n      <th>2019</th>\n      <th>2020</th>\n      <th>2021</th>\n      <th>2022</th>\n      <th>2023</th>\n    </tr>\n  </thead>\n  <tbody>\n    <tr>\n      <th>12</th>\n      <td>Belgium</td>\n      <td>2.6</td>\n      <td>1.2</td>\n      <td>0.5</td>\n      <td>0.6</td>\n      <td>1.8</td>\n      <td>2.2</td>\n      <td>2.3</td>\n      <td>1.2</td>\n      <td>0.4</td>\n      <td>3.2</td>\n      <td>10.3</td>\n      <td>2.3</td>\n    </tr>\n    <tr>\n      <th>13</th>\n      <td>Bulgaria</td>\n      <td>2.4</td>\n      <td>0.4</td>\n      <td>-1.6</td>\n      <td>-1.1</td>\n      <td>-1.3</td>\n      <td>1.2</td>\n      <td>2.6</td>\n      <td>2.5</td>\n      <td>1.2</td>\n      <td>2.8</td>\n      <td>13</td>\n      <td>8.6</td>\n    </tr>\n    <tr>\n      <th>14</th>\n      <td>Czechia</td>\n      <td>3.5</td>\n      <td>1.4</td>\n      <td>0.4</td>\n      <td>0.3</td>\n      <td>0.6</td>\n      <td>2.4</td>\n      <td>2</td>\n      <td>2.6</td>\n      <td>3.3</td>\n      <td>3.3</td>\n      <td>14.8</td>\n      <td>12</td>\n    </tr>\n    <tr>\n      <th>15</th>\n      <td>Denmark</td>\n      <td>2.4</td>\n      <td>0.5</td>\n      <td>0.4</td>\n      <td>0.2</td>\n      <td>0</td>\n      <td>1.1</td>\n      <td>0.7</td>\n      <td>0.7</td>\n      <td>0.3</td>\n      <td>1.9</td>\n      <td>8.5</td>\n      <td>3.4</td>\n    </tr>\n    <tr>\n      <th>16</th>\n      <td>Germany</td>\n      <td>2.2</td>\n      <td>1.6</td>\n      <td>0.8</td>\n      <td>0.7</td>\n      <td>0.4</td>\n      <td>1.7</td>\n      <td>1.9</td>\n      <td>1.4</td>\n      <td>0.4</td>\n      <td>3.2</td>\n      <td>8.7</td>\n      <td>6</td>\n    </tr>\n    <tr>\n      <th>17</th>\n      <td>Estonia</td>\n      <td>4.2</td>\n      <td>3.2</td>\n      <td>0.5</td>\n      <td>0.1</td>\n      <td>0.8</td>\n      <td>3.7</td>\n      <td>3.4</td>\n      <td>2.3</td>\n      <td>-0.6</td>\n      <td>4.5</td>\n      <td>19.4</td>\n      <td>9.1</td>\n    </tr>\n    <tr>\n      <th>18</th>\n      <td>Ireland</td>\n      <td>1.9</td>\n      <td>0.5</td>\n      <td>0.3</td>\n      <td>0</td>\n      <td>-0.2</td>\n      <td>0.3</td>\n      <td>0.7</td>\n      <td>0.9</td>\n      <td>-0.5</td>\n      <td>2.4</td>\n      <td>8.1</td>\n      <td>5.2</td>\n    </tr>\n    <tr>\n      <th>19</th>\n      <td>Greece</td>\n      <td>1</td>\n      <td>-0.9</td>\n      <td>-1.4</td>\n      <td>-1.1</td>\n      <td>0</td>\n      <td>1.1</td>\n      <td>0.8</td>\n      <td>0.5</td>\n      <td>-1.3</td>\n      <td>0.6</td>\n      <td>9.3</td>\n      <td>4.2</td>\n    </tr>\n    <tr>\n      <th>20</th>\n      <td>Spain</td>\n      <td>2.4</td>\n      <td>1.5</td>\n      <td>-0.2</td>\n      <td>-0.6</td>\n      <td>-0.3</td>\n      <td>2</td>\n      <td>1.7</td>\n      <td>0.8</td>\n      <td>-0.3</td>\n      <td>3</td>\n      <td>8.3</td>\n      <td>3.4</td>\n    </tr>\n    <tr>\n      <th>21</th>\n      <td>France</td>\n      <td>2.2</td>\n      <td>1</td>\n      <td>0.6</td>\n      <td>0.1</td>\n      <td>0.3</td>\n      <td>1.2</td>\n      <td>2.1</td>\n      <td>1.3</td>\n      <td>0.5</td>\n      <td>2.1</td>\n      <td>5.9</td>\n      <td>5.7</td>\n    </tr>\n    <tr>\n      <th>22</th>\n      <td>Croatia</td>\n      <td>3.4</td>\n      <td>2.3</td>\n      <td>0.2</td>\n      <td>-0.3</td>\n      <td>-0.6</td>\n      <td>1.3</td>\n      <td>1.6</td>\n      <td>0.8</td>\n      <td>0</td>\n      <td>2.7</td>\n      <td>10.7</td>\n      <td>8.4</td>\n    </tr>\n    <tr>\n      <th>23</th>\n      <td>Italy</td>\n      <td>3.3</td>\n      <td>1.2</td>\n      <td>0.2</td>\n      <td>0.1</td>\n      <td>-0.1</td>\n      <td>1.3</td>\n      <td>1.2</td>\n      <td>0.6</td>\n      <td>-0.1</td>\n      <td>1.9</td>\n      <td>8.7</td>\n      <td>5.9</td>\n    </tr>\n    <tr>\n      <th>24</th>\n      <td>Cyprus</td>\n      <td>3.1</td>\n      <td>0.4</td>\n      <td>-0.3</td>\n      <td>-1.5</td>\n      <td>-1.2</td>\n      <td>0.7</td>\n      <td>0.8</td>\n      <td>0.5</td>\n      <td>-1.1</td>\n      <td>2.3</td>\n      <td>8.1</td>\n      <td>3.9</td>\n    </tr>\n    <tr>\n      <th>25</th>\n      <td>Latvia</td>\n      <td>2.3</td>\n      <td>0</td>\n      <td>0.7</td>\n      <td>0.2</td>\n      <td>0.1</td>\n      <td>2.9</td>\n      <td>2.6</td>\n      <td>2.7</td>\n      <td>0.1</td>\n      <td>3.2</td>\n      <td>17.2</td>\n      <td>9.1</td>\n    </tr>\n    <tr>\n      <th>26</th>\n      <td>Lithuania</td>\n      <td>3.2</td>\n      <td>1.2</td>\n      <td>0.2</td>\n      <td>-0.7</td>\n      <td>0.7</td>\n      <td>3.7</td>\n      <td>2.5</td>\n      <td>2.2</td>\n      <td>1.1</td>\n      <td>4.6</td>\n      <td>18.9</td>\n      <td>8.7</td>\n    </tr>\n    <tr>\n      <th>27</th>\n      <td>Luxembourg</td>\n      <td>2.9</td>\n      <td>1.7</td>\n      <td>0.7</td>\n      <td>0.1</td>\n      <td>0</td>\n      <td>2.1</td>\n      <td>2</td>\n      <td>1.6</td>\n      <td>0</td>\n      <td>3.5</td>\n      <td>8.2</td>\n      <td>2.9</td>\n    </tr>\n    <tr>\n      <th>28</th>\n      <td>Hungary</td>\n      <td>5.7</td>\n      <td>1.7</td>\n      <td>0</td>\n      <td>0.1</td>\n      <td>0.4</td>\n      <td>2.4</td>\n      <td>2.9</td>\n      <td>3.4</td>\n      <td>3.4</td>\n      <td>5.2</td>\n      <td>15.3</td>\n      <td>17</td>\n    </tr>\n    <tr>\n      <th>29</th>\n      <td>Malta</td>\n      <td>3.2</td>\n      <td>1</td>\n      <td>0.8</td>\n      <td>1.2</td>\n      <td>0.9</td>\n      <td>1.3</td>\n      <td>1.7</td>\n      <td>1.5</td>\n      <td>0.8</td>\n      <td>0.7</td>\n      <td>6.1</td>\n      <td>5.6</td>\n    </tr>\n    <tr>\n      <th>30</th>\n      <td>Netherlands</td>\n      <td>2.8</td>\n      <td>2.6</td>\n      <td>0.3</td>\n      <td>0.2</td>\n      <td>0.1</td>\n      <td>1.3</td>\n      <td>1.6</td>\n      <td>2.7</td>\n      <td>1.1</td>\n      <td>2.8</td>\n      <td>11.6</td>\n      <td>4.1</td>\n    </tr>\n    <tr>\n      <th>31</th>\n      <td>Austria</td>\n      <td>2.6</td>\n      <td>2.1</td>\n      <td>1.5</td>\n      <td>0.8</td>\n      <td>1</td>\n      <td>2.2</td>\n      <td>2.1</td>\n      <td>1.5</td>\n      <td>1.4</td>\n      <td>2.8</td>\n      <td>8.6</td>\n      <td>7.7</td>\n    </tr>\n    <tr>\n      <th>32</th>\n      <td>Poland</td>\n      <td>3.7</td>\n      <td>0.8</td>\n      <td>0.1</td>\n      <td>-0.7</td>\n      <td>-0.2</td>\n      <td>1.6</td>\n      <td>1.2</td>\n      <td>2.1</td>\n      <td>3.7</td>\n      <td>5.2</td>\n      <td>13.2</td>\n      <td>10.9</td>\n    </tr>\n    <tr>\n      <th>33</th>\n      <td>Portugal</td>\n      <td>2.8</td>\n      <td>0.4</td>\n      <td>-0.2</td>\n      <td>0.5</td>\n      <td>0.6</td>\n      <td>1.6</td>\n      <td>1.2</td>\n      <td>0.3</td>\n      <td>-0.1</td>\n      <td>0.9</td>\n      <td>8.1</td>\n      <td>5.3</td>\n    </tr>\n    <tr>\n      <th>34</th>\n      <td>Romania</td>\n      <td>3.4</td>\n      <td>3.2</td>\n      <td>1.4</td>\n      <td>-0.4</td>\n      <td>-1.1</td>\n      <td>1.1</td>\n      <td>4.1</td>\n      <td>3.9</td>\n      <td>2.3</td>\n      <td>4.1</td>\n      <td>12</td>\n      <td>9.7</td>\n    </tr>\n    <tr>\n      <th>35</th>\n      <td>Slovenia</td>\n      <td>2.8</td>\n      <td>1.9</td>\n      <td>0.4</td>\n      <td>-0.8</td>\n      <td>-0.2</td>\n      <td>1.6</td>\n      <td>1.9</td>\n      <td>1.7</td>\n      <td>-0.3</td>\n      <td>2</td>\n      <td>9.3</td>\n      <td>7.2</td>\n    </tr>\n    <tr>\n      <th>36</th>\n      <td>Slovakia</td>\n      <td>3.7</td>\n      <td>1.5</td>\n      <td>-0.1</td>\n      <td>-0.3</td>\n      <td>-0.5</td>\n      <td>1.4</td>\n      <td>2.5</td>\n      <td>2.8</td>\n      <td>2</td>\n      <td>2.8</td>\n      <td>12.1</td>\n      <td>11</td>\n    </tr>\n    <tr>\n      <th>37</th>\n      <td>Finland</td>\n      <td>3.2</td>\n      <td>2.2</td>\n      <td>1.2</td>\n      <td>-0.2</td>\n      <td>0.4</td>\n      <td>0.8</td>\n      <td>1.2</td>\n      <td>1.1</td>\n      <td>0.4</td>\n      <td>2.1</td>\n      <td>7.2</td>\n      <td>4.3</td>\n    </tr>\n    <tr>\n      <th>38</th>\n      <td>Sweden</td>\n      <td>0.9</td>\n      <td>0.4</td>\n      <td>0.2</td>\n      <td>0.7</td>\n      <td>1.1</td>\n      <td>1.9</td>\n      <td>2</td>\n      <td>1.7</td>\n      <td>0.7</td>\n      <td>2.7</td>\n      <td>8.1</td>\n      <td>5.9</td>\n    </tr>\n    <tr>\n      <th>39</th>\n      <td>Iceland</td>\n      <td>6</td>\n      <td>4.1</td>\n      <td>1</td>\n      <td>0.3</td>\n      <td>0.8</td>\n      <td>-1.7</td>\n      <td>0.7</td>\n      <td>2</td>\n      <td>1.2</td>\n      <td>3.7</td>\n      <td>5.7</td>\n      <td>8</td>\n    </tr>\n    <tr>\n      <th>40</th>\n      <td>Liechtenstein</td>\n      <td>:</td>\n      <td>:</td>\n      <td>:</td>\n      <td>:</td>\n      <td>:</td>\n      <td>:</td>\n      <td>:</td>\n      <td>:</td>\n      <td>:</td>\n      <td>:</td>\n      <td>:</td>\n      <td>:</td>\n    </tr>\n    <tr>\n      <th>41</th>\n      <td>Norway</td>\n      <td>0.4</td>\n      <td>2</td>\n      <td>1.9</td>\n      <td>2</td>\n      <td>3.9</td>\n      <td>1.9</td>\n      <td>3</td>\n      <td>2.3</td>\n      <td>1.2</td>\n      <td>3.9</td>\n      <td>6.2</td>\n      <td>5.8</td>\n    </tr>\n    <tr>\n      <th>42</th>\n      <td>Switzerland</td>\n      <td>-0.7</td>\n      <td>0.1</td>\n      <td>0</td>\n      <td>-0.8</td>\n      <td>-0.5</td>\n      <td>0.6</td>\n      <td>0.9</td>\n      <td>0.4</td>\n      <td>-0.8</td>\n      <td>0.5</td>\n      <td>2.7</td>\n      <td>2.3</td>\n    </tr>\n    <tr>\n      <th>43</th>\n      <td>United Kingdom</td>\n      <td>2.8</td>\n      <td>2.6</td>\n      <td>1.5</td>\n      <td>0</td>\n      <td>0.7</td>\n      <td>2.7</td>\n      <td>2.5</td>\n      <td>1.8</td>\n      <td>:</td>\n      <td>:</td>\n      <td>:</td>\n      <td>:</td>\n    </tr>\n    <tr>\n      <th>44</th>\n      <td>Montenegro</td>\n      <td>:</td>\n      <td>:</td>\n      <td>:</td>\n      <td>:</td>\n      <td>-0.1</td>\n      <td>2.7</td>\n      <td>2.6</td>\n      <td>0.5</td>\n      <td>-0.5</td>\n      <td>2.5</td>\n      <td>11.9</td>\n      <td>8.7</td>\n    </tr>\n    <tr>\n      <th>45</th>\n      <td>North Macedonia</td>\n      <td>1.8</td>\n      <td>2.7</td>\n      <td>0</td>\n      <td>0.1</td>\n      <td>0.2</td>\n      <td>2.1</td>\n      <td>2.3</td>\n      <td>0.7</td>\n      <td>1.2</td>\n      <td>3.4</td>\n      <td>14</td>\n      <td>9</td>\n    </tr>\n    <tr>\n      <th>46</th>\n      <td>Albania</td>\n      <td>:</td>\n      <td>:</td>\n      <td>:</td>\n      <td>:</td>\n      <td>:</td>\n      <td>3.2</td>\n      <td>1.8</td>\n      <td>1.7</td>\n      <td>2.2</td>\n      <td>2.3</td>\n      <td>6.6</td>\n      <td>5.3</td>\n    </tr>\n    <tr>\n      <th>47</th>\n      <td>Serbia</td>\n      <td>7.4</td>\n      <td>7.7</td>\n      <td>2.3</td>\n      <td>1.5</td>\n      <td>1.3</td>\n      <td>3.3</td>\n      <td>2</td>\n      <td>1.9</td>\n      <td>1.8</td>\n      <td>4</td>\n      <td>11.7</td>\n      <td>12.1</td>\n    </tr>\n    <tr>\n      <th>48</th>\n      <td>Türkiye</td>\n      <td>9</td>\n      <td>7.5</td>\n      <td>8.9</td>\n      <td>7.7</td>\n      <td>7.7</td>\n      <td>11.1</td>\n      <td>16.3</td>\n      <td>15.2</td>\n      <td>12.3</td>\n      <td>19.6</td>\n      <td>72.3</td>\n      <td>54</td>\n    </tr>\n    <tr>\n      <th>49</th>\n      <td>Kosovo*</td>\n      <td>:</td>\n      <td>:</td>\n      <td>:</td>\n      <td>:</td>\n      <td>:</td>\n      <td>1.5</td>\n      <td>1.1</td>\n      <td>2.7</td>\n      <td>0.2</td>\n      <td>3.4</td>\n      <td>11.6</td>\n      <td>4.9</td>\n    </tr>\n    <tr>\n      <th>50</th>\n      <td>United States</td>\n      <td>2.1</td>\n      <td>1.2</td>\n      <td>1.3</td>\n      <td>-0.8</td>\n      <td>0.6</td>\n      <td>1.8</td>\n      <td>2.2</td>\n      <td>1.4</td>\n      <td>0.8</td>\n      <td>5.3</td>\n      <td>8.7</td>\n      <td>3</td>\n    </tr>\n  </tbody>\n</table>\n</div>"
     },
     "execution_count": 22,
     "metadata": {},
     "output_type": "execute_result"
    }
   ],
   "source": [
    "dataset_overall_inflation"
   ],
   "metadata": {
    "collapsed": false
   }
  },
  {
   "cell_type": "code",
   "execution_count": 24,
   "outputs": [],
   "source": [
    "dataset_overall_inflation = dataset_overall_inflation.melt(id_vars=['Area'], var_name='Year', value_name='Overall Inflation Rate')"
   ],
   "metadata": {
    "collapsed": false
   }
  },
  {
   "cell_type": "code",
   "execution_count": 23,
   "outputs": [],
   "source": [],
   "metadata": {
    "collapsed": false
   }
  }
 ],
 "metadata": {
  "kernelspec": {
   "display_name": "Python 3",
   "language": "python",
   "name": "python3"
  },
  "language_info": {
   "codemirror_mode": {
    "name": "ipython",
    "version": 2
   },
   "file_extension": ".py",
   "mimetype": "text/x-python",
   "name": "python",
   "nbconvert_exporter": "python",
   "pygments_lexer": "ipython2",
   "version": "2.7.6"
  }
 },
 "nbformat": 4,
 "nbformat_minor": 0
}
